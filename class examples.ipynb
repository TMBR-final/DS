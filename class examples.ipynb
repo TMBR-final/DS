{
 "cells": [
  {
   "cell_type": "code",
   "execution_count": 1,
   "metadata": {},
   "outputs": [
    {
     "name": "stderr",
     "output_type": "stream",
     "text": [
      "/Applications/anaconda_dist/anaconda3/lib/python3.7/site-packages/statsmodels/tools/_testing.py:19: FutureWarning: pandas.util.testing is deprecated. Use the functions in the public API at pandas.testing instead.\n",
      "  import pandas.util.testing as tm\n"
     ]
    }
   ],
   "source": [
    "import numpy as np\n",
    "import matplotlib.pyplot as plt\n",
    "import scipy as sc\n",
    "import pandas as pd\n",
    "import seaborn as sb"
   ]
  },
  {
   "cell_type": "code",
   "execution_count": 8,
   "metadata": {},
   "outputs": [],
   "source": [
    "#!pip install --upgrade seaborn"
   ]
  },
  {
   "cell_type": "code",
   "execution_count": 17,
   "metadata": {},
   "outputs": [],
   "source": [
    "arr1 = np.array([1,2,3,4,5])\n",
    "arr2 = np.array([23,41,19,30,70])\n",
    "arr = np.linspace(2.0, 3.0, num=5)"
   ]
  },
  {
   "cell_type": "code",
   "execution_count": 18,
   "metadata": {},
   "outputs": [
    {
     "data": {
      "text/plain": [
       "array([2.  , 2.25, 2.5 , 2.75, 3.  ])"
      ]
     },
     "execution_count": 18,
     "metadata": {},
     "output_type": "execute_result"
    }
   ],
   "source": [
    "arr"
   ]
  },
  {
   "cell_type": "code",
   "execution_count": 16,
   "metadata": {},
   "outputs": [],
   "source": [
    "#np.linalg.solve?\n",
    "#help(np.linalg)"
   ]
  },
  {
   "cell_type": "code",
   "execution_count": 19,
   "metadata": {},
   "outputs": [
    {
     "data": {
      "text/plain": [
       "[<matplotlib.lines.Line2D at 0x7fe678607b38>]"
      ]
     },
     "execution_count": 19,
     "metadata": {},
     "output_type": "execute_result"
    },
    {
     "data": {
      "image/png": "[encoded data removed]",
      "text/plain": [
       "<Figure size 432x288 with 1 Axes>"
      ]
     },
     "metadata": {
      "needs_background": "light"
     },
     "output_type": "display_data"
    }
   ],
   "source": [
    "plt.plot(arr1,arr2)"
   ]
  },
  {
   "cell_type": "code",
   "execution_count": 20,
   "metadata": {},
   "outputs": [
    {
     "data": {
      "text/plain": [
       "<BarContainer object of 5 artists>"
      ]
     },
     "execution_count": 20,
     "metadata": {},
     "output_type": "execute_result"
    },
    {
     "data": {
      "image/png": "[encoded data removed]",
      "text/plain": [
       "<Figure size 432x288 with 1 Axes>"
      ]
     },
     "metadata": {
      "needs_background": "light"
     },
     "output_type": "display_data"
    }
   ],
   "source": [
    "plt.bar(arr1,arr2)"
   ]
  },
  {
   "cell_type": "code",
   "execution_count": 19,
   "metadata": {},
   "outputs": [],
   "source": [
    "df = pd.read_csv('./pandas/pupils.csv')"
   ]
  },
  {
   "cell_type": "code",
   "execution_count": 20,
   "metadata": {},
   "outputs": [
    {
     "data": {
      "text/html": [
       "<div>\n",
       "<style scoped>\n",
       "    .dataframe tbody tr th:only-of-type {\n",
       "        vertical-align: middle;\n",
       "    }\n",
       "\n",
       "    .dataframe tbody tr th {\n",
       "        vertical-align: top;\n",
       "    }\n",
       "\n",
       "    .dataframe thead th {\n",
       "        text-align: right;\n",
       "    }\n",
       "</style>\n",
       "<table border=\"1\" class=\"dataframe\">\n",
       "  <thead>\n",
       "    <tr style=\"text-align: right;\">\n",
       "      <th></th>\n",
       "      <th>Name</th>\n",
       "      <th>Age</th>\n",
       "      <th>Country</th>\n",
       "      <th>Height</th>\n",
       "      <th>Weight</th>\n",
       "      <th>avg</th>\n",
       "      <th>income</th>\n",
       "      <th>rooms</th>\n",
       "      <th>family</th>\n",
       "      <th>type</th>\n",
       "      <th>gen</th>\n",
       "    </tr>\n",
       "  </thead>\n",
       "  <tbody>\n",
       "    <tr>\n",
       "      <th>0</th>\n",
       "      <td>adar</td>\n",
       "      <td>6</td>\n",
       "      <td>SP</td>\n",
       "      <td>113</td>\n",
       "      <td>30</td>\n",
       "      <td>70</td>\n",
       "      <td>16700</td>\n",
       "      <td>7</td>\n",
       "      <td>6</td>\n",
       "      <td>1</td>\n",
       "      <td>M</td>\n",
       "    </tr>\n",
       "    <tr>\n",
       "      <th>1</th>\n",
       "      <td>agam</td>\n",
       "      <td>6</td>\n",
       "      <td>GR</td>\n",
       "      <td>172</td>\n",
       "      <td>71</td>\n",
       "      <td>92</td>\n",
       "      <td>9200</td>\n",
       "      <td>5</td>\n",
       "      <td>4</td>\n",
       "      <td>2</td>\n",
       "      <td>F</td>\n",
       "    </tr>\n",
       "    <tr>\n",
       "      <th>2</th>\n",
       "      <td>avi</td>\n",
       "      <td>7</td>\n",
       "      <td>ISR</td>\n",
       "      <td>143</td>\n",
       "      <td>58</td>\n",
       "      <td>82</td>\n",
       "      <td>12000</td>\n",
       "      <td>3</td>\n",
       "      <td>7</td>\n",
       "      <td>1</td>\n",
       "      <td>M</td>\n",
       "    </tr>\n",
       "    <tr>\n",
       "      <th>3</th>\n",
       "      <td>dani</td>\n",
       "      <td>7</td>\n",
       "      <td>US</td>\n",
       "      <td>160</td>\n",
       "      <td>70</td>\n",
       "      <td>90</td>\n",
       "      <td>15000</td>\n",
       "      <td>4</td>\n",
       "      <td>4</td>\n",
       "      <td>2</td>\n",
       "      <td>M</td>\n",
       "    </tr>\n",
       "    <tr>\n",
       "      <th>4</th>\n",
       "      <td>dina</td>\n",
       "      <td>7</td>\n",
       "      <td>ISR</td>\n",
       "      <td>110</td>\n",
       "      <td>26</td>\n",
       "      <td>64</td>\n",
       "      <td>10000</td>\n",
       "      <td>6</td>\n",
       "      <td>8</td>\n",
       "      <td>1</td>\n",
       "      <td>F</td>\n",
       "    </tr>\n",
       "  </tbody>\n",
       "</table>\n",
       "</div>"
      ],
      "text/plain": [
       "   Name  Age Country  Height  Weight  avg  income  rooms  family  type gen\n",
       "0  adar    6      SP     113      30   70   16700      7       6     1   M\n",
       "1  agam    6      GR     172      71   92    9200      5       4     2   F\n",
       "2   avi    7     ISR     143      58   82   12000      3       7     1   M\n",
       "3  dani    7      US     160      70   90   15000      4       4     2   M\n",
       "4  dina    7     ISR     110      26   64   10000      6       8     1   F"
      ]
     },
     "execution_count": 20,
     "metadata": {},
     "output_type": "execute_result"
    }
   ],
   "source": [
    "df.head()"
   ]
  },
  {
   "cell_type": "code",
   "execution_count": 6,
   "metadata": {},
   "outputs": [
    {
     "name": "stdout",
     "output_type": "stream",
     "text": [
      "<class 'pandas.core.frame.DataFrame'>\n",
      "RangeIndex: 30 entries, 0 to 29\n",
      "Data columns (total 11 columns):\n",
      " #   Column   Non-Null Count  Dtype \n",
      "---  ------   --------------  ----- \n",
      " 0   Name     30 non-null     object\n",
      " 1   Age      30 non-null     int64 \n",
      " 2   Country  30 non-null     object\n",
      " 3   Height   30 non-null     int64 \n",
      " 4   Weight   30 non-null     int64 \n",
      " 5   avg      30 non-null     int64 \n",
      " 6   income   30 non-null     int64 \n",
      " 7   rooms    30 non-null     int64 \n",
      " 8   family   30 non-null     int64 \n",
      " 9   type     30 non-null     int64 \n",
      " 10  gen      30 non-null     object\n",
      "dtypes: int64(8), object(3)\n",
      "memory usage: 2.7+ KB\n"
     ]
    }
   ],
   "source": [
    "df.info()"
   ]
  },
  {
   "cell_type": "code",
   "execution_count": 7,
   "metadata": {},
   "outputs": [
    {
     "data": {
      "text/html": [
       "<div>\n",
       "<style scoped>\n",
       "    .dataframe tbody tr th:only-of-type {\n",
       "        vertical-align: middle;\n",
       "    }\n",
       "\n",
       "    .dataframe tbody tr th {\n",
       "        vertical-align: top;\n",
       "    }\n",
       "\n",
       "    .dataframe thead th {\n",
       "        text-align: right;\n",
       "    }\n",
       "</style>\n",
       "<table border=\"1\" class=\"dataframe\">\n",
       "  <thead>\n",
       "    <tr style=\"text-align: right;\">\n",
       "      <th></th>\n",
       "      <th>Age</th>\n",
       "      <th>Height</th>\n",
       "      <th>Weight</th>\n",
       "      <th>avg</th>\n",
       "      <th>income</th>\n",
       "      <th>rooms</th>\n",
       "      <th>family</th>\n",
       "      <th>type</th>\n",
       "    </tr>\n",
       "  </thead>\n",
       "  <tbody>\n",
       "    <tr>\n",
       "      <th>count</th>\n",
       "      <td>30.000000</td>\n",
       "      <td>30.000000</td>\n",
       "      <td>30.000000</td>\n",
       "      <td>30.000000</td>\n",
       "      <td>30.000000</td>\n",
       "      <td>30.000000</td>\n",
       "      <td>30.000000</td>\n",
       "      <td>30.000000</td>\n",
       "    </tr>\n",
       "    <tr>\n",
       "      <th>mean</th>\n",
       "      <td>9.433333</td>\n",
       "      <td>137.266667</td>\n",
       "      <td>51.500000</td>\n",
       "      <td>80.500000</td>\n",
       "      <td>20096.666667</td>\n",
       "      <td>4.366667</td>\n",
       "      <td>5.833333</td>\n",
       "      <td>1.833333</td>\n",
       "    </tr>\n",
       "    <tr>\n",
       "      <th>std</th>\n",
       "      <td>2.207875</td>\n",
       "      <td>26.286136</td>\n",
       "      <td>18.104581</td>\n",
       "      <td>7.942683</td>\n",
       "      <td>11943.270601</td>\n",
       "      <td>1.629117</td>\n",
       "      <td>1.743626</td>\n",
       "      <td>0.833908</td>\n",
       "    </tr>\n",
       "    <tr>\n",
       "      <th>min</th>\n",
       "      <td>6.000000</td>\n",
       "      <td>90.000000</td>\n",
       "      <td>26.000000</td>\n",
       "      <td>64.000000</td>\n",
       "      <td>7600.000000</td>\n",
       "      <td>2.000000</td>\n",
       "      <td>3.000000</td>\n",
       "      <td>1.000000</td>\n",
       "    </tr>\n",
       "    <tr>\n",
       "      <th>25%</th>\n",
       "      <td>8.000000</td>\n",
       "      <td>113.500000</td>\n",
       "      <td>34.000000</td>\n",
       "      <td>74.000000</td>\n",
       "      <td>11175.000000</td>\n",
       "      <td>3.000000</td>\n",
       "      <td>4.250000</td>\n",
       "      <td>1.000000</td>\n",
       "    </tr>\n",
       "    <tr>\n",
       "      <th>50%</th>\n",
       "      <td>9.000000</td>\n",
       "      <td>132.000000</td>\n",
       "      <td>53.000000</td>\n",
       "      <td>82.000000</td>\n",
       "      <td>17650.000000</td>\n",
       "      <td>4.500000</td>\n",
       "      <td>6.000000</td>\n",
       "      <td>2.000000</td>\n",
       "    </tr>\n",
       "    <tr>\n",
       "      <th>75%</th>\n",
       "      <td>11.000000</td>\n",
       "      <td>158.000000</td>\n",
       "      <td>65.500000</td>\n",
       "      <td>85.750000</td>\n",
       "      <td>23750.000000</td>\n",
       "      <td>5.750000</td>\n",
       "      <td>7.000000</td>\n",
       "      <td>2.750000</td>\n",
       "    </tr>\n",
       "    <tr>\n",
       "      <th>max</th>\n",
       "      <td>14.000000</td>\n",
       "      <td>192.000000</td>\n",
       "      <td>90.000000</td>\n",
       "      <td>94.000000</td>\n",
       "      <td>54100.000000</td>\n",
       "      <td>7.000000</td>\n",
       "      <td>10.000000</td>\n",
       "      <td>3.000000</td>\n",
       "    </tr>\n",
       "  </tbody>\n",
       "</table>\n",
       "</div>"
      ],
      "text/plain": [
       "             Age      Height     Weight        avg        income      rooms  \\\n",
       "count  30.000000   30.000000  30.000000  30.000000     30.000000  30.000000   \n",
       "mean    9.433333  137.266667  51.500000  80.500000  20096.666667   4.366667   \n",
       "std     2.207875   26.286136  18.104581   7.942683  11943.270601   1.629117   \n",
       "min     6.000000   90.000000  26.000000  64.000000   7600.000000   2.000000   \n",
       "25%     8.000000  113.500000  34.000000  74.000000  11175.000000   3.000000   \n",
       "50%     9.000000  132.000000  53.000000  82.000000  17650.000000   4.500000   \n",
       "75%    11.000000  158.000000  65.500000  85.750000  23750.000000   5.750000   \n",
       "max    14.000000  192.000000  90.000000  94.000000  54100.000000   7.000000   \n",
       "\n",
       "          family       type  \n",
       "count  30.000000  30.000000  \n",
       "mean    5.833333   1.833333  \n",
       "std     1.743626   0.833908  \n",
       "min     3.000000   1.000000  \n",
       "25%     4.250000   1.000000  \n",
       "50%     6.000000   2.000000  \n",
       "75%     7.000000   2.750000  \n",
       "max    10.000000   3.000000  "
      ]
     },
     "execution_count": 7,
     "metadata": {},
     "output_type": "execute_result"
    }
   ],
   "source": [
    "df.describe()"
   ]
  },
  {
   "cell_type": "code",
   "execution_count": 8,
   "metadata": {},
   "outputs": [
    {
     "data": {
      "text/plain": [
       "9.433333333333334"
      ]
     },
     "execution_count": 8,
     "metadata": {},
     "output_type": "execute_result"
    }
   ],
   "source": [
    "df.Age.mean()"
   ]
  },
  {
   "cell_type": "code",
   "execution_count": 9,
   "metadata": {},
   "outputs": [
    {
     "data": {
      "text/plain": [
       "9.433333333333334"
      ]
     },
     "execution_count": 9,
     "metadata": {},
     "output_type": "execute_result"
    }
   ],
   "source": [
    "df['Age'].mean()"
   ]
  },
  {
   "cell_type": "code",
   "execution_count": 15,
   "metadata": {},
   "outputs": [],
   "source": [
    "arr = df.Age.values"
   ]
  },
  {
   "cell_type": "code",
   "execution_count": 16,
   "metadata": {},
   "outputs": [
    {
     "data": {
      "text/plain": [
       "array([ 6,  6,  7,  7,  7,  7,  8,  8,  8,  8,  8,  8,  9,  9,  9,  9,  9,\n",
       "       10, 10, 10, 10, 11, 11, 11, 12, 12, 13, 13, 13, 14])"
      ]
     },
     "execution_count": 16,
     "metadata": {},
     "output_type": "execute_result"
    }
   ],
   "source": [
    "arr"
   ]
  },
  {
   "cell_type": "code",
   "execution_count": 17,
   "metadata": {},
   "outputs": [],
   "source": [
    "arr+=10"
   ]
  },
  {
   "cell_type": "code",
   "execution_count": 27,
   "metadata": {},
   "outputs": [
    {
     "data": {
      "text/html": [
       "<div>\n",
       "<style scoped>\n",
       "    .dataframe tbody tr th:only-of-type {\n",
       "        vertical-align: middle;\n",
       "    }\n",
       "\n",
       "    .dataframe tbody tr th {\n",
       "        vertical-align: top;\n",
       "    }\n",
       "\n",
       "    .dataframe thead th {\n",
       "        text-align: right;\n",
       "    }\n",
       "</style>\n",
       "<table border=\"1\" class=\"dataframe\">\n",
       "  <thead>\n",
       "    <tr style=\"text-align: right;\">\n",
       "      <th></th>\n",
       "      <th>Name</th>\n",
       "      <th>Age</th>\n",
       "      <th>Country</th>\n",
       "      <th>Height</th>\n",
       "      <th>Weight</th>\n",
       "      <th>avg</th>\n",
       "      <th>income</th>\n",
       "      <th>rooms</th>\n",
       "      <th>family</th>\n",
       "      <th>type</th>\n",
       "      <th>gen</th>\n",
       "    </tr>\n",
       "  </thead>\n",
       "  <tbody>\n",
       "    <tr>\n",
       "      <th>21</th>\n",
       "      <td>orit</td>\n",
       "      <td>11</td>\n",
       "      <td>ISR</td>\n",
       "      <td>175</td>\n",
       "      <td>73</td>\n",
       "      <td>89</td>\n",
       "      <td>54100</td>\n",
       "      <td>4</td>\n",
       "      <td>3</td>\n",
       "      <td>2</td>\n",
       "      <td>F</td>\n",
       "    </tr>\n",
       "    <tr>\n",
       "      <th>25</th>\n",
       "      <td>tomer</td>\n",
       "      <td>12</td>\n",
       "      <td>FR</td>\n",
       "      <td>128</td>\n",
       "      <td>53</td>\n",
       "      <td>82</td>\n",
       "      <td>45000</td>\n",
       "      <td>5</td>\n",
       "      <td>4</td>\n",
       "      <td>3</td>\n",
       "      <td>M</td>\n",
       "    </tr>\n",
       "    <tr>\n",
       "      <th>26</th>\n",
       "      <td>udi</td>\n",
       "      <td>13</td>\n",
       "      <td>FR</td>\n",
       "      <td>147</td>\n",
       "      <td>55</td>\n",
       "      <td>85</td>\n",
       "      <td>35000</td>\n",
       "      <td>7</td>\n",
       "      <td>6</td>\n",
       "      <td>2</td>\n",
       "      <td>M</td>\n",
       "    </tr>\n",
       "  </tbody>\n",
       "</table>\n",
       "</div>"
      ],
      "text/plain": [
       "     Name  Age Country  Height  Weight  avg  income  rooms  family  type gen\n",
       "21   orit   11     ISR     175      73   89   54100      4       3     2   F\n",
       "25  tomer   12      FR     128      53   82   45000      5       4     3   M\n",
       "26    udi   13      FR     147      55   85   35000      7       6     2   M"
      ]
     },
     "execution_count": 27,
     "metadata": {},
     "output_type": "execute_result"
    }
   ],
   "source": [
    "df[(df.Age > 10) & (df.income > 30000)]"
   ]
  },
  {
   "cell_type": "code",
   "execution_count": 28,
   "metadata": {},
   "outputs": [
    {
     "data": {
      "text/html": [
       "<div>\n",
       "<style scoped>\n",
       "    .dataframe tbody tr th:only-of-type {\n",
       "        vertical-align: middle;\n",
       "    }\n",
       "\n",
       "    .dataframe tbody tr th {\n",
       "        vertical-align: top;\n",
       "    }\n",
       "\n",
       "    .dataframe thead th {\n",
       "        text-align: right;\n",
       "    }\n",
       "</style>\n",
       "<table border=\"1\" class=\"dataframe\">\n",
       "  <thead>\n",
       "    <tr style=\"text-align: right;\">\n",
       "      <th></th>\n",
       "      <th>Name</th>\n",
       "      <th>Age</th>\n",
       "      <th>Country</th>\n",
       "      <th>Height</th>\n",
       "      <th>Weight</th>\n",
       "      <th>avg</th>\n",
       "      <th>income</th>\n",
       "      <th>rooms</th>\n",
       "      <th>family</th>\n",
       "      <th>type</th>\n",
       "      <th>gen</th>\n",
       "    </tr>\n",
       "  </thead>\n",
       "  <tbody>\n",
       "    <tr>\n",
       "      <th>21</th>\n",
       "      <td>orit</td>\n",
       "      <td>11</td>\n",
       "      <td>ISR</td>\n",
       "      <td>175</td>\n",
       "      <td>73</td>\n",
       "      <td>89</td>\n",
       "      <td>54100</td>\n",
       "      <td>4</td>\n",
       "      <td>3</td>\n",
       "      <td>2</td>\n",
       "      <td>F</td>\n",
       "    </tr>\n",
       "    <tr>\n",
       "      <th>25</th>\n",
       "      <td>tomer</td>\n",
       "      <td>12</td>\n",
       "      <td>FR</td>\n",
       "      <td>128</td>\n",
       "      <td>53</td>\n",
       "      <td>82</td>\n",
       "      <td>45000</td>\n",
       "      <td>5</td>\n",
       "      <td>4</td>\n",
       "      <td>3</td>\n",
       "      <td>M</td>\n",
       "    </tr>\n",
       "    <tr>\n",
       "      <th>26</th>\n",
       "      <td>udi</td>\n",
       "      <td>13</td>\n",
       "      <td>FR</td>\n",
       "      <td>147</td>\n",
       "      <td>55</td>\n",
       "      <td>85</td>\n",
       "      <td>35000</td>\n",
       "      <td>7</td>\n",
       "      <td>6</td>\n",
       "      <td>2</td>\n",
       "      <td>M</td>\n",
       "    </tr>\n",
       "  </tbody>\n",
       "</table>\n",
       "</div>"
      ],
      "text/plain": [
       "     Name  Age Country  Height  Weight  avg  income  rooms  family  type gen\n",
       "21   orit   11     ISR     175      73   89   54100      4       3     2   F\n",
       "25  tomer   12      FR     128      53   82   45000      5       4     3   M\n",
       "26    udi   13      FR     147      55   85   35000      7       6     2   M"
      ]
     },
     "execution_count": 28,
     "metadata": {},
     "output_type": "execute_result"
    }
   ],
   "source": [
    "df.query(\"Age > 10 and income > 30000\")"
   ]
  },
  {
   "cell_type": "code",
   "execution_count": 29,
   "metadata": {},
   "outputs": [
    {
     "data": {
      "text/html": [
       "<div>\n",
       "<style scoped>\n",
       "    .dataframe tbody tr th:only-of-type {\n",
       "        vertical-align: middle;\n",
       "    }\n",
       "\n",
       "    .dataframe tbody tr th {\n",
       "        vertical-align: top;\n",
       "    }\n",
       "\n",
       "    .dataframe thead th {\n",
       "        text-align: right;\n",
       "    }\n",
       "</style>\n",
       "<table border=\"1\" class=\"dataframe\">\n",
       "  <thead>\n",
       "    <tr style=\"text-align: right;\">\n",
       "      <th></th>\n",
       "      <th>Name</th>\n",
       "      <th>Age</th>\n",
       "      <th>Country</th>\n",
       "      <th>Height</th>\n",
       "      <th>Weight</th>\n",
       "      <th>avg</th>\n",
       "      <th>income</th>\n",
       "      <th>rooms</th>\n",
       "      <th>family</th>\n",
       "      <th>type</th>\n",
       "      <th>gen</th>\n",
       "    </tr>\n",
       "  </thead>\n",
       "  <tbody>\n",
       "    <tr>\n",
       "      <th>0</th>\n",
       "      <td>adar</td>\n",
       "      <td>6</td>\n",
       "      <td>SP</td>\n",
       "      <td>113</td>\n",
       "      <td>30</td>\n",
       "      <td>70</td>\n",
       "      <td>16700</td>\n",
       "      <td>7</td>\n",
       "      <td>6</td>\n",
       "      <td>1</td>\n",
       "      <td>M</td>\n",
       "    </tr>\n",
       "    <tr>\n",
       "      <th>1</th>\n",
       "      <td>agam</td>\n",
       "      <td>6</td>\n",
       "      <td>GR</td>\n",
       "      <td>172</td>\n",
       "      <td>71</td>\n",
       "      <td>92</td>\n",
       "      <td>9200</td>\n",
       "      <td>5</td>\n",
       "      <td>4</td>\n",
       "      <td>2</td>\n",
       "      <td>F</td>\n",
       "    </tr>\n",
       "    <tr>\n",
       "      <th>2</th>\n",
       "      <td>avi</td>\n",
       "      <td>7</td>\n",
       "      <td>ISR</td>\n",
       "      <td>143</td>\n",
       "      <td>58</td>\n",
       "      <td>82</td>\n",
       "      <td>12000</td>\n",
       "      <td>3</td>\n",
       "      <td>7</td>\n",
       "      <td>1</td>\n",
       "      <td>M</td>\n",
       "    </tr>\n",
       "    <tr>\n",
       "      <th>3</th>\n",
       "      <td>dani</td>\n",
       "      <td>7</td>\n",
       "      <td>US</td>\n",
       "      <td>160</td>\n",
       "      <td>70</td>\n",
       "      <td>90</td>\n",
       "      <td>15000</td>\n",
       "      <td>4</td>\n",
       "      <td>4</td>\n",
       "      <td>2</td>\n",
       "      <td>M</td>\n",
       "    </tr>\n",
       "    <tr>\n",
       "      <th>4</th>\n",
       "      <td>dina</td>\n",
       "      <td>7</td>\n",
       "      <td>ISR</td>\n",
       "      <td>110</td>\n",
       "      <td>26</td>\n",
       "      <td>64</td>\n",
       "      <td>10000</td>\n",
       "      <td>6</td>\n",
       "      <td>8</td>\n",
       "      <td>1</td>\n",
       "      <td>F</td>\n",
       "    </tr>\n",
       "  </tbody>\n",
       "</table>\n",
       "</div>"
      ],
      "text/plain": [
       "   Name  Age Country  Height  Weight  avg  income  rooms  family  type gen\n",
       "0  adar    6      SP     113      30   70   16700      7       6     1   M\n",
       "1  agam    6      GR     172      71   92    9200      5       4     2   F\n",
       "2   avi    7     ISR     143      58   82   12000      3       7     1   M\n",
       "3  dani    7      US     160      70   90   15000      4       4     2   M\n",
       "4  dina    7     ISR     110      26   64   10000      6       8     1   F"
      ]
     },
     "execution_count": 29,
     "metadata": {},
     "output_type": "execute_result"
    }
   ],
   "source": [
    "df.head()"
   ]
  },
  {
   "cell_type": "code",
   "execution_count": 30,
   "metadata": {},
   "outputs": [
    {
     "data": {
      "text/plain": [
       "array(['SP', 'GR', 'ISR', 'US', 'EN', 'FR'], dtype=object)"
      ]
     },
     "execution_count": 30,
     "metadata": {},
     "output_type": "execute_result"
    }
   ],
   "source": [
    "df.Country.unique()"
   ]
  },
  {
   "cell_type": "code",
   "execution_count": 32,
   "metadata": {},
   "outputs": [
    {
     "data": {
      "text/plain": [
       "6"
      ]
     },
     "execution_count": 32,
     "metadata": {},
     "output_type": "execute_result"
    }
   ],
   "source": [
    "df.Country.nunique()"
   ]
  },
  {
   "cell_type": "code",
   "execution_count": 33,
   "metadata": {},
   "outputs": [
    {
     "data": {
      "text/plain": [
       "ISR    10\n",
       "SP      4\n",
       "GR      4\n",
       "US      4\n",
       "EN      4\n",
       "FR      4\n",
       "Name: Country, dtype: int64"
      ]
     },
     "execution_count": 33,
     "metadata": {},
     "output_type": "execute_result"
    }
   ],
   "source": [
    "df.Country.value_counts()"
   ]
  },
  {
   "cell_type": "code",
   "execution_count": 35,
   "metadata": {},
   "outputs": [
    {
     "data": {
      "text/html": [
       "<div>\n",
       "<style scoped>\n",
       "    .dataframe tbody tr th:only-of-type {\n",
       "        vertical-align: middle;\n",
       "    }\n",
       "\n",
       "    .dataframe tbody tr th {\n",
       "        vertical-align: top;\n",
       "    }\n",
       "\n",
       "    .dataframe thead th {\n",
       "        text-align: right;\n",
       "    }\n",
       "</style>\n",
       "<table border=\"1\" class=\"dataframe\">\n",
       "  <thead>\n",
       "    <tr style=\"text-align: right;\">\n",
       "      <th></th>\n",
       "      <th></th>\n",
       "      <th>Age</th>\n",
       "      <th>Height</th>\n",
       "      <th>Weight</th>\n",
       "      <th>avg</th>\n",
       "      <th>income</th>\n",
       "      <th>rooms</th>\n",
       "      <th>family</th>\n",
       "      <th>type</th>\n",
       "    </tr>\n",
       "    <tr>\n",
       "      <th>Country</th>\n",
       "      <th>gen</th>\n",
       "      <th></th>\n",
       "      <th></th>\n",
       "      <th></th>\n",
       "      <th></th>\n",
       "      <th></th>\n",
       "      <th></th>\n",
       "      <th></th>\n",
       "      <th></th>\n",
       "    </tr>\n",
       "  </thead>\n",
       "  <tbody>\n",
       "    <tr>\n",
       "      <th rowspan=\"2\" valign=\"top\">EN</th>\n",
       "      <th>F</th>\n",
       "      <td>9.000000</td>\n",
       "      <td>107.5</td>\n",
       "      <td>32.000000</td>\n",
       "      <td>74.000000</td>\n",
       "      <td>19000.0</td>\n",
       "      <td>3.500000</td>\n",
       "      <td>5.000000</td>\n",
       "      <td>3.000000</td>\n",
       "    </tr>\n",
       "    <tr>\n",
       "      <th>M</th>\n",
       "      <td>10.500000</td>\n",
       "      <td>115.0</td>\n",
       "      <td>33.000000</td>\n",
       "      <td>72.500000</td>\n",
       "      <td>22150.0</td>\n",
       "      <td>3.500000</td>\n",
       "      <td>6.500000</td>\n",
       "      <td>2.500000</td>\n",
       "    </tr>\n",
       "    <tr>\n",
       "      <th rowspan=\"2\" valign=\"top\">FR</th>\n",
       "      <th>F</th>\n",
       "      <td>12.500000</td>\n",
       "      <td>173.5</td>\n",
       "      <td>78.500000</td>\n",
       "      <td>91.000000</td>\n",
       "      <td>11850.0</td>\n",
       "      <td>4.000000</td>\n",
       "      <td>5.000000</td>\n",
       "      <td>1.500000</td>\n",
       "    </tr>\n",
       "    <tr>\n",
       "      <th>M</th>\n",
       "      <td>12.500000</td>\n",
       "      <td>137.5</td>\n",
       "      <td>54.000000</td>\n",
       "      <td>83.500000</td>\n",
       "      <td>40000.0</td>\n",
       "      <td>6.000000</td>\n",
       "      <td>5.000000</td>\n",
       "      <td>2.500000</td>\n",
       "    </tr>\n",
       "    <tr>\n",
       "      <th rowspan=\"2\" valign=\"top\">GR</th>\n",
       "      <th>F</th>\n",
       "      <td>7.500000</td>\n",
       "      <td>152.0</td>\n",
       "      <td>60.000000</td>\n",
       "      <td>87.000000</td>\n",
       "      <td>11000.0</td>\n",
       "      <td>4.500000</td>\n",
       "      <td>4.500000</td>\n",
       "      <td>2.500000</td>\n",
       "    </tr>\n",
       "    <tr>\n",
       "      <th>M</th>\n",
       "      <td>8.500000</td>\n",
       "      <td>141.5</td>\n",
       "      <td>52.000000</td>\n",
       "      <td>82.000000</td>\n",
       "      <td>25450.0</td>\n",
       "      <td>6.500000</td>\n",
       "      <td>7.500000</td>\n",
       "      <td>2.500000</td>\n",
       "    </tr>\n",
       "    <tr>\n",
       "      <th rowspan=\"2\" valign=\"top\">ISR</th>\n",
       "      <th>F</th>\n",
       "      <td>9.200000</td>\n",
       "      <td>151.0</td>\n",
       "      <td>59.000000</td>\n",
       "      <td>82.400000</td>\n",
       "      <td>22940.0</td>\n",
       "      <td>4.200000</td>\n",
       "      <td>4.800000</td>\n",
       "      <td>1.400000</td>\n",
       "    </tr>\n",
       "    <tr>\n",
       "      <th>M</th>\n",
       "      <td>8.200000</td>\n",
       "      <td>141.8</td>\n",
       "      <td>55.400000</td>\n",
       "      <td>81.200000</td>\n",
       "      <td>14860.0</td>\n",
       "      <td>2.800000</td>\n",
       "      <td>6.600000</td>\n",
       "      <td>1.000000</td>\n",
       "    </tr>\n",
       "    <tr>\n",
       "      <th rowspan=\"2\" valign=\"top\">SP</th>\n",
       "      <th>F</th>\n",
       "      <td>9.000000</td>\n",
       "      <td>90.0</td>\n",
       "      <td>27.000000</td>\n",
       "      <td>68.000000</td>\n",
       "      <td>18200.0</td>\n",
       "      <td>6.000000</td>\n",
       "      <td>5.000000</td>\n",
       "      <td>1.000000</td>\n",
       "    </tr>\n",
       "    <tr>\n",
       "      <th>M</th>\n",
       "      <td>10.000000</td>\n",
       "      <td>111.0</td>\n",
       "      <td>32.000000</td>\n",
       "      <td>71.666667</td>\n",
       "      <td>16000.0</td>\n",
       "      <td>5.333333</td>\n",
       "      <td>6.666667</td>\n",
       "      <td>1.000000</td>\n",
       "    </tr>\n",
       "    <tr>\n",
       "      <th rowspan=\"2\" valign=\"top\">US</th>\n",
       "      <th>F</th>\n",
       "      <td>9.666667</td>\n",
       "      <td>139.0</td>\n",
       "      <td>53.666667</td>\n",
       "      <td>81.333333</td>\n",
       "      <td>24600.0</td>\n",
       "      <td>4.666667</td>\n",
       "      <td>7.333333</td>\n",
       "      <td>2.666667</td>\n",
       "    </tr>\n",
       "    <tr>\n",
       "      <th>M</th>\n",
       "      <td>7.000000</td>\n",
       "      <td>160.0</td>\n",
       "      <td>70.000000</td>\n",
       "      <td>90.000000</td>\n",
       "      <td>15000.0</td>\n",
       "      <td>4.000000</td>\n",
       "      <td>4.000000</td>\n",
       "      <td>2.000000</td>\n",
       "    </tr>\n",
       "  </tbody>\n",
       "</table>\n",
       "</div>"
      ],
      "text/plain": [
       "                   Age  Height     Weight        avg   income     rooms  \\\n",
       "Country gen                                                               \n",
       "EN      F     9.000000   107.5  32.000000  74.000000  19000.0  3.500000   \n",
       "        M    10.500000   115.0  33.000000  72.500000  22150.0  3.500000   \n",
       "FR      F    12.500000   173.5  78.500000  91.000000  11850.0  4.000000   \n",
       "        M    12.500000   137.5  54.000000  83.500000  40000.0  6.000000   \n",
       "GR      F     7.500000   152.0  60.000000  87.000000  11000.0  4.500000   \n",
       "        M     8.500000   141.5  52.000000  82.000000  25450.0  6.500000   \n",
       "ISR     F     9.200000   151.0  59.000000  82.400000  22940.0  4.200000   \n",
       "        M     8.200000   141.8  55.400000  81.200000  14860.0  2.800000   \n",
       "SP      F     9.000000    90.0  27.000000  68.000000  18200.0  6.000000   \n",
       "        M    10.000000   111.0  32.000000  71.666667  16000.0  5.333333   \n",
       "US      F     9.666667   139.0  53.666667  81.333333  24600.0  4.666667   \n",
       "        M     7.000000   160.0  70.000000  90.000000  15000.0  4.000000   \n",
       "\n",
       "               family      type  \n",
       "Country gen                      \n",
       "EN      F    5.000000  3.000000  \n",
       "        M    6.500000  2.500000  \n",
       "FR      F    5.000000  1.500000  \n",
       "        M    5.000000  2.500000  \n",
       "GR      F    4.500000  2.500000  \n",
       "        M    7.500000  2.500000  \n",
       "ISR     F    4.800000  1.400000  \n",
       "        M    6.600000  1.000000  \n",
       "SP      F    5.000000  1.000000  \n",
       "        M    6.666667  1.000000  \n",
       "US      F    7.333333  2.666667  \n",
       "        M    4.000000  2.000000  "
      ]
     },
     "execution_count": 35,
     "metadata": {},
     "output_type": "execute_result"
    }
   ],
   "source": [
    "df.groupby(['Country','gen']).mean()"
   ]
  },
  {
   "cell_type": "code",
   "execution_count": 36,
   "metadata": {},
   "outputs": [
    {
     "data": {
      "text/plain": [
       "(array([2., 4., 6., 5., 0., 4., 3., 2., 3., 1.]),\n",
       " array([ 6. ,  6.8,  7.6,  8.4,  9.2, 10. , 10.8, 11.6, 12.4, 13.2, 14. ]),\n",
       " <a list of 10 Patch objects>)"
      ]
     },
     "execution_count": 36,
     "metadata": {},
     "output_type": "execute_result"
    },
    {
     "data": {
      "image/png": "[encoded data removed]",
      "text/plain": [
       "<Figure size 432x288 with 1 Axes>"
      ]
     },
     "metadata": {
      "needs_background": "light"
     },
     "output_type": "display_data"
    }
   ],
   "source": [
    "plt.hist(df.Age)"
   ]
  },
  {
   "cell_type": "code",
   "execution_count": 37,
   "metadata": {},
   "outputs": [
    {
     "data": {
      "text/plain": [
       "<matplotlib.axes._subplots.AxesSubplot at 0x7f892329c470>"
      ]
     },
     "execution_count": 37,
     "metadata": {},
     "output_type": "execute_result"
    },
    {
     "data": {
      "image/png": "[encoded data removed]",
      "text/plain": [
       "<Figure size 432x288 with 1 Axes>"
      ]
     },
     "metadata": {
      "needs_background": "light"
     },
     "output_type": "display_data"
    }
   ],
   "source": [
    "sb.distplot(df.Age)"
   ]
  },
  {
   "cell_type": "code",
   "execution_count": 38,
   "metadata": {},
   "outputs": [],
   "source": [
    "import scipy.stats as st"
   ]
  },
  {
   "cell_type": "code",
   "execution_count": 39,
   "metadata": {},
   "outputs": [],
   "source": [
    "f = st.gaussian_kde(df.Age.values)"
   ]
  },
  {
   "cell_type": "code",
   "execution_count": 41,
   "metadata": {},
   "outputs": [
    {
     "data": {
      "text/plain": [
       "array([0.00622846])"
      ]
     },
     "execution_count": 41,
     "metadata": {},
     "output_type": "execute_result"
    }
   ],
   "source": [
    "f(4)"
   ]
  },
  {
   "cell_type": "code",
   "execution_count": 43,
   "metadata": {},
   "outputs": [],
   "source": [
    "arr = df.income.values"
   ]
  },
  {
   "cell_type": "code",
   "execution_count": 44,
   "metadata": {},
   "outputs": [
    {
     "data": {
      "text/plain": [
       "array([16700,  9200, 12000, 15000, 10000,  8000, 18000,  8900, 19600,\n",
       "        7600, 27000, 24000, 23000, 12800, 20400, 42000, 18200,  9300,\n",
       "       12700, 34500, 18900, 54100, 30000,  8000, 10900, 45000, 35000,\n",
       "       12800, 17300, 22000])"
      ]
     },
     "execution_count": 44,
     "metadata": {},
     "output_type": "execute_result"
    }
   ],
   "source": [
    "arr"
   ]
  },
  {
   "cell_type": "code",
   "execution_count": 45,
   "metadata": {},
   "outputs": [
    {
     "data": {
      "text/plain": [
       "<matplotlib.axes._subplots.AxesSubplot at 0x7f892398ef98>"
      ]
     },
     "execution_count": 45,
     "metadata": {},
     "output_type": "execute_result"
    },
    {
     "data": {
      "image/png": "[encoded data removed]",
      "text/plain": [
       "<Figure size 432x288 with 1 Axes>"
      ]
     },
     "metadata": {
      "needs_background": "light"
     },
     "output_type": "display_data"
    }
   ],
   "source": [
    "sb.distplot(arr)"
   ]
  },
  {
   "cell_type": "code",
   "execution_count": 46,
   "metadata": {},
   "outputs": [],
   "source": [
    "f = st.gaussian_kde(arr)"
   ]
  },
  {
   "cell_type": "code",
   "execution_count": 47,
   "metadata": {},
   "outputs": [
    {
     "data": {
      "text/plain": [
       "array([3.62128102e-05])"
      ]
     },
     "execution_count": 47,
     "metadata": {},
     "output_type": "execute_result"
    }
   ],
   "source": [
    "f(12000)"
   ]
  },
  {
   "cell_type": "code",
   "execution_count": 48,
   "metadata": {},
   "outputs": [],
   "source": [
    "import scipy.integrate as si"
   ]
  },
  {
   "cell_type": "code",
   "execution_count": 54,
   "metadata": {},
   "outputs": [],
   "source": [
    "x = si.quad(f ,10000,12000)"
   ]
  },
  {
   "cell_type": "code",
   "execution_count": 55,
   "metadata": {},
   "outputs": [
    {
     "data": {
      "text/plain": [
       "0.06983615730967624"
      ]
     },
     "execution_count": 55,
     "metadata": {},
     "output_type": "execute_result"
    }
   ],
   "source": [
    "x[0]"
   ]
  },
  {
   "cell_type": "code",
   "execution_count": 57,
   "metadata": {},
   "outputs": [
    {
     "data": {
      "text/plain": [
       "<seaborn.axisgrid.PairGrid at 0x7f8930fcc898>"
      ]
     },
     "execution_count": 57,
     "metadata": {},
     "output_type": "execute_result"
    },
    {
     "data": {
      "image/png": "[encoded data removed]",
      "text/plain": [
       "<Figure size 1484.62x1440 with 72 Axes>"
      ]
     },
     "metadata": {
      "needs_background": "light"
     },
     "output_type": "display_data"
    }
   ],
   "source": [
    "sb.pairplot(df,hue='gen')"
   ]
  },
  {
   "cell_type": "code",
   "execution_count": 58,
   "metadata": {},
   "outputs": [
    {
     "data": {
      "text/html": [
       "<div>\n",
       "<style scoped>\n",
       "    .dataframe tbody tr th:only-of-type {\n",
       "        vertical-align: middle;\n",
       "    }\n",
       "\n",
       "    .dataframe tbody tr th {\n",
       "        vertical-align: top;\n",
       "    }\n",
       "\n",
       "    .dataframe thead th {\n",
       "        text-align: right;\n",
       "    }\n",
       "</style>\n",
       "<table border=\"1\" class=\"dataframe\">\n",
       "  <thead>\n",
       "    <tr style=\"text-align: right;\">\n",
       "      <th></th>\n",
       "      <th>Age</th>\n",
       "      <th>Height</th>\n",
       "      <th>Weight</th>\n",
       "      <th>avg</th>\n",
       "      <th>income</th>\n",
       "      <th>rooms</th>\n",
       "      <th>family</th>\n",
       "      <th>type</th>\n",
       "    </tr>\n",
       "  </thead>\n",
       "  <tbody>\n",
       "    <tr>\n",
       "      <th>Age</th>\n",
       "      <td>1.000000</td>\n",
       "      <td>0.074586</td>\n",
       "      <td>0.118616</td>\n",
       "      <td>0.150426</td>\n",
       "      <td>0.344763</td>\n",
       "      <td>0.040584</td>\n",
       "      <td>-0.052251</td>\n",
       "      <td>0.152952</td>\n",
       "    </tr>\n",
       "    <tr>\n",
       "      <th>Height</th>\n",
       "      <td>0.074586</td>\n",
       "      <td>1.000000</td>\n",
       "      <td>0.974416</td>\n",
       "      <td>0.944887</td>\n",
       "      <td>0.079537</td>\n",
       "      <td>0.006496</td>\n",
       "      <td>-0.060690</td>\n",
       "      <td>-0.056107</td>\n",
       "    </tr>\n",
       "    <tr>\n",
       "      <th>Weight</th>\n",
       "      <td>0.118616</td>\n",
       "      <td>0.974416</td>\n",
       "      <td>1.000000</td>\n",
       "      <td>0.959074</td>\n",
       "      <td>0.091562</td>\n",
       "      <td>-0.084762</td>\n",
       "      <td>-0.125074</td>\n",
       "      <td>-0.065094</td>\n",
       "    </tr>\n",
       "    <tr>\n",
       "      <th>avg</th>\n",
       "      <td>0.150426</td>\n",
       "      <td>0.944887</td>\n",
       "      <td>0.959074</td>\n",
       "      <td>1.000000</td>\n",
       "      <td>0.145275</td>\n",
       "      <td>-0.065290</td>\n",
       "      <td>-0.212886</td>\n",
       "      <td>0.075489</td>\n",
       "    </tr>\n",
       "    <tr>\n",
       "      <th>income</th>\n",
       "      <td>0.344763</td>\n",
       "      <td>0.079537</td>\n",
       "      <td>0.091562</td>\n",
       "      <td>0.145275</td>\n",
       "      <td>1.000000</td>\n",
       "      <td>0.062980</td>\n",
       "      <td>-0.241287</td>\n",
       "      <td>0.360018</td>\n",
       "    </tr>\n",
       "    <tr>\n",
       "      <th>rooms</th>\n",
       "      <td>0.040584</td>\n",
       "      <td>0.006496</td>\n",
       "      <td>-0.084762</td>\n",
       "      <td>-0.065290</td>\n",
       "      <td>0.062980</td>\n",
       "      <td>1.000000</td>\n",
       "      <td>0.289322</td>\n",
       "      <td>0.173446</td>\n",
       "    </tr>\n",
       "    <tr>\n",
       "      <th>family</th>\n",
       "      <td>-0.052251</td>\n",
       "      <td>-0.060690</td>\n",
       "      <td>-0.125074</td>\n",
       "      <td>-0.212886</td>\n",
       "      <td>-0.241287</td>\n",
       "      <td>0.289322</td>\n",
       "      <td>1.000000</td>\n",
       "      <td>-0.043478</td>\n",
       "    </tr>\n",
       "    <tr>\n",
       "      <th>type</th>\n",
       "      <td>0.152952</td>\n",
       "      <td>-0.056107</td>\n",
       "      <td>-0.065094</td>\n",
       "      <td>0.075489</td>\n",
       "      <td>0.360018</td>\n",
       "      <td>0.173446</td>\n",
       "      <td>-0.043478</td>\n",
       "      <td>1.000000</td>\n",
       "    </tr>\n",
       "  </tbody>\n",
       "</table>\n",
       "</div>"
      ],
      "text/plain": [
       "             Age    Height    Weight       avg    income     rooms    family  \\\n",
       "Age     1.000000  0.074586  0.118616  0.150426  0.344763  0.040584 -0.052251   \n",
       "Height  0.074586  1.000000  0.974416  0.944887  0.079537  0.006496 -0.060690   \n",
       "Weight  0.118616  0.974416  1.000000  0.959074  0.091562 -0.084762 -0.125074   \n",
       "avg     0.150426  0.944887  0.959074  1.000000  0.145275 -0.065290 -0.212886   \n",
       "income  0.344763  0.079537  0.091562  0.145275  1.000000  0.062980 -0.241287   \n",
       "rooms   0.040584  0.006496 -0.084762 -0.065290  0.062980  1.000000  0.289322   \n",
       "family -0.052251 -0.060690 -0.125074 -0.212886 -0.241287  0.289322  1.000000   \n",
       "type    0.152952 -0.056107 -0.065094  0.075489  0.360018  0.173446 -0.043478   \n",
       "\n",
       "            type  \n",
       "Age     0.152952  \n",
       "Height -0.056107  \n",
       "Weight -0.065094  \n",
       "avg     0.075489  \n",
       "income  0.360018  \n",
       "rooms   0.173446  \n",
       "family -0.043478  \n",
       "type    1.000000  "
      ]
     },
     "execution_count": 58,
     "metadata": {},
     "output_type": "execute_result"
    }
   ],
   "source": [
    "df.corr()"
   ]
  },
  {
   "cell_type": "code",
   "execution_count": 62,
   "metadata": {},
   "outputs": [
    {
     "data": {
      "text/plain": [
       "0.15042558854984914"
      ]
     },
     "execution_count": 62,
     "metadata": {},
     "output_type": "execute_result"
    }
   ],
   "source": [
    "df.corr()['avg']['Age']"
   ]
  },
  {
   "cell_type": "code",
   "execution_count": 60,
   "metadata": {},
   "outputs": [
    {
     "data": {
      "text/plain": [
       "<matplotlib.axes._subplots.AxesSubplot at 0x7f89425eb9b0>"
      ]
     },
     "execution_count": 60,
     "metadata": {},
     "output_type": "execute_result"
    },
    {
     "data": {
      "image/png": "[encoded data removed]",
      "text/plain": [
       "<Figure size 432x288 with 2 Axes>"
      ]
     },
     "metadata": {
      "needs_background": "light"
     },
     "output_type": "display_data"
    }
   ],
   "source": [
    "sb.heatmap(df.corr(),cmap=\"YlGnBu\")"
   ]
  },
  {
   "cell_type": "code",
   "execution_count": 90,
   "metadata": {},
   "outputs": [
    {
     "data": {
      "text/html": [
       "<div>\n",
       "<style scoped>\n",
       "    .dataframe tbody tr th:only-of-type {\n",
       "        vertical-align: middle;\n",
       "    }\n",
       "\n",
       "    .dataframe tbody tr th {\n",
       "        vertical-align: top;\n",
       "    }\n",
       "\n",
       "    .dataframe thead th {\n",
       "        text-align: right;\n",
       "    }\n",
       "</style>\n",
       "<table border=\"1\" class=\"dataframe\">\n",
       "  <thead>\n",
       "    <tr style=\"text-align: right;\">\n",
       "      <th></th>\n",
       "      <th>Name</th>\n",
       "      <th>Age</th>\n",
       "      <th>Height</th>\n",
       "      <th>Weight</th>\n",
       "      <th>avg</th>\n",
       "      <th>income</th>\n",
       "      <th>rooms</th>\n",
       "      <th>family</th>\n",
       "      <th>type</th>\n",
       "      <th>gen</th>\n",
       "      <th>a1</th>\n",
       "      <th>a2</th>\n",
       "      <th>a3</th>\n",
       "      <th>a4</th>\n",
       "      <th>a5</th>\n",
       "      <th>a6</th>\n",
       "    </tr>\n",
       "  </thead>\n",
       "  <tbody>\n",
       "    <tr>\n",
       "      <th>0</th>\n",
       "      <td>adar</td>\n",
       "      <td>6</td>\n",
       "      <td>113</td>\n",
       "      <td>30</td>\n",
       "      <td>70</td>\n",
       "      <td>16700</td>\n",
       "      <td>7</td>\n",
       "      <td>6</td>\n",
       "      <td>1</td>\n",
       "      <td>M</td>\n",
       "      <td>2783.333333</td>\n",
       "      <td>4</td>\n",
       "      <td>1</td>\n",
       "      <td>NaN</td>\n",
       "      <td>0</td>\n",
       "      <td>100200.0</td>\n",
       "    </tr>\n",
       "    <tr>\n",
       "      <th>1</th>\n",
       "      <td>agam</td>\n",
       "      <td>6</td>\n",
       "      <td>172</td>\n",
       "      <td>71</td>\n",
       "      <td>92</td>\n",
       "      <td>9200</td>\n",
       "      <td>5</td>\n",
       "      <td>4</td>\n",
       "      <td>2</td>\n",
       "      <td>F</td>\n",
       "      <td>2300.000000</td>\n",
       "      <td>4</td>\n",
       "      <td>1</td>\n",
       "      <td>NaN</td>\n",
       "      <td>0</td>\n",
       "      <td>27600.0</td>\n",
       "    </tr>\n",
       "    <tr>\n",
       "      <th>2</th>\n",
       "      <td>avi</td>\n",
       "      <td>7</td>\n",
       "      <td>143</td>\n",
       "      <td>58</td>\n",
       "      <td>82</td>\n",
       "      <td>12000</td>\n",
       "      <td>3</td>\n",
       "      <td>7</td>\n",
       "      <td>1</td>\n",
       "      <td>M</td>\n",
       "      <td>1714.285714</td>\n",
       "      <td>3</td>\n",
       "      <td>0</td>\n",
       "      <td>NaN</td>\n",
       "      <td>0</td>\n",
       "      <td>84000.0</td>\n",
       "    </tr>\n",
       "    <tr>\n",
       "      <th>3</th>\n",
       "      <td>dani</td>\n",
       "      <td>7</td>\n",
       "      <td>160</td>\n",
       "      <td>70</td>\n",
       "      <td>90</td>\n",
       "      <td>15000</td>\n",
       "      <td>4</td>\n",
       "      <td>4</td>\n",
       "      <td>2</td>\n",
       "      <td>M</td>\n",
       "      <td>3750.000000</td>\n",
       "      <td>4</td>\n",
       "      <td>1</td>\n",
       "      <td>NaN</td>\n",
       "      <td>0</td>\n",
       "      <td>52500.0</td>\n",
       "    </tr>\n",
       "    <tr>\n",
       "      <th>4</th>\n",
       "      <td>dina</td>\n",
       "      <td>7</td>\n",
       "      <td>110</td>\n",
       "      <td>26</td>\n",
       "      <td>64</td>\n",
       "      <td>10000</td>\n",
       "      <td>6</td>\n",
       "      <td>8</td>\n",
       "      <td>1</td>\n",
       "      <td>F</td>\n",
       "      <td>1250.000000</td>\n",
       "      <td>4</td>\n",
       "      <td>1</td>\n",
       "      <td>NaN</td>\n",
       "      <td>0</td>\n",
       "      <td>70000.0</td>\n",
       "    </tr>\n",
       "  </tbody>\n",
       "</table>\n",
       "</div>"
      ],
      "text/plain": [
       "   Name  Age  Height  Weight  avg  income  rooms  family  type gen  \\\n",
       "0  adar    6     113      30   70   16700      7       6     1   M   \n",
       "1  agam    6     172      71   92    9200      5       4     2   F   \n",
       "2   avi    7     143      58   82   12000      3       7     1   M   \n",
       "3  dani    7     160      70   90   15000      4       4     2   M   \n",
       "4  dina    7     110      26   64   10000      6       8     1   F   \n",
       "\n",
       "            a1  a2  a3  a4  a5        a6  \n",
       "0  2783.333333   4   1 NaN   0  100200.0  \n",
       "1  2300.000000   4   1 NaN   0   27600.0  \n",
       "2  1714.285714   3   0 NaN   0   84000.0  \n",
       "3  3750.000000   4   1 NaN   0   52500.0  \n",
       "4  1250.000000   4   1 NaN   0   70000.0  "
      ]
     },
     "execution_count": 90,
     "metadata": {},
     "output_type": "execute_result"
    }
   ],
   "source": [
    "df.head()"
   ]
  },
  {
   "cell_type": "code",
   "execution_count": 64,
   "metadata": {},
   "outputs": [],
   "source": [
    "df['a1'] = df.income / df.family"
   ]
  },
  {
   "cell_type": "code",
   "execution_count": 84,
   "metadata": {},
   "outputs": [],
   "source": [
    "df.drop(['a4'] , axis=1,inplace=True)"
   ]
  },
  {
   "cell_type": "code",
   "execution_count": 70,
   "metadata": {},
   "outputs": [],
   "source": [
    "df['a2'] = df.Name.apply(len)"
   ]
  },
  {
   "cell_type": "code",
   "execution_count": 77,
   "metadata": {},
   "outputs": [],
   "source": [
    "def op1(a):\n",
    "    if len(a)>3:\n",
    "        return 1\n",
    "    else:\n",
    "        return 0"
   ]
  },
  {
   "cell_type": "code",
   "execution_count": 78,
   "metadata": {},
   "outputs": [],
   "source": [
    "df['a3'] = df.Name.apply(op1)"
   ]
  },
  {
   "cell_type": "code",
   "execution_count": 88,
   "metadata": {},
   "outputs": [],
   "source": [
    "def op2(a):\n",
    "    return a.Age * a.income / a.type"
   ]
  },
  {
   "cell_type": "code",
   "execution_count": 89,
   "metadata": {},
   "outputs": [],
   "source": [
    "df['a6'] = df.apply(op2,axis=1)"
   ]
  },
  {
   "cell_type": "code",
   "execution_count": 91,
   "metadata": {},
   "outputs": [],
   "source": [
    "df2 = sb.load_dataset('tips')"
   ]
  },
  {
   "cell_type": "code",
   "execution_count": 95,
   "metadata": {},
   "outputs": [
    {
     "name": "stderr",
     "output_type": "stream",
     "text": [
      "/Applications/anaconda_dist/anaconda3/lib/python3.7/site-packages/seaborn/utils.py:384: UserWarning: No parser was explicitly specified, so I'm using the best available HTML parser for this system (\"lxml\"). This usually isn't a problem, but if you run this code on another system, or in a different virtual environment, it may use a different parser and behave differently.\n",
      "\n",
      "The code that caused this warning is on line 384 of the file /Applications/anaconda_dist/anaconda3/lib/python3.7/site-packages/seaborn/utils.py. To get rid of this warning, pass the additional argument 'features=\"lxml\"' to the BeautifulSoup constructor.\n",
      "\n",
      "  gh_list = BeautifulSoup(http)\n"
     ]
    },
    {
     "data": {
      "text/plain": [
       "['anscombe',\n",
       " 'attention',\n",
       " 'brain_networks',\n",
       " 'car_crashes',\n",
       " 'diamonds',\n",
       " 'dots',\n",
       " 'exercise',\n",
       " 'flights',\n",
       " 'fmri',\n",
       " 'gammas',\n",
       " 'iris',\n",
       " 'mpg',\n",
       " 'planets',\n",
       " 'tips',\n",
       " 'titanic']"
      ]
     },
     "execution_count": 95,
     "metadata": {},
     "output_type": "execute_result"
    }
   ],
   "source": [
    "sb.get_dataset_names()"
   ]
  },
  {
   "cell_type": "code",
   "execution_count": 92,
   "metadata": {},
   "outputs": [
    {
     "data": {
      "text/html": [
       "<div>\n",
       "<style scoped>\n",
       "    .dataframe tbody tr th:only-of-type {\n",
       "        vertical-align: middle;\n",
       "    }\n",
       "\n",
       "    .dataframe tbody tr th {\n",
       "        vertical-align: top;\n",
       "    }\n",
       "\n",
       "    .dataframe thead th {\n",
       "        text-align: right;\n",
       "    }\n",
       "</style>\n",
       "<table border=\"1\" class=\"dataframe\">\n",
       "  <thead>\n",
       "    <tr style=\"text-align: right;\">\n",
       "      <th></th>\n",
       "      <th>total_bill</th>\n",
       "      <th>tip</th>\n",
       "      <th>sex</th>\n",
       "      <th>smoker</th>\n",
       "      <th>day</th>\n",
       "      <th>time</th>\n",
       "      <th>size</th>\n",
       "    </tr>\n",
       "  </thead>\n",
       "  <tbody>\n",
       "    <tr>\n",
       "      <th>0</th>\n",
       "      <td>16.99</td>\n",
       "      <td>1.01</td>\n",
       "      <td>Female</td>\n",
       "      <td>No</td>\n",
       "      <td>Sun</td>\n",
       "      <td>Dinner</td>\n",
       "      <td>2</td>\n",
       "    </tr>\n",
       "    <tr>\n",
       "      <th>1</th>\n",
       "      <td>10.34</td>\n",
       "      <td>1.66</td>\n",
       "      <td>Male</td>\n",
       "      <td>No</td>\n",
       "      <td>Sun</td>\n",
       "      <td>Dinner</td>\n",
       "      <td>3</td>\n",
       "    </tr>\n",
       "    <tr>\n",
       "      <th>2</th>\n",
       "      <td>21.01</td>\n",
       "      <td>3.50</td>\n",
       "      <td>Male</td>\n",
       "      <td>No</td>\n",
       "      <td>Sun</td>\n",
       "      <td>Dinner</td>\n",
       "      <td>3</td>\n",
       "    </tr>\n",
       "    <tr>\n",
       "      <th>3</th>\n",
       "      <td>23.68</td>\n",
       "      <td>3.31</td>\n",
       "      <td>Male</td>\n",
       "      <td>No</td>\n",
       "      <td>Sun</td>\n",
       "      <td>Dinner</td>\n",
       "      <td>2</td>\n",
       "    </tr>\n",
       "    <tr>\n",
       "      <th>4</th>\n",
       "      <td>24.59</td>\n",
       "      <td>3.61</td>\n",
       "      <td>Female</td>\n",
       "      <td>No</td>\n",
       "      <td>Sun</td>\n",
       "      <td>Dinner</td>\n",
       "      <td>4</td>\n",
       "    </tr>\n",
       "  </tbody>\n",
       "</table>\n",
       "</div>"
      ],
      "text/plain": [
       "   total_bill   tip     sex smoker  day    time  size\n",
       "0       16.99  1.01  Female     No  Sun  Dinner     2\n",
       "1       10.34  1.66    Male     No  Sun  Dinner     3\n",
       "2       21.01  3.50    Male     No  Sun  Dinner     3\n",
       "3       23.68  3.31    Male     No  Sun  Dinner     2\n",
       "4       24.59  3.61  Female     No  Sun  Dinner     4"
      ]
     },
     "execution_count": 92,
     "metadata": {},
     "output_type": "execute_result"
    }
   ],
   "source": [
    "df2.head()"
   ]
  },
  {
   "cell_type": "code",
   "execution_count": 94,
   "metadata": {},
   "outputs": [
    {
     "name": "stdout",
     "output_type": "stream",
     "text": [
      "<class 'pandas.core.frame.DataFrame'>\n",
      "RangeIndex: 244 entries, 0 to 243\n",
      "Data columns (total 7 columns):\n",
      " #   Column      Non-Null Count  Dtype   \n",
      "---  ------      --------------  -----   \n",
      " 0   total_bill  244 non-null    float64 \n",
      " 1   tip         244 non-null    float64 \n",
      " 2   sex         244 non-null    category\n",
      " 3   smoker      244 non-null    category\n",
      " 4   day         244 non-null    category\n",
      " 5   time        244 non-null    category\n",
      " 6   size        244 non-null    int64   \n",
      "dtypes: category(4), float64(2), int64(1)\n",
      "memory usage: 7.3 KB\n"
     ]
    }
   ],
   "source": [
    "df2.info()"
   ]
  },
  {
   "cell_type": "code",
   "execution_count": null,
   "metadata": {},
   "outputs": [],
   "source": []
  },
  {
   "cell_type": "code",
   "execution_count": null,
   "metadata": {},
   "outputs": [],
   "source": []
  },
  {
   "cell_type": "code",
   "execution_count": null,
   "metadata": {},
   "outputs": [],
   "source": []
  },
  {
   "cell_type": "code",
   "execution_count": null,
   "metadata": {},
   "outputs": [],
   "source": []
  },
  {
   "cell_type": "code",
   "execution_count": null,
   "metadata": {},
   "outputs": [],
   "source": []
  }
 ],
 "metadata": {
  "kernelspec": {
   "display_name": "Python 3",
   "language": "python",
   "name": "python3"
  },
  "language_info": {
   "codemirror_mode": {
    "name": "ipython",
    "version": 3
   },
   "file_extension": ".py",
   "mimetype": "text/x-python",
   "name": "python",
   "nbconvert_exporter": "python",
   "pygments_lexer": "ipython3",
   "version": "3.7.3"
  }
 },
 "nbformat": 4,
 "nbformat_minor": 2
}
