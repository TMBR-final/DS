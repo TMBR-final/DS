{
 "cells": [
  {
   "cell_type": "code",
   "execution_count": 1,
   "metadata": {},
   "outputs": [],
   "source": [
    "import numpy as np"
   ]
  },
  {
   "cell_type": "code",
   "execution_count": 2,
   "metadata": {},
   "outputs": [],
   "source": [
    "ls = [1,2,3,4]"
   ]
  },
  {
   "cell_type": "code",
   "execution_count": 5,
   "metadata": {},
   "outputs": [
    {
     "data": {
      "text/plain": [
       "2"
      ]
     },
     "execution_count": 5,
     "metadata": {},
     "output_type": "execute_result"
    }
   ],
   "source": [
    "ls[1]"
   ]
  },
  {
   "cell_type": "code",
   "execution_count": 6,
   "metadata": {},
   "outputs": [],
   "source": [
    "ls[2]=90"
   ]
  },
  {
   "cell_type": "code",
   "execution_count": 7,
   "metadata": {},
   "outputs": [
    {
     "data": {
      "text/plain": [
       "[1, 2, 90, 4]"
      ]
     },
     "execution_count": 7,
     "metadata": {},
     "output_type": "execute_result"
    }
   ],
   "source": [
    "ls"
   ]
  },
  {
   "cell_type": "code",
   "execution_count": 8,
   "metadata": {},
   "outputs": [],
   "source": [
    "ls[2]='hello'"
   ]
  },
  {
   "cell_type": "code",
   "execution_count": 36,
   "metadata": {},
   "outputs": [
    {
     "data": {
      "text/plain": [
       "[[101, 102], [103, 104]]"
      ]
     },
     "execution_count": 36,
     "metadata": {},
     "output_type": "execute_result"
    }
   ],
   "source": [
    "ls"
   ]
  },
  {
   "cell_type": "code",
   "execution_count": 16,
   "metadata": {},
   "outputs": [],
   "source": [
    "ls = [[1,2],[3,4]]"
   ]
  },
  {
   "cell_type": "code",
   "execution_count": 18,
   "metadata": {},
   "outputs": [
    {
     "data": {
      "text/plain": [
       "[[101, 102], [103, 104]]"
      ]
     },
     "execution_count": 18,
     "metadata": {},
     "output_type": "execute_result"
    }
   ],
   "source": [
    "ls"
   ]
  },
  {
   "cell_type": "code",
   "execution_count": 29,
   "metadata": {},
   "outputs": [
    {
     "data": {
      "text/plain": [
       "array([[33.4,  2. ],\n",
       "       [ 3. ,  4. ]])"
      ]
     },
     "execution_count": 29,
     "metadata": {},
     "output_type": "execute_result"
    }
   ],
   "source": [
    "arr"
   ]
  },
  {
   "cell_type": "code",
   "execution_count": 28,
   "metadata": {},
   "outputs": [],
   "source": [
    "arr[0][0]=33.4"
   ]
  },
  {
   "cell_type": "code",
   "execution_count": 30,
   "metadata": {},
   "outputs": [],
   "source": [
    "arr+=100"
   ]
  },
  {
   "cell_type": "code",
   "execution_count": 31,
   "metadata": {},
   "outputs": [
    {
     "data": {
      "text/plain": [
       "array([[133.4, 102. ],\n",
       "       [103. , 104. ]])"
      ]
     },
     "execution_count": 31,
     "metadata": {},
     "output_type": "execute_result"
    }
   ],
   "source": [
    "arr"
   ]
  },
  {
   "cell_type": "code",
   "execution_count": 37,
   "metadata": {},
   "outputs": [],
   "source": [
    "ls1 = list(range(10000))"
   ]
  },
  {
   "cell_type": "code",
   "execution_count": 38,
   "metadata": {},
   "outputs": [],
   "source": [
    "ls2 = list(range(10000))"
   ]
  },
  {
   "cell_type": "code",
   "execution_count": 39,
   "metadata": {},
   "outputs": [
    {
     "name": "stdout",
     "output_type": "stream",
     "text": [
      "1.65 ms ± 60 µs per loop (mean ± std. dev. of 7 runs, 1000 loops each)\n"
     ]
    }
   ],
   "source": [
    "%%timeit\n",
    "s=0\n",
    "for i in range(10000):\n",
    "   s+=(ls1[i]*ls2[i]) "
   ]
  },
  {
   "cell_type": "code",
   "execution_count": 40,
   "metadata": {},
   "outputs": [],
   "source": [
    "arr1 = np.arange(10000)"
   ]
  },
  {
   "cell_type": "code",
   "execution_count": 41,
   "metadata": {},
   "outputs": [],
   "source": [
    "arr2 = np.arange(10000)"
   ]
  },
  {
   "cell_type": "code",
   "execution_count": 44,
   "metadata": {},
   "outputs": [
    {
     "name": "stdout",
     "output_type": "stream",
     "text": [
      "22.5 µs ± 236 ns per loop (mean ± std. dev. of 7 runs, 10000 loops each)\n"
     ]
    }
   ],
   "source": [
    "%%timeit\n",
    "s = np.sum(arr1*arr2)"
   ]
  },
  {
   "cell_type": "code",
   "execution_count": 50,
   "metadata": {},
   "outputs": [],
   "source": [
    "a1 = np.array([1,2,3,4])\n",
    "a2 = np.array([10,30,70,40])"
   ]
  },
  {
   "cell_type": "code",
   "execution_count": 46,
   "metadata": {},
   "outputs": [
    {
     "data": {
      "text/plain": [
       "array([ 10,  40,  90, 160])"
      ]
     },
     "execution_count": 46,
     "metadata": {},
     "output_type": "execute_result"
    }
   ],
   "source": [
    "a1*a2"
   ]
  },
  {
   "cell_type": "code",
   "execution_count": 47,
   "metadata": {},
   "outputs": [
    {
     "data": {
      "text/plain": [
       "300"
      ]
     },
     "execution_count": 47,
     "metadata": {},
     "output_type": "execute_result"
    }
   ],
   "source": [
    "np.sum(a1*a2)"
   ]
  },
  {
   "cell_type": "code",
   "execution_count": 48,
   "metadata": {},
   "outputs": [],
   "source": [
    "import matplotlib.pyplot as plt"
   ]
  },
  {
   "cell_type": "code",
   "execution_count": 51,
   "metadata": {},
   "outputs": [
    {
     "data": {
      "text/plain": [
       "[<matplotlib.lines.Line2D at 0x7ff060bb60d0>]"
      ]
     },
     "execution_count": 51,
     "metadata": {},
     "output_type": "execute_result"
    },
    {
     "data": {
      "image/png": "[encoded data removed]",
      "text/plain": [
       "<Figure size 432x288 with 1 Axes>"
      ]
     },
     "metadata": {
      "needs_background": "light"
     },
     "output_type": "display_data"
    }
   ],
   "source": [
    "plt.plot(a1,a2)"
   ]
  },
  {
   "cell_type": "code",
   "execution_count": 52,
   "metadata": {},
   "outputs": [
    {
     "data": {
      "text/plain": [
       "<BarContainer object of 4 artists>"
      ]
     },
     "execution_count": 52,
     "metadata": {},
     "output_type": "execute_result"
    },
    {
     "data": {
      "image/png": "[encoded data removed]",
      "text/plain": [
       "<Figure size 432x288 with 1 Axes>"
      ]
     },
     "metadata": {
      "needs_background": "light"
     },
     "output_type": "display_data"
    }
   ],
   "source": [
    "plt.bar(a1,a2)"
   ]
  },
  {
   "cell_type": "code",
   "execution_count": 53,
   "metadata": {},
   "outputs": [
    {
     "data": {
      "text/plain": [
       "<matplotlib.collections.PathCollection at 0x7ff050a286a0>"
      ]
     },
     "execution_count": 53,
     "metadata": {},
     "output_type": "execute_result"
    },
    {
     "data": {
      "image/png": "[encoded data removed]",
      "text/plain": [
       "<Figure size 432x288 with 1 Axes>"
      ]
     },
     "metadata": {
      "needs_background": "light"
     },
     "output_type": "display_data"
    }
   ],
   "source": [
    "plt.scatter(a1,a2)"
   ]
  },
  {
   "cell_type": "code",
   "execution_count": 54,
   "metadata": {},
   "outputs": [
    {
     "data": {
      "text/plain": [
       "([<matplotlib.patches.Wedge at 0x7ff0301559d0>,\n",
       "  <matplotlib.patches.Wedge at 0x7ff090abeaf0>,\n",
       "  <matplotlib.patches.Wedge at 0x7ff090ae0c40>,\n",
       "  <matplotlib.patches.Wedge at 0x7ff03019fdc0>],\n",
       " [Text(1.0461621663333946, 0.3399186987098808, ''),\n",
       "  Text(0.33991867422268784, 1.0461621742897658, ''),\n",
       "  Text(-1.0461621902025062, 0.3399186252483017, ''),\n",
       "  Text(0.3399188211458418, -1.0461621265515308, '')])"
      ]
     },
     "execution_count": 54,
     "metadata": {},
     "output_type": "execute_result"
    },
    {
     "data": {
      "image/png": "[encoded data removed]",
      "text/plain": [
       "<Figure size 432x288 with 1 Axes>"
      ]
     },
     "metadata": {},
     "output_type": "display_data"
    }
   ],
   "source": [
    "plt.pie(a1)"
   ]
  },
  {
   "cell_type": "code",
   "execution_count": 55,
   "metadata": {},
   "outputs": [],
   "source": [
    "import pandas as pd\n",
    "import seaborn as sb"
   ]
  },
  {
   "cell_type": "code",
   "execution_count": 56,
   "metadata": {},
   "outputs": [],
   "source": [
    "df = pd.read_csv('pandas/pupils.csv')"
   ]
  },
  {
   "cell_type": "code",
   "execution_count": 60,
   "metadata": {},
   "outputs": [
    {
     "data": {
      "text/html": [
       "<div>\n",
       "<style scoped>\n",
       "    .dataframe tbody tr th:only-of-type {\n",
       "        vertical-align: middle;\n",
       "    }\n",
       "\n",
       "    .dataframe tbody tr th {\n",
       "        vertical-align: top;\n",
       "    }\n",
       "\n",
       "    .dataframe thead th {\n",
       "        text-align: right;\n",
       "    }\n",
       "</style>\n",
       "<table border=\"1\" class=\"dataframe\">\n",
       "  <thead>\n",
       "    <tr style=\"text-align: right;\">\n",
       "      <th></th>\n",
       "      <th>Name</th>\n",
       "      <th>Age</th>\n",
       "      <th>Country</th>\n",
       "      <th>Height</th>\n",
       "      <th>Weight</th>\n",
       "      <th>avg</th>\n",
       "      <th>income</th>\n",
       "      <th>rooms</th>\n",
       "      <th>family</th>\n",
       "      <th>type</th>\n",
       "      <th>gen</th>\n",
       "    </tr>\n",
       "  </thead>\n",
       "  <tbody>\n",
       "    <tr>\n",
       "      <th>0</th>\n",
       "      <td>adar</td>\n",
       "      <td>6</td>\n",
       "      <td>SP</td>\n",
       "      <td>113</td>\n",
       "      <td>30</td>\n",
       "      <td>70</td>\n",
       "      <td>16700</td>\n",
       "      <td>7</td>\n",
       "      <td>6</td>\n",
       "      <td>1</td>\n",
       "      <td>M</td>\n",
       "    </tr>\n",
       "    <tr>\n",
       "      <th>1</th>\n",
       "      <td>agam</td>\n",
       "      <td>6</td>\n",
       "      <td>GR</td>\n",
       "      <td>172</td>\n",
       "      <td>71</td>\n",
       "      <td>92</td>\n",
       "      <td>9200</td>\n",
       "      <td>5</td>\n",
       "      <td>4</td>\n",
       "      <td>2</td>\n",
       "      <td>F</td>\n",
       "    </tr>\n",
       "    <tr>\n",
       "      <th>2</th>\n",
       "      <td>avi</td>\n",
       "      <td>7</td>\n",
       "      <td>ISR</td>\n",
       "      <td>143</td>\n",
       "      <td>58</td>\n",
       "      <td>82</td>\n",
       "      <td>12000</td>\n",
       "      <td>3</td>\n",
       "      <td>7</td>\n",
       "      <td>1</td>\n",
       "      <td>M</td>\n",
       "    </tr>\n",
       "    <tr>\n",
       "      <th>3</th>\n",
       "      <td>dani</td>\n",
       "      <td>7</td>\n",
       "      <td>US</td>\n",
       "      <td>160</td>\n",
       "      <td>70</td>\n",
       "      <td>90</td>\n",
       "      <td>15000</td>\n",
       "      <td>4</td>\n",
       "      <td>4</td>\n",
       "      <td>2</td>\n",
       "      <td>M</td>\n",
       "    </tr>\n",
       "    <tr>\n",
       "      <th>4</th>\n",
       "      <td>dina</td>\n",
       "      <td>7</td>\n",
       "      <td>ISR</td>\n",
       "      <td>110</td>\n",
       "      <td>26</td>\n",
       "      <td>64</td>\n",
       "      <td>10000</td>\n",
       "      <td>6</td>\n",
       "      <td>8</td>\n",
       "      <td>1</td>\n",
       "      <td>F</td>\n",
       "    </tr>\n",
       "  </tbody>\n",
       "</table>\n",
       "</div>"
      ],
      "text/plain": [
       "   Name  Age Country  Height  Weight  avg  income  rooms  family  type gen\n",
       "0  adar    6      SP     113      30   70   16700      7       6     1   M\n",
       "1  agam    6      GR     172      71   92    9200      5       4     2   F\n",
       "2   avi    7     ISR     143      58   82   12000      3       7     1   M\n",
       "3  dani    7      US     160      70   90   15000      4       4     2   M\n",
       "4  dina    7     ISR     110      26   64   10000      6       8     1   F"
      ]
     },
     "execution_count": 60,
     "metadata": {},
     "output_type": "execute_result"
    }
   ],
   "source": [
    "df.head()"
   ]
  },
  {
   "cell_type": "code",
   "execution_count": 61,
   "metadata": {},
   "outputs": [
    {
     "name": "stdout",
     "output_type": "stream",
     "text": [
      "<class 'pandas.core.frame.DataFrame'>\n",
      "RangeIndex: 30 entries, 0 to 29\n",
      "Data columns (total 11 columns):\n",
      " #   Column   Non-Null Count  Dtype \n",
      "---  ------   --------------  ----- \n",
      " 0   Name     30 non-null     object\n",
      " 1   Age      30 non-null     int64 \n",
      " 2   Country  30 non-null     object\n",
      " 3   Height   30 non-null     int64 \n",
      " 4   Weight   30 non-null     int64 \n",
      " 5   avg      30 non-null     int64 \n",
      " 6   income   30 non-null     int64 \n",
      " 7   rooms    30 non-null     int64 \n",
      " 8   family   30 non-null     int64 \n",
      " 9   type     30 non-null     int64 \n",
      " 10  gen      30 non-null     object\n",
      "dtypes: int64(8), object(3)\n",
      "memory usage: 2.7+ KB\n"
     ]
    }
   ],
   "source": [
    "df.info()"
   ]
  },
  {
   "cell_type": "code",
   "execution_count": 62,
   "metadata": {},
   "outputs": [
    {
     "data": {
      "text/html": [
       "<div>\n",
       "<style scoped>\n",
       "    .dataframe tbody tr th:only-of-type {\n",
       "        vertical-align: middle;\n",
       "    }\n",
       "\n",
       "    .dataframe tbody tr th {\n",
       "        vertical-align: top;\n",
       "    }\n",
       "\n",
       "    .dataframe thead th {\n",
       "        text-align: right;\n",
       "    }\n",
       "</style>\n",
       "<table border=\"1\" class=\"dataframe\">\n",
       "  <thead>\n",
       "    <tr style=\"text-align: right;\">\n",
       "      <th></th>\n",
       "      <th>Age</th>\n",
       "      <th>Height</th>\n",
       "      <th>Weight</th>\n",
       "      <th>avg</th>\n",
       "      <th>income</th>\n",
       "      <th>rooms</th>\n",
       "      <th>family</th>\n",
       "      <th>type</th>\n",
       "    </tr>\n",
       "  </thead>\n",
       "  <tbody>\n",
       "    <tr>\n",
       "      <th>count</th>\n",
       "      <td>30.000000</td>\n",
       "      <td>30.000000</td>\n",
       "      <td>30.000000</td>\n",
       "      <td>30.000000</td>\n",
       "      <td>30.000000</td>\n",
       "      <td>30.000000</td>\n",
       "      <td>30.000000</td>\n",
       "      <td>30.000000</td>\n",
       "    </tr>\n",
       "    <tr>\n",
       "      <th>mean</th>\n",
       "      <td>9.433333</td>\n",
       "      <td>137.266667</td>\n",
       "      <td>51.500000</td>\n",
       "      <td>80.500000</td>\n",
       "      <td>20096.666667</td>\n",
       "      <td>4.366667</td>\n",
       "      <td>5.833333</td>\n",
       "      <td>1.833333</td>\n",
       "    </tr>\n",
       "    <tr>\n",
       "      <th>std</th>\n",
       "      <td>2.207875</td>\n",
       "      <td>26.286136</td>\n",
       "      <td>18.104581</td>\n",
       "      <td>7.942683</td>\n",
       "      <td>11943.270601</td>\n",
       "      <td>1.629117</td>\n",
       "      <td>1.743626</td>\n",
       "      <td>0.833908</td>\n",
       "    </tr>\n",
       "    <tr>\n",
       "      <th>min</th>\n",
       "      <td>6.000000</td>\n",
       "      <td>90.000000</td>\n",
       "      <td>26.000000</td>\n",
       "      <td>64.000000</td>\n",
       "      <td>7600.000000</td>\n",
       "      <td>2.000000</td>\n",
       "      <td>3.000000</td>\n",
       "      <td>1.000000</td>\n",
       "    </tr>\n",
       "    <tr>\n",
       "      <th>25%</th>\n",
       "      <td>8.000000</td>\n",
       "      <td>113.500000</td>\n",
       "      <td>34.000000</td>\n",
       "      <td>74.000000</td>\n",
       "      <td>11175.000000</td>\n",
       "      <td>3.000000</td>\n",
       "      <td>4.250000</td>\n",
       "      <td>1.000000</td>\n",
       "    </tr>\n",
       "    <tr>\n",
       "      <th>50%</th>\n",
       "      <td>9.000000</td>\n",
       "      <td>132.000000</td>\n",
       "      <td>53.000000</td>\n",
       "      <td>82.000000</td>\n",
       "      <td>17650.000000</td>\n",
       "      <td>4.500000</td>\n",
       "      <td>6.000000</td>\n",
       "      <td>2.000000</td>\n",
       "    </tr>\n",
       "    <tr>\n",
       "      <th>75%</th>\n",
       "      <td>11.000000</td>\n",
       "      <td>158.000000</td>\n",
       "      <td>65.500000</td>\n",
       "      <td>85.750000</td>\n",
       "      <td>23750.000000</td>\n",
       "      <td>5.750000</td>\n",
       "      <td>7.000000</td>\n",
       "      <td>2.750000</td>\n",
       "    </tr>\n",
       "    <tr>\n",
       "      <th>max</th>\n",
       "      <td>14.000000</td>\n",
       "      <td>192.000000</td>\n",
       "      <td>90.000000</td>\n",
       "      <td>94.000000</td>\n",
       "      <td>54100.000000</td>\n",
       "      <td>7.000000</td>\n",
       "      <td>10.000000</td>\n",
       "      <td>3.000000</td>\n",
       "    </tr>\n",
       "  </tbody>\n",
       "</table>\n",
       "</div>"
      ],
      "text/plain": [
       "             Age      Height     Weight        avg        income      rooms  \\\n",
       "count  30.000000   30.000000  30.000000  30.000000     30.000000  30.000000   \n",
       "mean    9.433333  137.266667  51.500000  80.500000  20096.666667   4.366667   \n",
       "std     2.207875   26.286136  18.104581   7.942683  11943.270601   1.629117   \n",
       "min     6.000000   90.000000  26.000000  64.000000   7600.000000   2.000000   \n",
       "25%     8.000000  113.500000  34.000000  74.000000  11175.000000   3.000000   \n",
       "50%     9.000000  132.000000  53.000000  82.000000  17650.000000   4.500000   \n",
       "75%    11.000000  158.000000  65.500000  85.750000  23750.000000   5.750000   \n",
       "max    14.000000  192.000000  90.000000  94.000000  54100.000000   7.000000   \n",
       "\n",
       "          family       type  \n",
       "count  30.000000  30.000000  \n",
       "mean    5.833333   1.833333  \n",
       "std     1.743626   0.833908  \n",
       "min     3.000000   1.000000  \n",
       "25%     4.250000   1.000000  \n",
       "50%     6.000000   2.000000  \n",
       "75%     7.000000   2.750000  \n",
       "max    10.000000   3.000000  "
      ]
     },
     "execution_count": 62,
     "metadata": {},
     "output_type": "execute_result"
    }
   ],
   "source": [
    "df.describe()"
   ]
  },
  {
   "cell_type": "code",
   "execution_count": 66,
   "metadata": {},
   "outputs": [
    {
     "data": {
      "text/html": [
       "<div>\n",
       "<style scoped>\n",
       "    .dataframe tbody tr th:only-of-type {\n",
       "        vertical-align: middle;\n",
       "    }\n",
       "\n",
       "    .dataframe tbody tr th {\n",
       "        vertical-align: top;\n",
       "    }\n",
       "\n",
       "    .dataframe thead th {\n",
       "        text-align: right;\n",
       "    }\n",
       "</style>\n",
       "<table border=\"1\" class=\"dataframe\">\n",
       "  <thead>\n",
       "    <tr style=\"text-align: right;\">\n",
       "      <th></th>\n",
       "      <th>Name</th>\n",
       "      <th>Age</th>\n",
       "      <th>Country</th>\n",
       "      <th>Height</th>\n",
       "      <th>Weight</th>\n",
       "      <th>avg</th>\n",
       "      <th>income</th>\n",
       "      <th>rooms</th>\n",
       "      <th>family</th>\n",
       "      <th>type</th>\n",
       "      <th>gen</th>\n",
       "    </tr>\n",
       "  </thead>\n",
       "  <tbody>\n",
       "    <tr>\n",
       "      <th>21</th>\n",
       "      <td>orit</td>\n",
       "      <td>11</td>\n",
       "      <td>ISR</td>\n",
       "      <td>175</td>\n",
       "      <td>73</td>\n",
       "      <td>89</td>\n",
       "      <td>54100</td>\n",
       "      <td>4</td>\n",
       "      <td>3</td>\n",
       "      <td>2</td>\n",
       "      <td>F</td>\n",
       "    </tr>\n",
       "    <tr>\n",
       "      <th>25</th>\n",
       "      <td>tomer</td>\n",
       "      <td>12</td>\n",
       "      <td>FR</td>\n",
       "      <td>128</td>\n",
       "      <td>53</td>\n",
       "      <td>82</td>\n",
       "      <td>45000</td>\n",
       "      <td>5</td>\n",
       "      <td>4</td>\n",
       "      <td>3</td>\n",
       "      <td>M</td>\n",
       "    </tr>\n",
       "    <tr>\n",
       "      <th>26</th>\n",
       "      <td>udi</td>\n",
       "      <td>13</td>\n",
       "      <td>FR</td>\n",
       "      <td>147</td>\n",
       "      <td>55</td>\n",
       "      <td>85</td>\n",
       "      <td>35000</td>\n",
       "      <td>7</td>\n",
       "      <td>6</td>\n",
       "      <td>2</td>\n",
       "      <td>M</td>\n",
       "    </tr>\n",
       "  </tbody>\n",
       "</table>\n",
       "</div>"
      ],
      "text/plain": [
       "     Name  Age Country  Height  Weight  avg  income  rooms  family  type gen\n",
       "21   orit   11     ISR     175      73   89   54100      4       3     2   F\n",
       "25  tomer   12      FR     128      53   82   45000      5       4     3   M\n",
       "26    udi   13      FR     147      55   85   35000      7       6     2   M"
      ]
     },
     "execution_count": 66,
     "metadata": {},
     "output_type": "execute_result"
    }
   ],
   "source": [
    "df[(df.Age > 10) & (df.income > 30000)]"
   ]
  },
  {
   "cell_type": "code",
   "execution_count": 67,
   "metadata": {},
   "outputs": [
    {
     "data": {
      "text/html": [
       "<div>\n",
       "<style scoped>\n",
       "    .dataframe tbody tr th:only-of-type {\n",
       "        vertical-align: middle;\n",
       "    }\n",
       "\n",
       "    .dataframe tbody tr th {\n",
       "        vertical-align: top;\n",
       "    }\n",
       "\n",
       "    .dataframe thead th {\n",
       "        text-align: right;\n",
       "    }\n",
       "</style>\n",
       "<table border=\"1\" class=\"dataframe\">\n",
       "  <thead>\n",
       "    <tr style=\"text-align: right;\">\n",
       "      <th></th>\n",
       "      <th>Name</th>\n",
       "      <th>Age</th>\n",
       "      <th>Country</th>\n",
       "      <th>Height</th>\n",
       "      <th>Weight</th>\n",
       "      <th>avg</th>\n",
       "      <th>income</th>\n",
       "      <th>rooms</th>\n",
       "      <th>family</th>\n",
       "      <th>type</th>\n",
       "      <th>gen</th>\n",
       "    </tr>\n",
       "  </thead>\n",
       "  <tbody>\n",
       "    <tr>\n",
       "      <th>21</th>\n",
       "      <td>orit</td>\n",
       "      <td>11</td>\n",
       "      <td>ISR</td>\n",
       "      <td>175</td>\n",
       "      <td>73</td>\n",
       "      <td>89</td>\n",
       "      <td>54100</td>\n",
       "      <td>4</td>\n",
       "      <td>3</td>\n",
       "      <td>2</td>\n",
       "      <td>F</td>\n",
       "    </tr>\n",
       "    <tr>\n",
       "      <th>25</th>\n",
       "      <td>tomer</td>\n",
       "      <td>12</td>\n",
       "      <td>FR</td>\n",
       "      <td>128</td>\n",
       "      <td>53</td>\n",
       "      <td>82</td>\n",
       "      <td>45000</td>\n",
       "      <td>5</td>\n",
       "      <td>4</td>\n",
       "      <td>3</td>\n",
       "      <td>M</td>\n",
       "    </tr>\n",
       "    <tr>\n",
       "      <th>26</th>\n",
       "      <td>udi</td>\n",
       "      <td>13</td>\n",
       "      <td>FR</td>\n",
       "      <td>147</td>\n",
       "      <td>55</td>\n",
       "      <td>85</td>\n",
       "      <td>35000</td>\n",
       "      <td>7</td>\n",
       "      <td>6</td>\n",
       "      <td>2</td>\n",
       "      <td>M</td>\n",
       "    </tr>\n",
       "  </tbody>\n",
       "</table>\n",
       "</div>"
      ],
      "text/plain": [
       "     Name  Age Country  Height  Weight  avg  income  rooms  family  type gen\n",
       "21   orit   11     ISR     175      73   89   54100      4       3     2   F\n",
       "25  tomer   12      FR     128      53   82   45000      5       4     3   M\n",
       "26    udi   13      FR     147      55   85   35000      7       6     2   M"
      ]
     },
     "execution_count": 67,
     "metadata": {},
     "output_type": "execute_result"
    }
   ],
   "source": [
    "df.query(\"Age > 10 and income > 30000\")"
   ]
  },
  {
   "cell_type": "code",
   "execution_count": 68,
   "metadata": {},
   "outputs": [
    {
     "data": {
      "text/plain": [
       "array(['SP', 'GR', 'ISR', 'US', 'EN', 'FR'], dtype=object)"
      ]
     },
     "execution_count": 68,
     "metadata": {},
     "output_type": "execute_result"
    }
   ],
   "source": [
    "df.Country.unique()"
   ]
  },
  {
   "cell_type": "code",
   "execution_count": 69,
   "metadata": {},
   "outputs": [
    {
     "data": {
      "text/plain": [
       "ISR    10\n",
       "FR      4\n",
       "GR      4\n",
       "EN      4\n",
       "US      4\n",
       "SP      4\n",
       "Name: Country, dtype: int64"
      ]
     },
     "execution_count": 69,
     "metadata": {},
     "output_type": "execute_result"
    }
   ],
   "source": [
    "df.Country.value_counts()"
   ]
  },
  {
   "cell_type": "code",
   "execution_count": 72,
   "metadata": {},
   "outputs": [
    {
     "data": {
      "text/html": [
       "<div>\n",
       "<style scoped>\n",
       "    .dataframe tbody tr th:only-of-type {\n",
       "        vertical-align: middle;\n",
       "    }\n",
       "\n",
       "    .dataframe tbody tr th {\n",
       "        vertical-align: top;\n",
       "    }\n",
       "\n",
       "    .dataframe thead th {\n",
       "        text-align: right;\n",
       "    }\n",
       "</style>\n",
       "<table border=\"1\" class=\"dataframe\">\n",
       "  <thead>\n",
       "    <tr style=\"text-align: right;\">\n",
       "      <th></th>\n",
       "      <th>Age</th>\n",
       "      <th>Height</th>\n",
       "      <th>Weight</th>\n",
       "      <th>avg</th>\n",
       "      <th>income</th>\n",
       "      <th>rooms</th>\n",
       "      <th>family</th>\n",
       "      <th>type</th>\n",
       "    </tr>\n",
       "    <tr>\n",
       "      <th>Country</th>\n",
       "      <th></th>\n",
       "      <th></th>\n",
       "      <th></th>\n",
       "      <th></th>\n",
       "      <th></th>\n",
       "      <th></th>\n",
       "      <th></th>\n",
       "      <th></th>\n",
       "    </tr>\n",
       "  </thead>\n",
       "  <tbody>\n",
       "    <tr>\n",
       "      <th>EN</th>\n",
       "      <td>9.75</td>\n",
       "      <td>111.25</td>\n",
       "      <td>32.50</td>\n",
       "      <td>73.25</td>\n",
       "      <td>20575.0</td>\n",
       "      <td>3.5</td>\n",
       "      <td>5.75</td>\n",
       "      <td>2.75</td>\n",
       "    </tr>\n",
       "    <tr>\n",
       "      <th>FR</th>\n",
       "      <td>12.50</td>\n",
       "      <td>155.50</td>\n",
       "      <td>66.25</td>\n",
       "      <td>87.25</td>\n",
       "      <td>25925.0</td>\n",
       "      <td>5.0</td>\n",
       "      <td>5.00</td>\n",
       "      <td>2.00</td>\n",
       "    </tr>\n",
       "    <tr>\n",
       "      <th>GR</th>\n",
       "      <td>8.00</td>\n",
       "      <td>146.75</td>\n",
       "      <td>56.00</td>\n",
       "      <td>84.50</td>\n",
       "      <td>18225.0</td>\n",
       "      <td>5.5</td>\n",
       "      <td>6.00</td>\n",
       "      <td>2.50</td>\n",
       "    </tr>\n",
       "    <tr>\n",
       "      <th>ISR</th>\n",
       "      <td>8.70</td>\n",
       "      <td>146.40</td>\n",
       "      <td>57.20</td>\n",
       "      <td>81.80</td>\n",
       "      <td>18900.0</td>\n",
       "      <td>3.5</td>\n",
       "      <td>5.70</td>\n",
       "      <td>1.20</td>\n",
       "    </tr>\n",
       "    <tr>\n",
       "      <th>SP</th>\n",
       "      <td>9.75</td>\n",
       "      <td>105.75</td>\n",
       "      <td>30.75</td>\n",
       "      <td>70.75</td>\n",
       "      <td>16550.0</td>\n",
       "      <td>5.5</td>\n",
       "      <td>6.25</td>\n",
       "      <td>1.00</td>\n",
       "    </tr>\n",
       "    <tr>\n",
       "      <th>US</th>\n",
       "      <td>9.00</td>\n",
       "      <td>144.25</td>\n",
       "      <td>57.75</td>\n",
       "      <td>83.50</td>\n",
       "      <td>22200.0</td>\n",
       "      <td>4.5</td>\n",
       "      <td>6.50</td>\n",
       "      <td>2.50</td>\n",
       "    </tr>\n",
       "  </tbody>\n",
       "</table>\n",
       "</div>"
      ],
      "text/plain": [
       "           Age  Height  Weight    avg   income  rooms  family  type\n",
       "Country                                                            \n",
       "EN        9.75  111.25   32.50  73.25  20575.0    3.5    5.75  2.75\n",
       "FR       12.50  155.50   66.25  87.25  25925.0    5.0    5.00  2.00\n",
       "GR        8.00  146.75   56.00  84.50  18225.0    5.5    6.00  2.50\n",
       "ISR       8.70  146.40   57.20  81.80  18900.0    3.5    5.70  1.20\n",
       "SP        9.75  105.75   30.75  70.75  16550.0    5.5    6.25  1.00\n",
       "US        9.00  144.25   57.75  83.50  22200.0    4.5    6.50  2.50"
      ]
     },
     "execution_count": 72,
     "metadata": {},
     "output_type": "execute_result"
    }
   ],
   "source": [
    "df.groupby(['Country']).mean()"
   ]
  },
  {
   "cell_type": "code",
   "execution_count": 73,
   "metadata": {},
   "outputs": [
    {
     "data": {
      "text/html": [
       "<div>\n",
       "<style scoped>\n",
       "    .dataframe tbody tr th:only-of-type {\n",
       "        vertical-align: middle;\n",
       "    }\n",
       "\n",
       "    .dataframe tbody tr th {\n",
       "        vertical-align: top;\n",
       "    }\n",
       "\n",
       "    .dataframe thead th {\n",
       "        text-align: right;\n",
       "    }\n",
       "</style>\n",
       "<table border=\"1\" class=\"dataframe\">\n",
       "  <thead>\n",
       "    <tr style=\"text-align: right;\">\n",
       "      <th></th>\n",
       "      <th>Name</th>\n",
       "      <th>Age</th>\n",
       "      <th>Height</th>\n",
       "      <th>Weight</th>\n",
       "      <th>avg</th>\n",
       "      <th>income</th>\n",
       "      <th>rooms</th>\n",
       "      <th>family</th>\n",
       "      <th>type</th>\n",
       "      <th>gen</th>\n",
       "    </tr>\n",
       "    <tr>\n",
       "      <th>Country</th>\n",
       "      <th></th>\n",
       "      <th></th>\n",
       "      <th></th>\n",
       "      <th></th>\n",
       "      <th></th>\n",
       "      <th></th>\n",
       "      <th></th>\n",
       "      <th></th>\n",
       "      <th></th>\n",
       "      <th></th>\n",
       "    </tr>\n",
       "  </thead>\n",
       "  <tbody>\n",
       "    <tr>\n",
       "      <th>EN</th>\n",
       "      <td>yoav</td>\n",
       "      <td>13</td>\n",
       "      <td>120</td>\n",
       "      <td>36</td>\n",
       "      <td>75</td>\n",
       "      <td>30000</td>\n",
       "      <td>5</td>\n",
       "      <td>8</td>\n",
       "      <td>3</td>\n",
       "      <td>M</td>\n",
       "    </tr>\n",
       "    <tr>\n",
       "      <th>FR</th>\n",
       "      <td>yafit</td>\n",
       "      <td>13</td>\n",
       "      <td>180</td>\n",
       "      <td>90</td>\n",
       "      <td>93</td>\n",
       "      <td>45000</td>\n",
       "      <td>7</td>\n",
       "      <td>6</td>\n",
       "      <td>3</td>\n",
       "      <td>M</td>\n",
       "    </tr>\n",
       "    <tr>\n",
       "      <th>GR</th>\n",
       "      <td>moshe</td>\n",
       "      <td>9</td>\n",
       "      <td>172</td>\n",
       "      <td>71</td>\n",
       "      <td>92</td>\n",
       "      <td>42000</td>\n",
       "      <td>7</td>\n",
       "      <td>10</td>\n",
       "      <td>3</td>\n",
       "      <td>M</td>\n",
       "    </tr>\n",
       "    <tr>\n",
       "      <th>ISR</th>\n",
       "      <td>shely</td>\n",
       "      <td>11</td>\n",
       "      <td>192</td>\n",
       "      <td>88</td>\n",
       "      <td>94</td>\n",
       "      <td>54100</td>\n",
       "      <td>6</td>\n",
       "      <td>8</td>\n",
       "      <td>2</td>\n",
       "      <td>M</td>\n",
       "    </tr>\n",
       "    <tr>\n",
       "      <th>SP</th>\n",
       "      <td>yosi</td>\n",
       "      <td>14</td>\n",
       "      <td>113</td>\n",
       "      <td>34</td>\n",
       "      <td>74</td>\n",
       "      <td>22000</td>\n",
       "      <td>7</td>\n",
       "      <td>8</td>\n",
       "      <td>1</td>\n",
       "      <td>M</td>\n",
       "    </tr>\n",
       "    <tr>\n",
       "      <th>US</th>\n",
       "      <td>orit</td>\n",
       "      <td>10</td>\n",
       "      <td>162</td>\n",
       "      <td>70</td>\n",
       "      <td>90</td>\n",
       "      <td>34500</td>\n",
       "      <td>6</td>\n",
       "      <td>8</td>\n",
       "      <td>3</td>\n",
       "      <td>M</td>\n",
       "    </tr>\n",
       "  </tbody>\n",
       "</table>\n",
       "</div>"
      ],
      "text/plain": [
       "          Name  Age  Height  Weight  avg  income  rooms  family  type gen\n",
       "Country                                                                  \n",
       "EN        yoav   13     120      36   75   30000      5       8     3   M\n",
       "FR       yafit   13     180      90   93   45000      7       6     3   M\n",
       "GR       moshe    9     172      71   92   42000      7      10     3   M\n",
       "ISR      shely   11     192      88   94   54100      6       8     2   M\n",
       "SP        yosi   14     113      34   74   22000      7       8     1   M\n",
       "US        orit   10     162      70   90   34500      6       8     3   M"
      ]
     },
     "execution_count": 73,
     "metadata": {},
     "output_type": "execute_result"
    }
   ],
   "source": [
    "df.groupby(['Country']).max()"
   ]
  },
  {
   "cell_type": "code",
   "execution_count": 74,
   "metadata": {},
   "outputs": [
    {
     "data": {
      "text/html": [
       "<div>\n",
       "<style scoped>\n",
       "    .dataframe tbody tr th:only-of-type {\n",
       "        vertical-align: middle;\n",
       "    }\n",
       "\n",
       "    .dataframe tbody tr th {\n",
       "        vertical-align: top;\n",
       "    }\n",
       "\n",
       "    .dataframe thead th {\n",
       "        text-align: right;\n",
       "    }\n",
       "</style>\n",
       "<table border=\"1\" class=\"dataframe\">\n",
       "  <thead>\n",
       "    <tr style=\"text-align: right;\">\n",
       "      <th></th>\n",
       "      <th></th>\n",
       "      <th>Age</th>\n",
       "      <th>Height</th>\n",
       "      <th>Weight</th>\n",
       "      <th>avg</th>\n",
       "      <th>income</th>\n",
       "      <th>rooms</th>\n",
       "      <th>family</th>\n",
       "      <th>type</th>\n",
       "    </tr>\n",
       "    <tr>\n",
       "      <th>Country</th>\n",
       "      <th>gen</th>\n",
       "      <th></th>\n",
       "      <th></th>\n",
       "      <th></th>\n",
       "      <th></th>\n",
       "      <th></th>\n",
       "      <th></th>\n",
       "      <th></th>\n",
       "      <th></th>\n",
       "    </tr>\n",
       "  </thead>\n",
       "  <tbody>\n",
       "    <tr>\n",
       "      <th rowspan=\"2\" valign=\"top\">EN</th>\n",
       "      <th>F</th>\n",
       "      <td>9.000000</td>\n",
       "      <td>107.5</td>\n",
       "      <td>32.000000</td>\n",
       "      <td>74.000000</td>\n",
       "      <td>19000.0</td>\n",
       "      <td>3.500000</td>\n",
       "      <td>5.000000</td>\n",
       "      <td>3.000000</td>\n",
       "    </tr>\n",
       "    <tr>\n",
       "      <th>M</th>\n",
       "      <td>10.500000</td>\n",
       "      <td>115.0</td>\n",
       "      <td>33.000000</td>\n",
       "      <td>72.500000</td>\n",
       "      <td>22150.0</td>\n",
       "      <td>3.500000</td>\n",
       "      <td>6.500000</td>\n",
       "      <td>2.500000</td>\n",
       "    </tr>\n",
       "    <tr>\n",
       "      <th rowspan=\"2\" valign=\"top\">FR</th>\n",
       "      <th>F</th>\n",
       "      <td>12.500000</td>\n",
       "      <td>173.5</td>\n",
       "      <td>78.500000</td>\n",
       "      <td>91.000000</td>\n",
       "      <td>11850.0</td>\n",
       "      <td>4.000000</td>\n",
       "      <td>5.000000</td>\n",
       "      <td>1.500000</td>\n",
       "    </tr>\n",
       "    <tr>\n",
       "      <th>M</th>\n",
       "      <td>12.500000</td>\n",
       "      <td>137.5</td>\n",
       "      <td>54.000000</td>\n",
       "      <td>83.500000</td>\n",
       "      <td>40000.0</td>\n",
       "      <td>6.000000</td>\n",
       "      <td>5.000000</td>\n",
       "      <td>2.500000</td>\n",
       "    </tr>\n",
       "    <tr>\n",
       "      <th rowspan=\"2\" valign=\"top\">GR</th>\n",
       "      <th>F</th>\n",
       "      <td>7.500000</td>\n",
       "      <td>152.0</td>\n",
       "      <td>60.000000</td>\n",
       "      <td>87.000000</td>\n",
       "      <td>11000.0</td>\n",
       "      <td>4.500000</td>\n",
       "      <td>4.500000</td>\n",
       "      <td>2.500000</td>\n",
       "    </tr>\n",
       "    <tr>\n",
       "      <th>M</th>\n",
       "      <td>8.500000</td>\n",
       "      <td>141.5</td>\n",
       "      <td>52.000000</td>\n",
       "      <td>82.000000</td>\n",
       "      <td>25450.0</td>\n",
       "      <td>6.500000</td>\n",
       "      <td>7.500000</td>\n",
       "      <td>2.500000</td>\n",
       "    </tr>\n",
       "    <tr>\n",
       "      <th rowspan=\"2\" valign=\"top\">ISR</th>\n",
       "      <th>F</th>\n",
       "      <td>9.200000</td>\n",
       "      <td>151.0</td>\n",
       "      <td>59.000000</td>\n",
       "      <td>82.400000</td>\n",
       "      <td>22940.0</td>\n",
       "      <td>4.200000</td>\n",
       "      <td>4.800000</td>\n",
       "      <td>1.400000</td>\n",
       "    </tr>\n",
       "    <tr>\n",
       "      <th>M</th>\n",
       "      <td>8.200000</td>\n",
       "      <td>141.8</td>\n",
       "      <td>55.400000</td>\n",
       "      <td>81.200000</td>\n",
       "      <td>14860.0</td>\n",
       "      <td>2.800000</td>\n",
       "      <td>6.600000</td>\n",
       "      <td>1.000000</td>\n",
       "    </tr>\n",
       "    <tr>\n",
       "      <th rowspan=\"2\" valign=\"top\">SP</th>\n",
       "      <th>F</th>\n",
       "      <td>9.000000</td>\n",
       "      <td>90.0</td>\n",
       "      <td>27.000000</td>\n",
       "      <td>68.000000</td>\n",
       "      <td>18200.0</td>\n",
       "      <td>6.000000</td>\n",
       "      <td>5.000000</td>\n",
       "      <td>1.000000</td>\n",
       "    </tr>\n",
       "    <tr>\n",
       "      <th>M</th>\n",
       "      <td>10.000000</td>\n",
       "      <td>111.0</td>\n",
       "      <td>32.000000</td>\n",
       "      <td>71.666667</td>\n",
       "      <td>16000.0</td>\n",
       "      <td>5.333333</td>\n",
       "      <td>6.666667</td>\n",
       "      <td>1.000000</td>\n",
       "    </tr>\n",
       "    <tr>\n",
       "      <th rowspan=\"2\" valign=\"top\">US</th>\n",
       "      <th>F</th>\n",
       "      <td>9.666667</td>\n",
       "      <td>139.0</td>\n",
       "      <td>53.666667</td>\n",
       "      <td>81.333333</td>\n",
       "      <td>24600.0</td>\n",
       "      <td>4.666667</td>\n",
       "      <td>7.333333</td>\n",
       "      <td>2.666667</td>\n",
       "    </tr>\n",
       "    <tr>\n",
       "      <th>M</th>\n",
       "      <td>7.000000</td>\n",
       "      <td>160.0</td>\n",
       "      <td>70.000000</td>\n",
       "      <td>90.000000</td>\n",
       "      <td>15000.0</td>\n",
       "      <td>4.000000</td>\n",
       "      <td>4.000000</td>\n",
       "      <td>2.000000</td>\n",
       "    </tr>\n",
       "  </tbody>\n",
       "</table>\n",
       "</div>"
      ],
      "text/plain": [
       "                   Age  Height     Weight        avg   income     rooms  \\\n",
       "Country gen                                                               \n",
       "EN      F     9.000000   107.5  32.000000  74.000000  19000.0  3.500000   \n",
       "        M    10.500000   115.0  33.000000  72.500000  22150.0  3.500000   \n",
       "FR      F    12.500000   173.5  78.500000  91.000000  11850.0  4.000000   \n",
       "        M    12.500000   137.5  54.000000  83.500000  40000.0  6.000000   \n",
       "GR      F     7.500000   152.0  60.000000  87.000000  11000.0  4.500000   \n",
       "        M     8.500000   141.5  52.000000  82.000000  25450.0  6.500000   \n",
       "ISR     F     9.200000   151.0  59.000000  82.400000  22940.0  4.200000   \n",
       "        M     8.200000   141.8  55.400000  81.200000  14860.0  2.800000   \n",
       "SP      F     9.000000    90.0  27.000000  68.000000  18200.0  6.000000   \n",
       "        M    10.000000   111.0  32.000000  71.666667  16000.0  5.333333   \n",
       "US      F     9.666667   139.0  53.666667  81.333333  24600.0  4.666667   \n",
       "        M     7.000000   160.0  70.000000  90.000000  15000.0  4.000000   \n",
       "\n",
       "               family      type  \n",
       "Country gen                      \n",
       "EN      F    5.000000  3.000000  \n",
       "        M    6.500000  2.500000  \n",
       "FR      F    5.000000  1.500000  \n",
       "        M    5.000000  2.500000  \n",
       "GR      F    4.500000  2.500000  \n",
       "        M    7.500000  2.500000  \n",
       "ISR     F    4.800000  1.400000  \n",
       "        M    6.600000  1.000000  \n",
       "SP      F    5.000000  1.000000  \n",
       "        M    6.666667  1.000000  \n",
       "US      F    7.333333  2.666667  \n",
       "        M    4.000000  2.000000  "
      ]
     },
     "execution_count": 74,
     "metadata": {},
     "output_type": "execute_result"
    }
   ],
   "source": [
    "df.groupby(['Country','gen']).mean()"
   ]
  },
  {
   "cell_type": "code",
   "execution_count": 76,
   "metadata": {},
   "outputs": [
    {
     "data": {
      "text/plain": [
       "<matplotlib.axes._subplots.AxesSubplot at 0x7ff081256eb0>"
      ]
     },
     "execution_count": 76,
     "metadata": {},
     "output_type": "execute_result"
    },
    {
     "data": {
      "image/png": "[encoded data removed]",
      "text/plain": [
       "<Figure size 432x288 with 1 Axes>"
      ]
     },
     "metadata": {
      "needs_background": "light"
     },
     "output_type": "display_data"
    }
   ],
   "source": [
    "sb.distplot(df.income)"
   ]
  },
  {
   "cell_type": "code",
   "execution_count": 77,
   "metadata": {},
   "outputs": [
    {
     "data": {
      "text/plain": [
       "<matplotlib.axes._subplots.AxesSubplot at 0x7ff029500eb0>"
      ]
     },
     "execution_count": 77,
     "metadata": {},
     "output_type": "execute_result"
    },
    {
     "data": {
      "image/png": "[encoded data removed]",
      "text/plain": [
       "<Figure size 432x288 with 1 Axes>"
      ]
     },
     "metadata": {
      "needs_background": "light"
     },
     "output_type": "display_data"
    }
   ],
   "source": [
    "sb.scatterplot(df.Height , df.Weight)"
   ]
  },
  {
   "cell_type": "code",
   "execution_count": 79,
   "metadata": {},
   "outputs": [
    {
     "data": {
      "text/plain": [
       "<seaborn.axisgrid.PairGrid at 0x7ff051229cd0>"
      ]
     },
     "execution_count": 79,
     "metadata": {},
     "output_type": "execute_result"
    },
    {
     "data": {
      "image/png": "[encoded data removed]",
      "text/plain": [
       "<Figure size 1484.62x1440 with 72 Axes>"
      ]
     },
     "metadata": {
      "needs_background": "light"
     },
     "output_type": "display_data"
    }
   ],
   "source": [
    "sb.pairplot(df,hue='gen')"
   ]
  },
  {
   "cell_type": "code",
   "execution_count": 80,
   "metadata": {},
   "outputs": [
    {
     "data": {
      "text/html": [
       "<div>\n",
       "<style scoped>\n",
       "    .dataframe tbody tr th:only-of-type {\n",
       "        vertical-align: middle;\n",
       "    }\n",
       "\n",
       "    .dataframe tbody tr th {\n",
       "        vertical-align: top;\n",
       "    }\n",
       "\n",
       "    .dataframe thead th {\n",
       "        text-align: right;\n",
       "    }\n",
       "</style>\n",
       "<table border=\"1\" class=\"dataframe\">\n",
       "  <thead>\n",
       "    <tr style=\"text-align: right;\">\n",
       "      <th></th>\n",
       "      <th>Age</th>\n",
       "      <th>Height</th>\n",
       "      <th>Weight</th>\n",
       "      <th>avg</th>\n",
       "      <th>income</th>\n",
       "      <th>rooms</th>\n",
       "      <th>family</th>\n",
       "      <th>type</th>\n",
       "    </tr>\n",
       "  </thead>\n",
       "  <tbody>\n",
       "    <tr>\n",
       "      <th>Age</th>\n",
       "      <td>1.000000</td>\n",
       "      <td>0.074586</td>\n",
       "      <td>0.118616</td>\n",
       "      <td>0.150426</td>\n",
       "      <td>0.344763</td>\n",
       "      <td>0.040584</td>\n",
       "      <td>-0.052251</td>\n",
       "      <td>0.152952</td>\n",
       "    </tr>\n",
       "    <tr>\n",
       "      <th>Height</th>\n",
       "      <td>0.074586</td>\n",
       "      <td>1.000000</td>\n",
       "      <td>0.974416</td>\n",
       "      <td>0.944887</td>\n",
       "      <td>0.079537</td>\n",
       "      <td>0.006496</td>\n",
       "      <td>-0.060690</td>\n",
       "      <td>-0.056107</td>\n",
       "    </tr>\n",
       "    <tr>\n",
       "      <th>Weight</th>\n",
       "      <td>0.118616</td>\n",
       "      <td>0.974416</td>\n",
       "      <td>1.000000</td>\n",
       "      <td>0.959074</td>\n",
       "      <td>0.091562</td>\n",
       "      <td>-0.084762</td>\n",
       "      <td>-0.125074</td>\n",
       "      <td>-0.065094</td>\n",
       "    </tr>\n",
       "    <tr>\n",
       "      <th>avg</th>\n",
       "      <td>0.150426</td>\n",
       "      <td>0.944887</td>\n",
       "      <td>0.959074</td>\n",
       "      <td>1.000000</td>\n",
       "      <td>0.145275</td>\n",
       "      <td>-0.065290</td>\n",
       "      <td>-0.212886</td>\n",
       "      <td>0.075489</td>\n",
       "    </tr>\n",
       "    <tr>\n",
       "      <th>income</th>\n",
       "      <td>0.344763</td>\n",
       "      <td>0.079537</td>\n",
       "      <td>0.091562</td>\n",
       "      <td>0.145275</td>\n",
       "      <td>1.000000</td>\n",
       "      <td>0.062980</td>\n",
       "      <td>-0.241287</td>\n",
       "      <td>0.360018</td>\n",
       "    </tr>\n",
       "    <tr>\n",
       "      <th>rooms</th>\n",
       "      <td>0.040584</td>\n",
       "      <td>0.006496</td>\n",
       "      <td>-0.084762</td>\n",
       "      <td>-0.065290</td>\n",
       "      <td>0.062980</td>\n",
       "      <td>1.000000</td>\n",
       "      <td>0.289322</td>\n",
       "      <td>0.173446</td>\n",
       "    </tr>\n",
       "    <tr>\n",
       "      <th>family</th>\n",
       "      <td>-0.052251</td>\n",
       "      <td>-0.060690</td>\n",
       "      <td>-0.125074</td>\n",
       "      <td>-0.212886</td>\n",
       "      <td>-0.241287</td>\n",
       "      <td>0.289322</td>\n",
       "      <td>1.000000</td>\n",
       "      <td>-0.043478</td>\n",
       "    </tr>\n",
       "    <tr>\n",
       "      <th>type</th>\n",
       "      <td>0.152952</td>\n",
       "      <td>-0.056107</td>\n",
       "      <td>-0.065094</td>\n",
       "      <td>0.075489</td>\n",
       "      <td>0.360018</td>\n",
       "      <td>0.173446</td>\n",
       "      <td>-0.043478</td>\n",
       "      <td>1.000000</td>\n",
       "    </tr>\n",
       "  </tbody>\n",
       "</table>\n",
       "</div>"
      ],
      "text/plain": [
       "             Age    Height    Weight       avg    income     rooms    family  \\\n",
       "Age     1.000000  0.074586  0.118616  0.150426  0.344763  0.040584 -0.052251   \n",
       "Height  0.074586  1.000000  0.974416  0.944887  0.079537  0.006496 -0.060690   \n",
       "Weight  0.118616  0.974416  1.000000  0.959074  0.091562 -0.084762 -0.125074   \n",
       "avg     0.150426  0.944887  0.959074  1.000000  0.145275 -0.065290 -0.212886   \n",
       "income  0.344763  0.079537  0.091562  0.145275  1.000000  0.062980 -0.241287   \n",
       "rooms   0.040584  0.006496 -0.084762 -0.065290  0.062980  1.000000  0.289322   \n",
       "family -0.052251 -0.060690 -0.125074 -0.212886 -0.241287  0.289322  1.000000   \n",
       "type    0.152952 -0.056107 -0.065094  0.075489  0.360018  0.173446 -0.043478   \n",
       "\n",
       "            type  \n",
       "Age     0.152952  \n",
       "Height -0.056107  \n",
       "Weight -0.065094  \n",
       "avg     0.075489  \n",
       "income  0.360018  \n",
       "rooms   0.173446  \n",
       "family -0.043478  \n",
       "type    1.000000  "
      ]
     },
     "execution_count": 80,
     "metadata": {},
     "output_type": "execute_result"
    }
   ],
   "source": [
    "df.corr()"
   ]
  },
  {
   "cell_type": "code",
   "execution_count": 81,
   "metadata": {},
   "outputs": [],
   "source": [
    "df = sb.load_dataset('diamonds')"
   ]
  },
  {
   "cell_type": "code",
   "execution_count": 82,
   "metadata": {},
   "outputs": [
    {
     "data": {
      "text/html": [
       "<div>\n",
       "<style scoped>\n",
       "    .dataframe tbody tr th:only-of-type {\n",
       "        vertical-align: middle;\n",
       "    }\n",
       "\n",
       "    .dataframe tbody tr th {\n",
       "        vertical-align: top;\n",
       "    }\n",
       "\n",
       "    .dataframe thead th {\n",
       "        text-align: right;\n",
       "    }\n",
       "</style>\n",
       "<table border=\"1\" class=\"dataframe\">\n",
       "  <thead>\n",
       "    <tr style=\"text-align: right;\">\n",
       "      <th></th>\n",
       "      <th>carat</th>\n",
       "      <th>cut</th>\n",
       "      <th>color</th>\n",
       "      <th>clarity</th>\n",
       "      <th>depth</th>\n",
       "      <th>table</th>\n",
       "      <th>price</th>\n",
       "      <th>x</th>\n",
       "      <th>y</th>\n",
       "      <th>z</th>\n",
       "    </tr>\n",
       "  </thead>\n",
       "  <tbody>\n",
       "    <tr>\n",
       "      <th>0</th>\n",
       "      <td>0.23</td>\n",
       "      <td>Ideal</td>\n",
       "      <td>E</td>\n",
       "      <td>SI2</td>\n",
       "      <td>61.5</td>\n",
       "      <td>55.0</td>\n",
       "      <td>326</td>\n",
       "      <td>3.95</td>\n",
       "      <td>3.98</td>\n",
       "      <td>2.43</td>\n",
       "    </tr>\n",
       "    <tr>\n",
       "      <th>1</th>\n",
       "      <td>0.21</td>\n",
       "      <td>Premium</td>\n",
       "      <td>E</td>\n",
       "      <td>SI1</td>\n",
       "      <td>59.8</td>\n",
       "      <td>61.0</td>\n",
       "      <td>326</td>\n",
       "      <td>3.89</td>\n",
       "      <td>3.84</td>\n",
       "      <td>2.31</td>\n",
       "    </tr>\n",
       "    <tr>\n",
       "      <th>2</th>\n",
       "      <td>0.23</td>\n",
       "      <td>Good</td>\n",
       "      <td>E</td>\n",
       "      <td>VS1</td>\n",
       "      <td>56.9</td>\n",
       "      <td>65.0</td>\n",
       "      <td>327</td>\n",
       "      <td>4.05</td>\n",
       "      <td>4.07</td>\n",
       "      <td>2.31</td>\n",
       "    </tr>\n",
       "    <tr>\n",
       "      <th>3</th>\n",
       "      <td>0.29</td>\n",
       "      <td>Premium</td>\n",
       "      <td>I</td>\n",
       "      <td>VS2</td>\n",
       "      <td>62.4</td>\n",
       "      <td>58.0</td>\n",
       "      <td>334</td>\n",
       "      <td>4.20</td>\n",
       "      <td>4.23</td>\n",
       "      <td>2.63</td>\n",
       "    </tr>\n",
       "    <tr>\n",
       "      <th>4</th>\n",
       "      <td>0.31</td>\n",
       "      <td>Good</td>\n",
       "      <td>J</td>\n",
       "      <td>SI2</td>\n",
       "      <td>63.3</td>\n",
       "      <td>58.0</td>\n",
       "      <td>335</td>\n",
       "      <td>4.34</td>\n",
       "      <td>4.35</td>\n",
       "      <td>2.75</td>\n",
       "    </tr>\n",
       "  </tbody>\n",
       "</table>\n",
       "</div>"
      ],
      "text/plain": [
       "   carat      cut color clarity  depth  table  price     x     y     z\n",
       "0   0.23    Ideal     E     SI2   61.5   55.0    326  3.95  3.98  2.43\n",
       "1   0.21  Premium     E     SI1   59.8   61.0    326  3.89  3.84  2.31\n",
       "2   0.23     Good     E     VS1   56.9   65.0    327  4.05  4.07  2.31\n",
       "3   0.29  Premium     I     VS2   62.4   58.0    334  4.20  4.23  2.63\n",
       "4   0.31     Good     J     SI2   63.3   58.0    335  4.34  4.35  2.75"
      ]
     },
     "execution_count": 82,
     "metadata": {},
     "output_type": "execute_result"
    }
   ],
   "source": [
    "df.head()"
   ]
  },
  {
   "cell_type": "code",
   "execution_count": 83,
   "metadata": {},
   "outputs": [
    {
     "name": "stdout",
     "output_type": "stream",
     "text": [
      "<class 'pandas.core.frame.DataFrame'>\n",
      "RangeIndex: 53940 entries, 0 to 53939\n",
      "Data columns (total 10 columns):\n",
      " #   Column   Non-Null Count  Dtype  \n",
      "---  ------   --------------  -----  \n",
      " 0   carat    53940 non-null  float64\n",
      " 1   cut      53940 non-null  object \n",
      " 2   color    53940 non-null  object \n",
      " 3   clarity  53940 non-null  object \n",
      " 4   depth    53940 non-null  float64\n",
      " 5   table    53940 non-null  float64\n",
      " 6   price    53940 non-null  int64  \n",
      " 7   x        53940 non-null  float64\n",
      " 8   y        53940 non-null  float64\n",
      " 9   z        53940 non-null  float64\n",
      "dtypes: float64(6), int64(1), object(3)\n",
      "memory usage: 4.1+ MB\n"
     ]
    }
   ],
   "source": [
    "df.info()"
   ]
  },
  {
   "cell_type": "code",
   "execution_count": null,
   "metadata": {},
   "outputs": [],
   "source": []
  }
 ],
 "metadata": {
  "kernelspec": {
   "display_name": "Python 3",
   "language": "python",
   "name": "python3"
  },
  "language_info": {
   "codemirror_mode": {
    "name": "ipython",
    "version": 3
   },
   "file_extension": ".py",
   "mimetype": "text/x-python",
   "name": "python",
   "nbconvert_exporter": "python",
   "pygments_lexer": "ipython3",
   "version": "3.8.3"
  }
 },
 "nbformat": 4,
 "nbformat_minor": 4
}
