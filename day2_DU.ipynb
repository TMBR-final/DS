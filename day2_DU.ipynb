{
 "cells": [
  {
   "cell_type": "code",
   "execution_count": 2,
   "metadata": {},
   "outputs": [],
   "source": [
    "import pandas as pd\n",
    "import seaborn as sb"
   ]
  },
  {
   "cell_type": "code",
   "execution_count": 16,
   "metadata": {},
   "outputs": [],
   "source": [
    "df = pd.read_csv('pupils.csv')"
   ]
  },
  {
   "cell_type": "code",
   "execution_count": 17,
   "metadata": {},
   "outputs": [
    {
     "data": {
      "text/html": [
       "<div>\n",
       "<style scoped>\n",
       "    .dataframe tbody tr th:only-of-type {\n",
       "        vertical-align: middle;\n",
       "    }\n",
       "\n",
       "    .dataframe tbody tr th {\n",
       "        vertical-align: top;\n",
       "    }\n",
       "\n",
       "    .dataframe thead th {\n",
       "        text-align: right;\n",
       "    }\n",
       "</style>\n",
       "<table border=\"1\" class=\"dataframe\">\n",
       "  <thead>\n",
       "    <tr style=\"text-align: right;\">\n",
       "      <th></th>\n",
       "      <th>Name</th>\n",
       "      <th>Age</th>\n",
       "      <th>Country</th>\n",
       "      <th>Height</th>\n",
       "      <th>Weight</th>\n",
       "      <th>avg</th>\n",
       "      <th>income</th>\n",
       "      <th>rooms</th>\n",
       "      <th>family</th>\n",
       "      <th>type</th>\n",
       "      <th>gen</th>\n",
       "    </tr>\n",
       "  </thead>\n",
       "  <tbody>\n",
       "    <tr>\n",
       "      <th>0</th>\n",
       "      <td>adar</td>\n",
       "      <td>6</td>\n",
       "      <td>SP</td>\n",
       "      <td>113</td>\n",
       "      <td>30</td>\n",
       "      <td>70</td>\n",
       "      <td>16700</td>\n",
       "      <td>7</td>\n",
       "      <td>6</td>\n",
       "      <td>1</td>\n",
       "      <td>M</td>\n",
       "    </tr>\n",
       "    <tr>\n",
       "      <th>1</th>\n",
       "      <td>agam</td>\n",
       "      <td>6</td>\n",
       "      <td>GR</td>\n",
       "      <td>172</td>\n",
       "      <td>71</td>\n",
       "      <td>92</td>\n",
       "      <td>9200</td>\n",
       "      <td>5</td>\n",
       "      <td>4</td>\n",
       "      <td>2</td>\n",
       "      <td>F</td>\n",
       "    </tr>\n",
       "    <tr>\n",
       "      <th>2</th>\n",
       "      <td>avi</td>\n",
       "      <td>7</td>\n",
       "      <td>ISR</td>\n",
       "      <td>143</td>\n",
       "      <td>58</td>\n",
       "      <td>82</td>\n",
       "      <td>12000</td>\n",
       "      <td>3</td>\n",
       "      <td>7</td>\n",
       "      <td>1</td>\n",
       "      <td>M</td>\n",
       "    </tr>\n",
       "    <tr>\n",
       "      <th>3</th>\n",
       "      <td>dani</td>\n",
       "      <td>7</td>\n",
       "      <td>US</td>\n",
       "      <td>160</td>\n",
       "      <td>70</td>\n",
       "      <td>90</td>\n",
       "      <td>15000</td>\n",
       "      <td>4</td>\n",
       "      <td>4</td>\n",
       "      <td>2</td>\n",
       "      <td>M</td>\n",
       "    </tr>\n",
       "    <tr>\n",
       "      <th>4</th>\n",
       "      <td>dina</td>\n",
       "      <td>7</td>\n",
       "      <td>ISR</td>\n",
       "      <td>110</td>\n",
       "      <td>26</td>\n",
       "      <td>64</td>\n",
       "      <td>10000</td>\n",
       "      <td>6</td>\n",
       "      <td>8</td>\n",
       "      <td>1</td>\n",
       "      <td>F</td>\n",
       "    </tr>\n",
       "  </tbody>\n",
       "</table>\n",
       "</div>"
      ],
      "text/plain": [
       "   Name  Age Country  Height  Weight  avg  income  rooms  family  type gen\n",
       "0  adar    6      SP     113      30   70   16700      7       6     1   M\n",
       "1  agam    6      GR     172      71   92    9200      5       4     2   F\n",
       "2   avi    7     ISR     143      58   82   12000      3       7     1   M\n",
       "3  dani    7      US     160      70   90   15000      4       4     2   M\n",
       "4  dina    7     ISR     110      26   64   10000      6       8     1   F"
      ]
     },
     "execution_count": 17,
     "metadata": {},
     "output_type": "execute_result"
    }
   ],
   "source": [
    "df.head()"
   ]
  },
  {
   "cell_type": "code",
   "execution_count": 18,
   "metadata": {},
   "outputs": [],
   "source": [
    "#help(df.head)\n",
    "\n",
    "#df.head?"
   ]
  },
  {
   "cell_type": "code",
   "execution_count": 19,
   "metadata": {},
   "outputs": [
    {
     "name": "stdout",
     "output_type": "stream",
     "text": [
      "<class 'pandas.core.frame.DataFrame'>\n",
      "RangeIndex: 30 entries, 0 to 29\n",
      "Data columns (total 11 columns):\n",
      " #   Column   Non-Null Count  Dtype \n",
      "---  ------   --------------  ----- \n",
      " 0   Name     30 non-null     object\n",
      " 1   Age      30 non-null     int64 \n",
      " 2   Country  30 non-null     object\n",
      " 3   Height   30 non-null     int64 \n",
      " 4   Weight   30 non-null     int64 \n",
      " 5   avg      30 non-null     int64 \n",
      " 6   income   30 non-null     int64 \n",
      " 7   rooms    30 non-null     int64 \n",
      " 8   family   30 non-null     int64 \n",
      " 9   type     30 non-null     int64 \n",
      " 10  gen      30 non-null     object\n",
      "dtypes: int64(8), object(3)\n",
      "memory usage: 2.7+ KB\n"
     ]
    }
   ],
   "source": [
    "df.info()"
   ]
  },
  {
   "cell_type": "code",
   "execution_count": 20,
   "metadata": {},
   "outputs": [
    {
     "data": {
      "text/html": [
       "<div>\n",
       "<style scoped>\n",
       "    .dataframe tbody tr th:only-of-type {\n",
       "        vertical-align: middle;\n",
       "    }\n",
       "\n",
       "    .dataframe tbody tr th {\n",
       "        vertical-align: top;\n",
       "    }\n",
       "\n",
       "    .dataframe thead th {\n",
       "        text-align: right;\n",
       "    }\n",
       "</style>\n",
       "<table border=\"1\" class=\"dataframe\">\n",
       "  <thead>\n",
       "    <tr style=\"text-align: right;\">\n",
       "      <th></th>\n",
       "      <th>Age</th>\n",
       "      <th>Height</th>\n",
       "      <th>Weight</th>\n",
       "      <th>avg</th>\n",
       "      <th>income</th>\n",
       "      <th>rooms</th>\n",
       "      <th>family</th>\n",
       "      <th>type</th>\n",
       "    </tr>\n",
       "  </thead>\n",
       "  <tbody>\n",
       "    <tr>\n",
       "      <th>count</th>\n",
       "      <td>30.000000</td>\n",
       "      <td>30.000000</td>\n",
       "      <td>30.000000</td>\n",
       "      <td>30.000000</td>\n",
       "      <td>30.000000</td>\n",
       "      <td>30.000000</td>\n",
       "      <td>30.000000</td>\n",
       "      <td>30.000000</td>\n",
       "    </tr>\n",
       "    <tr>\n",
       "      <th>mean</th>\n",
       "      <td>9.433333</td>\n",
       "      <td>137.266667</td>\n",
       "      <td>51.500000</td>\n",
       "      <td>80.500000</td>\n",
       "      <td>20096.666667</td>\n",
       "      <td>4.366667</td>\n",
       "      <td>5.833333</td>\n",
       "      <td>1.833333</td>\n",
       "    </tr>\n",
       "    <tr>\n",
       "      <th>std</th>\n",
       "      <td>2.207875</td>\n",
       "      <td>26.286136</td>\n",
       "      <td>18.104581</td>\n",
       "      <td>7.942683</td>\n",
       "      <td>11943.270601</td>\n",
       "      <td>1.629117</td>\n",
       "      <td>1.743626</td>\n",
       "      <td>0.833908</td>\n",
       "    </tr>\n",
       "    <tr>\n",
       "      <th>min</th>\n",
       "      <td>6.000000</td>\n",
       "      <td>90.000000</td>\n",
       "      <td>26.000000</td>\n",
       "      <td>64.000000</td>\n",
       "      <td>7600.000000</td>\n",
       "      <td>2.000000</td>\n",
       "      <td>3.000000</td>\n",
       "      <td>1.000000</td>\n",
       "    </tr>\n",
       "    <tr>\n",
       "      <th>25%</th>\n",
       "      <td>8.000000</td>\n",
       "      <td>113.500000</td>\n",
       "      <td>34.000000</td>\n",
       "      <td>74.000000</td>\n",
       "      <td>11175.000000</td>\n",
       "      <td>3.000000</td>\n",
       "      <td>4.250000</td>\n",
       "      <td>1.000000</td>\n",
       "    </tr>\n",
       "    <tr>\n",
       "      <th>50%</th>\n",
       "      <td>9.000000</td>\n",
       "      <td>132.000000</td>\n",
       "      <td>53.000000</td>\n",
       "      <td>82.000000</td>\n",
       "      <td>17650.000000</td>\n",
       "      <td>4.500000</td>\n",
       "      <td>6.000000</td>\n",
       "      <td>2.000000</td>\n",
       "    </tr>\n",
       "    <tr>\n",
       "      <th>75%</th>\n",
       "      <td>11.000000</td>\n",
       "      <td>158.000000</td>\n",
       "      <td>65.500000</td>\n",
       "      <td>85.750000</td>\n",
       "      <td>23750.000000</td>\n",
       "      <td>5.750000</td>\n",
       "      <td>7.000000</td>\n",
       "      <td>2.750000</td>\n",
       "    </tr>\n",
       "    <tr>\n",
       "      <th>max</th>\n",
       "      <td>14.000000</td>\n",
       "      <td>192.000000</td>\n",
       "      <td>90.000000</td>\n",
       "      <td>94.000000</td>\n",
       "      <td>54100.000000</td>\n",
       "      <td>7.000000</td>\n",
       "      <td>10.000000</td>\n",
       "      <td>3.000000</td>\n",
       "    </tr>\n",
       "  </tbody>\n",
       "</table>\n",
       "</div>"
      ],
      "text/plain": [
       "             Age      Height     Weight        avg        income      rooms  \\\n",
       "count  30.000000   30.000000  30.000000  30.000000     30.000000  30.000000   \n",
       "mean    9.433333  137.266667  51.500000  80.500000  20096.666667   4.366667   \n",
       "std     2.207875   26.286136  18.104581   7.942683  11943.270601   1.629117   \n",
       "min     6.000000   90.000000  26.000000  64.000000   7600.000000   2.000000   \n",
       "25%     8.000000  113.500000  34.000000  74.000000  11175.000000   3.000000   \n",
       "50%     9.000000  132.000000  53.000000  82.000000  17650.000000   4.500000   \n",
       "75%    11.000000  158.000000  65.500000  85.750000  23750.000000   5.750000   \n",
       "max    14.000000  192.000000  90.000000  94.000000  54100.000000   7.000000   \n",
       "\n",
       "          family       type  \n",
       "count  30.000000  30.000000  \n",
       "mean    5.833333   1.833333  \n",
       "std     1.743626   0.833908  \n",
       "min     3.000000   1.000000  \n",
       "25%     4.250000   1.000000  \n",
       "50%     6.000000   2.000000  \n",
       "75%     7.000000   2.750000  \n",
       "max    10.000000   3.000000  "
      ]
     },
     "execution_count": 20,
     "metadata": {},
     "output_type": "execute_result"
    }
   ],
   "source": [
    "df.describe()"
   ]
  },
  {
   "cell_type": "code",
   "execution_count": 32,
   "metadata": {},
   "outputs": [
    {
     "data": {
      "text/plain": [
       "<matplotlib.axes._subplots.AxesSubplot at 0x7f8212079208>"
      ]
     },
     "execution_count": 32,
     "metadata": {},
     "output_type": "execute_result"
    },
    {
     "data": {
      "image/png": "[encoded data removed]",
      "text/plain": [
       "<Figure size 432x288 with 1 Axes>"
      ]
     },
     "metadata": {
      "needs_background": "light"
     },
     "output_type": "display_data"
    }
   ],
   "source": [
    "sb.distplot(df.income)"
   ]
  },
  {
   "cell_type": "code",
   "execution_count": 33,
   "metadata": {},
   "outputs": [
    {
     "data": {
      "text/plain": [
       "<matplotlib.axes._subplots.AxesSubplot at 0x7f81f0e0a048>"
      ]
     },
     "execution_count": 33,
     "metadata": {},
     "output_type": "execute_result"
    },
    {
     "data": {
      "image/png": "[encoded data removed]",
      "text/plain": [
       "<Figure size 432x288 with 1 Axes>"
      ]
     },
     "metadata": {
      "needs_background": "light"
     },
     "output_type": "display_data"
    }
   ],
   "source": [
    "sb.scatterplot(df.Height , df.Weight)"
   ]
  },
  {
   "cell_type": "code",
   "execution_count": 34,
   "metadata": {},
   "outputs": [
    {
     "data": {
      "text/plain": [
       "<matplotlib.axes._subplots.AxesSubplot at 0x7f8201183a90>"
      ]
     },
     "execution_count": 34,
     "metadata": {},
     "output_type": "execute_result"
    },
    {
     "data": {
      "image/png": "[encoded data removed]",
      "text/plain": [
       "<Figure size 432x288 with 1 Axes>"
      ]
     },
     "metadata": {
      "needs_background": "light"
     },
     "output_type": "display_data"
    }
   ],
   "source": [
    "sb.scatterplot(df.Height , df.avg)"
   ]
  },
  {
   "cell_type": "code",
   "execution_count": 35,
   "metadata": {},
   "outputs": [
    {
     "data": {
      "text/html": [
       "<div>\n",
       "<style scoped>\n",
       "    .dataframe tbody tr th:only-of-type {\n",
       "        vertical-align: middle;\n",
       "    }\n",
       "\n",
       "    .dataframe tbody tr th {\n",
       "        vertical-align: top;\n",
       "    }\n",
       "\n",
       "    .dataframe thead th {\n",
       "        text-align: right;\n",
       "    }\n",
       "</style>\n",
       "<table border=\"1\" class=\"dataframe\">\n",
       "  <thead>\n",
       "    <tr style=\"text-align: right;\">\n",
       "      <th></th>\n",
       "      <th>Age</th>\n",
       "      <th>Height</th>\n",
       "      <th>Weight</th>\n",
       "      <th>avg</th>\n",
       "      <th>income</th>\n",
       "      <th>rooms</th>\n",
       "      <th>family</th>\n",
       "      <th>type</th>\n",
       "    </tr>\n",
       "  </thead>\n",
       "  <tbody>\n",
       "    <tr>\n",
       "      <th>Age</th>\n",
       "      <td>1.000000</td>\n",
       "      <td>0.074586</td>\n",
       "      <td>0.118616</td>\n",
       "      <td>0.150426</td>\n",
       "      <td>0.344763</td>\n",
       "      <td>0.040584</td>\n",
       "      <td>-0.052251</td>\n",
       "      <td>0.152952</td>\n",
       "    </tr>\n",
       "    <tr>\n",
       "      <th>Height</th>\n",
       "      <td>0.074586</td>\n",
       "      <td>1.000000</td>\n",
       "      <td>0.974416</td>\n",
       "      <td>0.944887</td>\n",
       "      <td>0.079537</td>\n",
       "      <td>0.006496</td>\n",
       "      <td>-0.060690</td>\n",
       "      <td>-0.056107</td>\n",
       "    </tr>\n",
       "    <tr>\n",
       "      <th>Weight</th>\n",
       "      <td>0.118616</td>\n",
       "      <td>0.974416</td>\n",
       "      <td>1.000000</td>\n",
       "      <td>0.959074</td>\n",
       "      <td>0.091562</td>\n",
       "      <td>-0.084762</td>\n",
       "      <td>-0.125074</td>\n",
       "      <td>-0.065094</td>\n",
       "    </tr>\n",
       "    <tr>\n",
       "      <th>avg</th>\n",
       "      <td>0.150426</td>\n",
       "      <td>0.944887</td>\n",
       "      <td>0.959074</td>\n",
       "      <td>1.000000</td>\n",
       "      <td>0.145275</td>\n",
       "      <td>-0.065290</td>\n",
       "      <td>-0.212886</td>\n",
       "      <td>0.075489</td>\n",
       "    </tr>\n",
       "    <tr>\n",
       "      <th>income</th>\n",
       "      <td>0.344763</td>\n",
       "      <td>0.079537</td>\n",
       "      <td>0.091562</td>\n",
       "      <td>0.145275</td>\n",
       "      <td>1.000000</td>\n",
       "      <td>0.062980</td>\n",
       "      <td>-0.241287</td>\n",
       "      <td>0.360018</td>\n",
       "    </tr>\n",
       "    <tr>\n",
       "      <th>rooms</th>\n",
       "      <td>0.040584</td>\n",
       "      <td>0.006496</td>\n",
       "      <td>-0.084762</td>\n",
       "      <td>-0.065290</td>\n",
       "      <td>0.062980</td>\n",
       "      <td>1.000000</td>\n",
       "      <td>0.289322</td>\n",
       "      <td>0.173446</td>\n",
       "    </tr>\n",
       "    <tr>\n",
       "      <th>family</th>\n",
       "      <td>-0.052251</td>\n",
       "      <td>-0.060690</td>\n",
       "      <td>-0.125074</td>\n",
       "      <td>-0.212886</td>\n",
       "      <td>-0.241287</td>\n",
       "      <td>0.289322</td>\n",
       "      <td>1.000000</td>\n",
       "      <td>-0.043478</td>\n",
       "    </tr>\n",
       "    <tr>\n",
       "      <th>type</th>\n",
       "      <td>0.152952</td>\n",
       "      <td>-0.056107</td>\n",
       "      <td>-0.065094</td>\n",
       "      <td>0.075489</td>\n",
       "      <td>0.360018</td>\n",
       "      <td>0.173446</td>\n",
       "      <td>-0.043478</td>\n",
       "      <td>1.000000</td>\n",
       "    </tr>\n",
       "  </tbody>\n",
       "</table>\n",
       "</div>"
      ],
      "text/plain": [
       "             Age    Height    Weight       avg    income     rooms    family  \\\n",
       "Age     1.000000  0.074586  0.118616  0.150426  0.344763  0.040584 -0.052251   \n",
       "Height  0.074586  1.000000  0.974416  0.944887  0.079537  0.006496 -0.060690   \n",
       "Weight  0.118616  0.974416  1.000000  0.959074  0.091562 -0.084762 -0.125074   \n",
       "avg     0.150426  0.944887  0.959074  1.000000  0.145275 -0.065290 -0.212886   \n",
       "income  0.344763  0.079537  0.091562  0.145275  1.000000  0.062980 -0.241287   \n",
       "rooms   0.040584  0.006496 -0.084762 -0.065290  0.062980  1.000000  0.289322   \n",
       "family -0.052251 -0.060690 -0.125074 -0.212886 -0.241287  0.289322  1.000000   \n",
       "type    0.152952 -0.056107 -0.065094  0.075489  0.360018  0.173446 -0.043478   \n",
       "\n",
       "            type  \n",
       "Age     0.152952  \n",
       "Height -0.056107  \n",
       "Weight -0.065094  \n",
       "avg     0.075489  \n",
       "income  0.360018  \n",
       "rooms   0.173446  \n",
       "family -0.043478  \n",
       "type    1.000000  "
      ]
     },
     "execution_count": 35,
     "metadata": {},
     "output_type": "execute_result"
    }
   ],
   "source": [
    "df.corr()"
   ]
  },
  {
   "cell_type": "code",
   "execution_count": 38,
   "metadata": {},
   "outputs": [],
   "source": [
    "d1 = df.corr()"
   ]
  },
  {
   "cell_type": "code",
   "execution_count": 40,
   "metadata": {},
   "outputs": [
    {
     "data": {
      "text/plain": [
       "0.9744161561854076"
      ]
     },
     "execution_count": 40,
     "metadata": {},
     "output_type": "execute_result"
    }
   ],
   "source": [
    "d1['Weight']['Height']"
   ]
  },
  {
   "cell_type": "code",
   "execution_count": 36,
   "metadata": {},
   "outputs": [
    {
     "data": {
      "text/plain": [
       "<seaborn.axisgrid.PairGrid at 0x7f820117dd68>"
      ]
     },
     "execution_count": 36,
     "metadata": {},
     "output_type": "execute_result"
    },
    {
     "data": {
      "image/png": "[encoded data removed]",
      "text/plain": [
       "<Figure size 1440x1440 with 72 Axes>"
      ]
     },
     "metadata": {
      "needs_background": "light"
     },
     "output_type": "display_data"
    }
   ],
   "source": [
    "sb.pairplot(df)"
   ]
  },
  {
   "cell_type": "code",
   "execution_count": 37,
   "metadata": {},
   "outputs": [
    {
     "data": {
      "text/plain": [
       "<seaborn.axisgrid.PairGrid at 0x7f81f10558d0>"
      ]
     },
     "execution_count": 37,
     "metadata": {},
     "output_type": "execute_result"
    },
    {
     "data": {
      "image/png": "[encoded data removed]",
      "text/plain": [
       "<Figure size 1484.62x1440 with 72 Axes>"
      ]
     },
     "metadata": {
      "needs_background": "light"
     },
     "output_type": "display_data"
    }
   ],
   "source": [
    "sb.pairplot(df , hue='gen')"
   ]
  },
  {
   "cell_type": "code",
   "execution_count": 48,
   "metadata": {},
   "outputs": [
    {
     "data": {
      "text/html": [
       "<div>\n",
       "<style scoped>\n",
       "    .dataframe tbody tr th:only-of-type {\n",
       "        vertical-align: middle;\n",
       "    }\n",
       "\n",
       "    .dataframe tbody tr th {\n",
       "        vertical-align: top;\n",
       "    }\n",
       "\n",
       "    .dataframe thead th {\n",
       "        text-align: right;\n",
       "    }\n",
       "</style>\n",
       "<table border=\"1\" class=\"dataframe\">\n",
       "  <thead>\n",
       "    <tr style=\"text-align: right;\">\n",
       "      <th></th>\n",
       "      <th>Name</th>\n",
       "      <th>Age</th>\n",
       "      <th>Country</th>\n",
       "      <th>Height</th>\n",
       "      <th>Weight</th>\n",
       "      <th>avg</th>\n",
       "      <th>income</th>\n",
       "      <th>rooms</th>\n",
       "      <th>family</th>\n",
       "      <th>type</th>\n",
       "      <th>gen</th>\n",
       "    </tr>\n",
       "  </thead>\n",
       "  <tbody>\n",
       "    <tr>\n",
       "      <th>21</th>\n",
       "      <td>orit</td>\n",
       "      <td>11</td>\n",
       "      <td>ISR</td>\n",
       "      <td>175</td>\n",
       "      <td>73</td>\n",
       "      <td>89</td>\n",
       "      <td>54100</td>\n",
       "      <td>4</td>\n",
       "      <td>3</td>\n",
       "      <td>2</td>\n",
       "      <td>F</td>\n",
       "    </tr>\n",
       "    <tr>\n",
       "      <th>25</th>\n",
       "      <td>tomer</td>\n",
       "      <td>12</td>\n",
       "      <td>FR</td>\n",
       "      <td>128</td>\n",
       "      <td>53</td>\n",
       "      <td>82</td>\n",
       "      <td>45000</td>\n",
       "      <td>5</td>\n",
       "      <td>4</td>\n",
       "      <td>3</td>\n",
       "      <td>M</td>\n",
       "    </tr>\n",
       "    <tr>\n",
       "      <th>26</th>\n",
       "      <td>udi</td>\n",
       "      <td>13</td>\n",
       "      <td>FR</td>\n",
       "      <td>147</td>\n",
       "      <td>55</td>\n",
       "      <td>85</td>\n",
       "      <td>35000</td>\n",
       "      <td>7</td>\n",
       "      <td>6</td>\n",
       "      <td>2</td>\n",
       "      <td>M</td>\n",
       "    </tr>\n",
       "  </tbody>\n",
       "</table>\n",
       "</div>"
      ],
      "text/plain": [
       "     Name  Age Country  Height  Weight  avg  income  rooms  family  type gen\n",
       "21   orit   11     ISR     175      73   89   54100      4       3     2   F\n",
       "25  tomer   12      FR     128      53   82   45000      5       4     3   M\n",
       "26    udi   13      FR     147      55   85   35000      7       6     2   M"
      ]
     },
     "execution_count": 48,
     "metadata": {},
     "output_type": "execute_result"
    }
   ],
   "source": [
    "#%%timeit\n",
    "df[(df.Age > 10) & (df.income > 30000)]"
   ]
  },
  {
   "cell_type": "code",
   "execution_count": 54,
   "metadata": {},
   "outputs": [
    {
     "data": {
      "text/html": [
       "<div>\n",
       "<style scoped>\n",
       "    .dataframe tbody tr th:only-of-type {\n",
       "        vertical-align: middle;\n",
       "    }\n",
       "\n",
       "    .dataframe tbody tr th {\n",
       "        vertical-align: top;\n",
       "    }\n",
       "\n",
       "    .dataframe thead th {\n",
       "        text-align: right;\n",
       "    }\n",
       "</style>\n",
       "<table border=\"1\" class=\"dataframe\">\n",
       "  <thead>\n",
       "    <tr style=\"text-align: right;\">\n",
       "      <th></th>\n",
       "      <th>Name</th>\n",
       "      <th>Age</th>\n",
       "      <th>Country</th>\n",
       "      <th>Height</th>\n",
       "      <th>Weight</th>\n",
       "      <th>avg</th>\n",
       "      <th>income</th>\n",
       "      <th>rooms</th>\n",
       "      <th>family</th>\n",
       "      <th>type</th>\n",
       "      <th>gen</th>\n",
       "    </tr>\n",
       "  </thead>\n",
       "  <tbody>\n",
       "    <tr>\n",
       "      <th>21</th>\n",
       "      <td>orit</td>\n",
       "      <td>11</td>\n",
       "      <td>ISR</td>\n",
       "      <td>175</td>\n",
       "      <td>73</td>\n",
       "      <td>89</td>\n",
       "      <td>54100</td>\n",
       "      <td>4</td>\n",
       "      <td>3</td>\n",
       "      <td>2</td>\n",
       "      <td>F</td>\n",
       "    </tr>\n",
       "    <tr>\n",
       "      <th>25</th>\n",
       "      <td>tomer</td>\n",
       "      <td>12</td>\n",
       "      <td>FR</td>\n",
       "      <td>128</td>\n",
       "      <td>53</td>\n",
       "      <td>82</td>\n",
       "      <td>45000</td>\n",
       "      <td>5</td>\n",
       "      <td>4</td>\n",
       "      <td>3</td>\n",
       "      <td>M</td>\n",
       "    </tr>\n",
       "    <tr>\n",
       "      <th>26</th>\n",
       "      <td>udi</td>\n",
       "      <td>13</td>\n",
       "      <td>FR</td>\n",
       "      <td>147</td>\n",
       "      <td>55</td>\n",
       "      <td>85</td>\n",
       "      <td>35000</td>\n",
       "      <td>7</td>\n",
       "      <td>6</td>\n",
       "      <td>2</td>\n",
       "      <td>M</td>\n",
       "    </tr>\n",
       "  </tbody>\n",
       "</table>\n",
       "</div>"
      ],
      "text/plain": [
       "     Name  Age Country  Height  Weight  avg  income  rooms  family  type gen\n",
       "21   orit   11     ISR     175      73   89   54100      4       3     2   F\n",
       "25  tomer   12      FR     128      53   82   45000      5       4     3   M\n",
       "26    udi   13      FR     147      55   85   35000      7       6     2   M"
      ]
     },
     "execution_count": 54,
     "metadata": {},
     "output_type": "execute_result"
    }
   ],
   "source": [
    "#%%timeit\n",
    "df.query(\"Age > 10 and income > 30000\")#[['Name','Age','income']]"
   ]
  },
  {
   "cell_type": "code",
   "execution_count": 50,
   "metadata": {},
   "outputs": [],
   "source": [
    "d1 = df.query(\"Age > 10 and income > 30000\")"
   ]
  },
  {
   "cell_type": "code",
   "execution_count": 52,
   "metadata": {},
   "outputs": [
    {
     "data": {
      "text/html": [
       "<div>\n",
       "<style scoped>\n",
       "    .dataframe tbody tr th:only-of-type {\n",
       "        vertical-align: middle;\n",
       "    }\n",
       "\n",
       "    .dataframe tbody tr th {\n",
       "        vertical-align: top;\n",
       "    }\n",
       "\n",
       "    .dataframe thead th {\n",
       "        text-align: right;\n",
       "    }\n",
       "</style>\n",
       "<table border=\"1\" class=\"dataframe\">\n",
       "  <thead>\n",
       "    <tr style=\"text-align: right;\">\n",
       "      <th></th>\n",
       "      <th>Name</th>\n",
       "      <th>Age</th>\n",
       "      <th>income</th>\n",
       "    </tr>\n",
       "  </thead>\n",
       "  <tbody>\n",
       "    <tr>\n",
       "      <th>21</th>\n",
       "      <td>orit</td>\n",
       "      <td>11</td>\n",
       "      <td>54100</td>\n",
       "    </tr>\n",
       "    <tr>\n",
       "      <th>25</th>\n",
       "      <td>tomer</td>\n",
       "      <td>12</td>\n",
       "      <td>45000</td>\n",
       "    </tr>\n",
       "    <tr>\n",
       "      <th>26</th>\n",
       "      <td>udi</td>\n",
       "      <td>13</td>\n",
       "      <td>35000</td>\n",
       "    </tr>\n",
       "  </tbody>\n",
       "</table>\n",
       "</div>"
      ],
      "text/plain": [
       "     Name  Age  income\n",
       "21   orit   11   54100\n",
       "25  tomer   12   45000\n",
       "26    udi   13   35000"
      ]
     },
     "execution_count": 52,
     "metadata": {},
     "output_type": "execute_result"
    }
   ],
   "source": [
    "d1[['Name','Age','income']]"
   ]
  },
  {
   "cell_type": "code",
   "execution_count": 55,
   "metadata": {},
   "outputs": [],
   "source": [
    "d2 = df[['Age','Height','Weight','avg']]"
   ]
  },
  {
   "cell_type": "code",
   "execution_count": 56,
   "metadata": {
    "scrolled": true
   },
   "outputs": [
    {
     "data": {
      "text/plain": [
       "<seaborn.axisgrid.PairGrid at 0x7f81a1636da0>"
      ]
     },
     "execution_count": 56,
     "metadata": {},
     "output_type": "execute_result"
    },
    {
     "data": {
      "image/png": "[encoded data removed]",
      "text/plain": [
       "<Figure size 720x720 with 20 Axes>"
      ]
     },
     "metadata": {
      "needs_background": "light"
     },
     "output_type": "display_data"
    }
   ],
   "source": [
    "sb.pairplot(d2)"
   ]
  },
  {
   "cell_type": "code",
   "execution_count": 61,
   "metadata": {},
   "outputs": [
    {
     "data": {
      "text/plain": [
       "array(['SP', 'GR', 'ISR', 'US', 'EN', 'FR'], dtype=object)"
      ]
     },
     "execution_count": 61,
     "metadata": {},
     "output_type": "execute_result"
    }
   ],
   "source": [
    "df.Country.unique()"
   ]
  },
  {
   "cell_type": "code",
   "execution_count": 60,
   "metadata": {},
   "outputs": [
    {
     "data": {
      "text/plain": [
       "6"
      ]
     },
     "execution_count": 60,
     "metadata": {},
     "output_type": "execute_result"
    }
   ],
   "source": [
    "df.Country.nunique()"
   ]
  },
  {
   "cell_type": "code",
   "execution_count": 62,
   "metadata": {},
   "outputs": [
    {
     "data": {
      "text/plain": [
       "array([1, 2, 3])"
      ]
     },
     "execution_count": 62,
     "metadata": {},
     "output_type": "execute_result"
    }
   ],
   "source": [
    "df.type.unique()"
   ]
  },
  {
   "cell_type": "code",
   "execution_count": 65,
   "metadata": {},
   "outputs": [
    {
     "data": {
      "text/plain": [
       "ISR    10\n",
       "US      4\n",
       "FR      4\n",
       "EN      4\n",
       "GR      4\n",
       "SP      4\n",
       "Name: Country, dtype: int64"
      ]
     },
     "execution_count": 65,
     "metadata": {},
     "output_type": "execute_result"
    }
   ],
   "source": [
    "df.Country.value_counts()#['US']"
   ]
  },
  {
   "cell_type": "code",
   "execution_count": 67,
   "metadata": {},
   "outputs": [
    {
     "data": {
      "text/html": [
       "<div>\n",
       "<style scoped>\n",
       "    .dataframe tbody tr th:only-of-type {\n",
       "        vertical-align: middle;\n",
       "    }\n",
       "\n",
       "    .dataframe tbody tr th {\n",
       "        vertical-align: top;\n",
       "    }\n",
       "\n",
       "    .dataframe thead th {\n",
       "        text-align: right;\n",
       "    }\n",
       "</style>\n",
       "<table border=\"1\" class=\"dataframe\">\n",
       "  <thead>\n",
       "    <tr style=\"text-align: right;\">\n",
       "      <th></th>\n",
       "      <th>Age</th>\n",
       "      <th>Height</th>\n",
       "      <th>Weight</th>\n",
       "      <th>avg</th>\n",
       "      <th>income</th>\n",
       "      <th>rooms</th>\n",
       "      <th>family</th>\n",
       "      <th>type</th>\n",
       "    </tr>\n",
       "    <tr>\n",
       "      <th>Country</th>\n",
       "      <th></th>\n",
       "      <th></th>\n",
       "      <th></th>\n",
       "      <th></th>\n",
       "      <th></th>\n",
       "      <th></th>\n",
       "      <th></th>\n",
       "      <th></th>\n",
       "    </tr>\n",
       "  </thead>\n",
       "  <tbody>\n",
       "    <tr>\n",
       "      <th>EN</th>\n",
       "      <td>9.75</td>\n",
       "      <td>111.25</td>\n",
       "      <td>32.50</td>\n",
       "      <td>73.25</td>\n",
       "      <td>20575.0</td>\n",
       "      <td>3.5</td>\n",
       "      <td>5.75</td>\n",
       "      <td>2.75</td>\n",
       "    </tr>\n",
       "    <tr>\n",
       "      <th>FR</th>\n",
       "      <td>12.50</td>\n",
       "      <td>155.50</td>\n",
       "      <td>66.25</td>\n",
       "      <td>87.25</td>\n",
       "      <td>25925.0</td>\n",
       "      <td>5.0</td>\n",
       "      <td>5.00</td>\n",
       "      <td>2.00</td>\n",
       "    </tr>\n",
       "    <tr>\n",
       "      <th>GR</th>\n",
       "      <td>8.00</td>\n",
       "      <td>146.75</td>\n",
       "      <td>56.00</td>\n",
       "      <td>84.50</td>\n",
       "      <td>18225.0</td>\n",
       "      <td>5.5</td>\n",
       "      <td>6.00</td>\n",
       "      <td>2.50</td>\n",
       "    </tr>\n",
       "    <tr>\n",
       "      <th>ISR</th>\n",
       "      <td>8.70</td>\n",
       "      <td>146.40</td>\n",
       "      <td>57.20</td>\n",
       "      <td>81.80</td>\n",
       "      <td>18900.0</td>\n",
       "      <td>3.5</td>\n",
       "      <td>5.70</td>\n",
       "      <td>1.20</td>\n",
       "    </tr>\n",
       "    <tr>\n",
       "      <th>SP</th>\n",
       "      <td>9.75</td>\n",
       "      <td>105.75</td>\n",
       "      <td>30.75</td>\n",
       "      <td>70.75</td>\n",
       "      <td>16550.0</td>\n",
       "      <td>5.5</td>\n",
       "      <td>6.25</td>\n",
       "      <td>1.00</td>\n",
       "    </tr>\n",
       "    <tr>\n",
       "      <th>US</th>\n",
       "      <td>9.00</td>\n",
       "      <td>144.25</td>\n",
       "      <td>57.75</td>\n",
       "      <td>83.50</td>\n",
       "      <td>22200.0</td>\n",
       "      <td>4.5</td>\n",
       "      <td>6.50</td>\n",
       "      <td>2.50</td>\n",
       "    </tr>\n",
       "  </tbody>\n",
       "</table>\n",
       "</div>"
      ],
      "text/plain": [
       "           Age  Height  Weight    avg   income  rooms  family  type\n",
       "Country                                                            \n",
       "EN        9.75  111.25   32.50  73.25  20575.0    3.5    5.75  2.75\n",
       "FR       12.50  155.50   66.25  87.25  25925.0    5.0    5.00  2.00\n",
       "GR        8.00  146.75   56.00  84.50  18225.0    5.5    6.00  2.50\n",
       "ISR       8.70  146.40   57.20  81.80  18900.0    3.5    5.70  1.20\n",
       "SP        9.75  105.75   30.75  70.75  16550.0    5.5    6.25  1.00\n",
       "US        9.00  144.25   57.75  83.50  22200.0    4.5    6.50  2.50"
      ]
     },
     "execution_count": 67,
     "metadata": {},
     "output_type": "execute_result"
    }
   ],
   "source": [
    "df.groupby(['Country']).mean()"
   ]
  },
  {
   "cell_type": "code",
   "execution_count": 68,
   "metadata": {},
   "outputs": [
    {
     "data": {
      "text/html": [
       "<div>\n",
       "<style scoped>\n",
       "    .dataframe tbody tr th:only-of-type {\n",
       "        vertical-align: middle;\n",
       "    }\n",
       "\n",
       "    .dataframe tbody tr th {\n",
       "        vertical-align: top;\n",
       "    }\n",
       "\n",
       "    .dataframe thead th {\n",
       "        text-align: right;\n",
       "    }\n",
       "</style>\n",
       "<table border=\"1\" class=\"dataframe\">\n",
       "  <thead>\n",
       "    <tr style=\"text-align: right;\">\n",
       "      <th></th>\n",
       "      <th></th>\n",
       "      <th>Age</th>\n",
       "      <th>Height</th>\n",
       "      <th>Weight</th>\n",
       "      <th>avg</th>\n",
       "      <th>income</th>\n",
       "      <th>rooms</th>\n",
       "      <th>family</th>\n",
       "      <th>type</th>\n",
       "    </tr>\n",
       "    <tr>\n",
       "      <th>Country</th>\n",
       "      <th>gen</th>\n",
       "      <th></th>\n",
       "      <th></th>\n",
       "      <th></th>\n",
       "      <th></th>\n",
       "      <th></th>\n",
       "      <th></th>\n",
       "      <th></th>\n",
       "      <th></th>\n",
       "    </tr>\n",
       "  </thead>\n",
       "  <tbody>\n",
       "    <tr>\n",
       "      <th rowspan=\"2\" valign=\"top\">EN</th>\n",
       "      <th>F</th>\n",
       "      <td>9.000000</td>\n",
       "      <td>107.5</td>\n",
       "      <td>32.000000</td>\n",
       "      <td>74.000000</td>\n",
       "      <td>19000.0</td>\n",
       "      <td>3.500000</td>\n",
       "      <td>5.000000</td>\n",
       "      <td>3.000000</td>\n",
       "    </tr>\n",
       "    <tr>\n",
       "      <th>M</th>\n",
       "      <td>10.500000</td>\n",
       "      <td>115.0</td>\n",
       "      <td>33.000000</td>\n",
       "      <td>72.500000</td>\n",
       "      <td>22150.0</td>\n",
       "      <td>3.500000</td>\n",
       "      <td>6.500000</td>\n",
       "      <td>2.500000</td>\n",
       "    </tr>\n",
       "    <tr>\n",
       "      <th rowspan=\"2\" valign=\"top\">FR</th>\n",
       "      <th>F</th>\n",
       "      <td>12.500000</td>\n",
       "      <td>173.5</td>\n",
       "      <td>78.500000</td>\n",
       "      <td>91.000000</td>\n",
       "      <td>11850.0</td>\n",
       "      <td>4.000000</td>\n",
       "      <td>5.000000</td>\n",
       "      <td>1.500000</td>\n",
       "    </tr>\n",
       "    <tr>\n",
       "      <th>M</th>\n",
       "      <td>12.500000</td>\n",
       "      <td>137.5</td>\n",
       "      <td>54.000000</td>\n",
       "      <td>83.500000</td>\n",
       "      <td>40000.0</td>\n",
       "      <td>6.000000</td>\n",
       "      <td>5.000000</td>\n",
       "      <td>2.500000</td>\n",
       "    </tr>\n",
       "    <tr>\n",
       "      <th rowspan=\"2\" valign=\"top\">GR</th>\n",
       "      <th>F</th>\n",
       "      <td>7.500000</td>\n",
       "      <td>152.0</td>\n",
       "      <td>60.000000</td>\n",
       "      <td>87.000000</td>\n",
       "      <td>11000.0</td>\n",
       "      <td>4.500000</td>\n",
       "      <td>4.500000</td>\n",
       "      <td>2.500000</td>\n",
       "    </tr>\n",
       "    <tr>\n",
       "      <th>M</th>\n",
       "      <td>8.500000</td>\n",
       "      <td>141.5</td>\n",
       "      <td>52.000000</td>\n",
       "      <td>82.000000</td>\n",
       "      <td>25450.0</td>\n",
       "      <td>6.500000</td>\n",
       "      <td>7.500000</td>\n",
       "      <td>2.500000</td>\n",
       "    </tr>\n",
       "    <tr>\n",
       "      <th rowspan=\"2\" valign=\"top\">ISR</th>\n",
       "      <th>F</th>\n",
       "      <td>9.200000</td>\n",
       "      <td>151.0</td>\n",
       "      <td>59.000000</td>\n",
       "      <td>82.400000</td>\n",
       "      <td>22940.0</td>\n",
       "      <td>4.200000</td>\n",
       "      <td>4.800000</td>\n",
       "      <td>1.400000</td>\n",
       "    </tr>\n",
       "    <tr>\n",
       "      <th>M</th>\n",
       "      <td>8.200000</td>\n",
       "      <td>141.8</td>\n",
       "      <td>55.400000</td>\n",
       "      <td>81.200000</td>\n",
       "      <td>14860.0</td>\n",
       "      <td>2.800000</td>\n",
       "      <td>6.600000</td>\n",
       "      <td>1.000000</td>\n",
       "    </tr>\n",
       "    <tr>\n",
       "      <th rowspan=\"2\" valign=\"top\">SP</th>\n",
       "      <th>F</th>\n",
       "      <td>9.000000</td>\n",
       "      <td>90.0</td>\n",
       "      <td>27.000000</td>\n",
       "      <td>68.000000</td>\n",
       "      <td>18200.0</td>\n",
       "      <td>6.000000</td>\n",
       "      <td>5.000000</td>\n",
       "      <td>1.000000</td>\n",
       "    </tr>\n",
       "    <tr>\n",
       "      <th>M</th>\n",
       "      <td>10.000000</td>\n",
       "      <td>111.0</td>\n",
       "      <td>32.000000</td>\n",
       "      <td>71.666667</td>\n",
       "      <td>16000.0</td>\n",
       "      <td>5.333333</td>\n",
       "      <td>6.666667</td>\n",
       "      <td>1.000000</td>\n",
       "    </tr>\n",
       "    <tr>\n",
       "      <th rowspan=\"2\" valign=\"top\">US</th>\n",
       "      <th>F</th>\n",
       "      <td>9.666667</td>\n",
       "      <td>139.0</td>\n",
       "      <td>53.666667</td>\n",
       "      <td>81.333333</td>\n",
       "      <td>24600.0</td>\n",
       "      <td>4.666667</td>\n",
       "      <td>7.333333</td>\n",
       "      <td>2.666667</td>\n",
       "    </tr>\n",
       "    <tr>\n",
       "      <th>M</th>\n",
       "      <td>7.000000</td>\n",
       "      <td>160.0</td>\n",
       "      <td>70.000000</td>\n",
       "      <td>90.000000</td>\n",
       "      <td>15000.0</td>\n",
       "      <td>4.000000</td>\n",
       "      <td>4.000000</td>\n",
       "      <td>2.000000</td>\n",
       "    </tr>\n",
       "  </tbody>\n",
       "</table>\n",
       "</div>"
      ],
      "text/plain": [
       "                   Age  Height     Weight        avg   income     rooms  \\\n",
       "Country gen                                                               \n",
       "EN      F     9.000000   107.5  32.000000  74.000000  19000.0  3.500000   \n",
       "        M    10.500000   115.0  33.000000  72.500000  22150.0  3.500000   \n",
       "FR      F    12.500000   173.5  78.500000  91.000000  11850.0  4.000000   \n",
       "        M    12.500000   137.5  54.000000  83.500000  40000.0  6.000000   \n",
       "GR      F     7.500000   152.0  60.000000  87.000000  11000.0  4.500000   \n",
       "        M     8.500000   141.5  52.000000  82.000000  25450.0  6.500000   \n",
       "ISR     F     9.200000   151.0  59.000000  82.400000  22940.0  4.200000   \n",
       "        M     8.200000   141.8  55.400000  81.200000  14860.0  2.800000   \n",
       "SP      F     9.000000    90.0  27.000000  68.000000  18200.0  6.000000   \n",
       "        M    10.000000   111.0  32.000000  71.666667  16000.0  5.333333   \n",
       "US      F     9.666667   139.0  53.666667  81.333333  24600.0  4.666667   \n",
       "        M     7.000000   160.0  70.000000  90.000000  15000.0  4.000000   \n",
       "\n",
       "               family      type  \n",
       "Country gen                      \n",
       "EN      F    5.000000  3.000000  \n",
       "        M    6.500000  2.500000  \n",
       "FR      F    5.000000  1.500000  \n",
       "        M    5.000000  2.500000  \n",
       "GR      F    4.500000  2.500000  \n",
       "        M    7.500000  2.500000  \n",
       "ISR     F    4.800000  1.400000  \n",
       "        M    6.600000  1.000000  \n",
       "SP      F    5.000000  1.000000  \n",
       "        M    6.666667  1.000000  \n",
       "US      F    7.333333  2.666667  \n",
       "        M    4.000000  2.000000  "
      ]
     },
     "execution_count": 68,
     "metadata": {},
     "output_type": "execute_result"
    }
   ],
   "source": [
    "df.groupby(['Country','gen']).mean()"
   ]
  },
  {
   "cell_type": "code",
   "execution_count": 71,
   "metadata": {},
   "outputs": [
    {
     "data": {
      "text/plain": [
       "<matplotlib.axes._subplots.AxesSubplot at 0x7f81f1cb02e8>"
      ]
     },
     "execution_count": 71,
     "metadata": {},
     "output_type": "execute_result"
    },
    {
     "data": {
      "image/png": "[encoded data removed]",
      "text/plain": [
       "<Figure size 432x288 with 1 Axes>"
      ]
     },
     "metadata": {
      "needs_background": "light"
     },
     "output_type": "display_data"
    }
   ],
   "source": [
    "sb.countplot(df.Country,hue=df.gen)"
   ]
  },
  {
   "cell_type": "code",
   "execution_count": 72,
   "metadata": {},
   "outputs": [
    {
     "data": {
      "text/plain": [
       "<matplotlib.axes._subplots.AxesSubplot at 0x7f81a23a98d0>"
      ]
     },
     "execution_count": 72,
     "metadata": {},
     "output_type": "execute_result"
    },
    {
     "data": {
      "image/png": "[encoded data removed]",
      "text/plain": [
       "<Figure size 432x288 with 1 Axes>"
      ]
     },
     "metadata": {
      "needs_background": "light"
     },
     "output_type": "display_data"
    }
   ],
   "source": [
    "sb.countplot(data=df , x='Country' ,hue='gen')"
   ]
  },
  {
   "cell_type": "code",
   "execution_count": 74,
   "metadata": {},
   "outputs": [
    {
     "data": {
      "text/plain": [
       "<seaborn.axisgrid.FacetGrid at 0x7f81f188b438>"
      ]
     },
     "execution_count": 74,
     "metadata": {},
     "output_type": "execute_result"
    },
    {
     "data": {
      "image/png": "[encoded data removed]",
      "text/plain": [
       "<Figure size 1124.62x360 with 3 Axes>"
      ]
     },
     "metadata": {
      "needs_background": "light"
     },
     "output_type": "display_data"
    }
   ],
   "source": [
    "sb.catplot(data=df ,x='Country' , hue='gen' ,col='type' , kind='count' )"
   ]
  },
  {
   "cell_type": "code",
   "execution_count": 76,
   "metadata": {},
   "outputs": [
    {
     "data": {
      "text/plain": [
       "<matplotlib.axes._subplots.AxesSubplot at 0x7f81f1d0cc50>"
      ]
     },
     "execution_count": 76,
     "metadata": {},
     "output_type": "execute_result"
    },
    {
     "data": {
      "image/png": "[encoded data removed]",
      "text/plain": [
       "<Figure size 432x288 with 1 Axes>"
      ]
     },
     "metadata": {
      "needs_background": "light"
     },
     "output_type": "display_data"
    }
   ],
   "source": [
    "sb.boxplot(data=df , x='type' , y='Age')"
   ]
  },
  {
   "cell_type": "code",
   "execution_count": 154,
   "metadata": {},
   "outputs": [],
   "source": [
    "df = pd.read_csv(\"pupils-ex.csv\")"
   ]
  },
  {
   "cell_type": "code",
   "execution_count": 155,
   "metadata": {},
   "outputs": [
    {
     "name": "stdout",
     "output_type": "stream",
     "text": [
      "<class 'pandas.core.frame.DataFrame'>\n",
      "RangeIndex: 30 entries, 0 to 29\n",
      "Data columns (total 11 columns):\n",
      " #   Column   Non-Null Count  Dtype  \n",
      "---  ------   --------------  -----  \n",
      " 0   Name     30 non-null     object \n",
      " 1   Age      30 non-null     int64  \n",
      " 2   Country  21 non-null     object \n",
      " 3   Height   24 non-null     float64\n",
      " 4   Weight   30 non-null     int64  \n",
      " 5   avg      30 non-null     int64  \n",
      " 6   income   30 non-null     int64  \n",
      " 7   rooms    30 non-null     int64  \n",
      " 8   family   30 non-null     int64  \n",
      " 9   type     30 non-null     int64  \n",
      " 10  gen      30 non-null     object \n",
      "dtypes: float64(1), int64(7), object(3)\n",
      "memory usage: 2.7+ KB\n"
     ]
    }
   ],
   "source": [
    "df.info()"
   ]
  },
  {
   "cell_type": "code",
   "execution_count": 120,
   "metadata": {},
   "outputs": [],
   "source": [
    "df.Height.fillna(df.Height.mean(),inplace=True)"
   ]
  },
  {
   "cell_type": "code",
   "execution_count": 121,
   "metadata": {},
   "outputs": [],
   "source": [
    "df.Country.fillna('ISR',inplace=True)"
   ]
  },
  {
   "cell_type": "code",
   "execution_count": 122,
   "metadata": {},
   "outputs": [
    {
     "data": {
      "text/html": [
       "<div>\n",
       "<style scoped>\n",
       "    .dataframe tbody tr th:only-of-type {\n",
       "        vertical-align: middle;\n",
       "    }\n",
       "\n",
       "    .dataframe tbody tr th {\n",
       "        vertical-align: top;\n",
       "    }\n",
       "\n",
       "    .dataframe thead th {\n",
       "        text-align: right;\n",
       "    }\n",
       "</style>\n",
       "<table border=\"1\" class=\"dataframe\">\n",
       "  <thead>\n",
       "    <tr style=\"text-align: right;\">\n",
       "      <th></th>\n",
       "      <th>Name</th>\n",
       "      <th>Age</th>\n",
       "      <th>Country</th>\n",
       "      <th>Height</th>\n",
       "      <th>Weight</th>\n",
       "      <th>avg</th>\n",
       "      <th>income</th>\n",
       "      <th>rooms</th>\n",
       "      <th>family</th>\n",
       "      <th>type</th>\n",
       "      <th>gen</th>\n",
       "    </tr>\n",
       "  </thead>\n",
       "  <tbody>\n",
       "    <tr>\n",
       "      <th>0</th>\n",
       "      <td>adar</td>\n",
       "      <td>6</td>\n",
       "      <td>SP</td>\n",
       "      <td>113.000</td>\n",
       "      <td>30</td>\n",
       "      <td>70</td>\n",
       "      <td>16700</td>\n",
       "      <td>7</td>\n",
       "      <td>6</td>\n",
       "      <td>1</td>\n",
       "      <td>M</td>\n",
       "    </tr>\n",
       "    <tr>\n",
       "      <th>1</th>\n",
       "      <td>agam</td>\n",
       "      <td>6</td>\n",
       "      <td>GR</td>\n",
       "      <td>172.000</td>\n",
       "      <td>71</td>\n",
       "      <td>92</td>\n",
       "      <td>9200</td>\n",
       "      <td>5</td>\n",
       "      <td>4</td>\n",
       "      <td>2</td>\n",
       "      <td>F</td>\n",
       "    </tr>\n",
       "    <tr>\n",
       "      <th>2</th>\n",
       "      <td>avi</td>\n",
       "      <td>7</td>\n",
       "      <td>ISR</td>\n",
       "      <td>143.000</td>\n",
       "      <td>58</td>\n",
       "      <td>82</td>\n",
       "      <td>12000</td>\n",
       "      <td>3</td>\n",
       "      <td>7</td>\n",
       "      <td>1</td>\n",
       "      <td>M</td>\n",
       "    </tr>\n",
       "    <tr>\n",
       "      <th>3</th>\n",
       "      <td>dani</td>\n",
       "      <td>7</td>\n",
       "      <td>US</td>\n",
       "      <td>139.125</td>\n",
       "      <td>70</td>\n",
       "      <td>90</td>\n",
       "      <td>15000</td>\n",
       "      <td>4</td>\n",
       "      <td>4</td>\n",
       "      <td>2</td>\n",
       "      <td>M</td>\n",
       "    </tr>\n",
       "    <tr>\n",
       "      <th>4</th>\n",
       "      <td>dina</td>\n",
       "      <td>7</td>\n",
       "      <td>ISR</td>\n",
       "      <td>110.000</td>\n",
       "      <td>26</td>\n",
       "      <td>64</td>\n",
       "      <td>10000</td>\n",
       "      <td>6</td>\n",
       "      <td>8</td>\n",
       "      <td>1</td>\n",
       "      <td>F</td>\n",
       "    </tr>\n",
       "  </tbody>\n",
       "</table>\n",
       "</div>"
      ],
      "text/plain": [
       "   Name  Age Country   Height  Weight  avg  income  rooms  family  type gen\n",
       "0  adar    6      SP  113.000      30   70   16700      7       6     1   M\n",
       "1  agam    6      GR  172.000      71   92    9200      5       4     2   F\n",
       "2   avi    7     ISR  143.000      58   82   12000      3       7     1   M\n",
       "3  dani    7      US  139.125      70   90   15000      4       4     2   M\n",
       "4  dina    7     ISR  110.000      26   64   10000      6       8     1   F"
      ]
     },
     "execution_count": 122,
     "metadata": {},
     "output_type": "execute_result"
    }
   ],
   "source": [
    "df.head()"
   ]
  },
  {
   "cell_type": "code",
   "execution_count": 123,
   "metadata": {},
   "outputs": [],
   "source": [
    "s = df.Height"
   ]
  },
  {
   "cell_type": "code",
   "execution_count": 124,
   "metadata": {},
   "outputs": [
    {
     "data": {
      "text/plain": [
       "139.125"
      ]
     },
     "execution_count": 124,
     "metadata": {},
     "output_type": "execute_result"
    }
   ],
   "source": [
    "s.median()"
   ]
  },
  {
   "cell_type": "code",
   "execution_count": 125,
   "metadata": {},
   "outputs": [
    {
     "data": {
      "text/plain": [
       "139.125"
      ]
     },
     "execution_count": 125,
     "metadata": {},
     "output_type": "execute_result"
    }
   ],
   "source": [
    "s.mean()"
   ]
  },
  {
   "cell_type": "code",
   "execution_count": 126,
   "metadata": {},
   "outputs": [
    {
     "data": {
      "text/plain": [
       "'ISR'"
      ]
     },
     "execution_count": 126,
     "metadata": {},
     "output_type": "execute_result"
    }
   ],
   "source": [
    "df.Country.mode()[0]"
   ]
  },
  {
   "cell_type": "code",
   "execution_count": 129,
   "metadata": {},
   "outputs": [],
   "source": [
    "df.Age//=10"
   ]
  },
  {
   "cell_type": "code",
   "execution_count": 130,
   "metadata": {},
   "outputs": [
    {
     "data": {
      "text/html": [
       "<div>\n",
       "<style scoped>\n",
       "    .dataframe tbody tr th:only-of-type {\n",
       "        vertical-align: middle;\n",
       "    }\n",
       "\n",
       "    .dataframe tbody tr th {\n",
       "        vertical-align: top;\n",
       "    }\n",
       "\n",
       "    .dataframe thead th {\n",
       "        text-align: right;\n",
       "    }\n",
       "</style>\n",
       "<table border=\"1\" class=\"dataframe\">\n",
       "  <thead>\n",
       "    <tr style=\"text-align: right;\">\n",
       "      <th></th>\n",
       "      <th>Name</th>\n",
       "      <th>Age</th>\n",
       "      <th>Country</th>\n",
       "      <th>Height</th>\n",
       "      <th>Weight</th>\n",
       "      <th>avg</th>\n",
       "      <th>income</th>\n",
       "      <th>rooms</th>\n",
       "      <th>family</th>\n",
       "      <th>type</th>\n",
       "      <th>gen</th>\n",
       "    </tr>\n",
       "  </thead>\n",
       "  <tbody>\n",
       "    <tr>\n",
       "      <th>0</th>\n",
       "      <td>adar</td>\n",
       "      <td>6</td>\n",
       "      <td>SP</td>\n",
       "      <td>113.000</td>\n",
       "      <td>30</td>\n",
       "      <td>70</td>\n",
       "      <td>16700</td>\n",
       "      <td>7</td>\n",
       "      <td>6</td>\n",
       "      <td>1</td>\n",
       "      <td>M</td>\n",
       "    </tr>\n",
       "    <tr>\n",
       "      <th>1</th>\n",
       "      <td>agam</td>\n",
       "      <td>6</td>\n",
       "      <td>GR</td>\n",
       "      <td>172.000</td>\n",
       "      <td>71</td>\n",
       "      <td>92</td>\n",
       "      <td>9200</td>\n",
       "      <td>5</td>\n",
       "      <td>4</td>\n",
       "      <td>2</td>\n",
       "      <td>F</td>\n",
       "    </tr>\n",
       "    <tr>\n",
       "      <th>2</th>\n",
       "      <td>avi</td>\n",
       "      <td>7</td>\n",
       "      <td>ISR</td>\n",
       "      <td>143.000</td>\n",
       "      <td>58</td>\n",
       "      <td>82</td>\n",
       "      <td>12000</td>\n",
       "      <td>3</td>\n",
       "      <td>7</td>\n",
       "      <td>1</td>\n",
       "      <td>M</td>\n",
       "    </tr>\n",
       "    <tr>\n",
       "      <th>3</th>\n",
       "      <td>dani</td>\n",
       "      <td>7</td>\n",
       "      <td>US</td>\n",
       "      <td>139.125</td>\n",
       "      <td>70</td>\n",
       "      <td>90</td>\n",
       "      <td>15000</td>\n",
       "      <td>4</td>\n",
       "      <td>4</td>\n",
       "      <td>2</td>\n",
       "      <td>M</td>\n",
       "    </tr>\n",
       "    <tr>\n",
       "      <th>4</th>\n",
       "      <td>dina</td>\n",
       "      <td>7</td>\n",
       "      <td>ISR</td>\n",
       "      <td>110.000</td>\n",
       "      <td>26</td>\n",
       "      <td>64</td>\n",
       "      <td>10000</td>\n",
       "      <td>6</td>\n",
       "      <td>8</td>\n",
       "      <td>1</td>\n",
       "      <td>F</td>\n",
       "    </tr>\n",
       "  </tbody>\n",
       "</table>\n",
       "</div>"
      ],
      "text/plain": [
       "   Name  Age Country   Height  Weight  avg  income  rooms  family  type gen\n",
       "0  adar    6      SP  113.000      30   70   16700      7       6     1   M\n",
       "1  agam    6      GR  172.000      71   92    9200      5       4     2   F\n",
       "2   avi    7     ISR  143.000      58   82   12000      3       7     1   M\n",
       "3  dani    7      US  139.125      70   90   15000      4       4     2   M\n",
       "4  dina    7     ISR  110.000      26   64   10000      6       8     1   F"
      ]
     },
     "execution_count": 130,
     "metadata": {},
     "output_type": "execute_result"
    }
   ],
   "source": [
    "df.head()"
   ]
  },
  {
   "cell_type": "code",
   "execution_count": 132,
   "metadata": {},
   "outputs": [],
   "source": [
    "df.loc[df.Age > 10 , 'Age'] = 10"
   ]
  },
  {
   "cell_type": "code",
   "execution_count": 142,
   "metadata": {},
   "outputs": [],
   "source": [
    "df.loc[df.Height.isnull() ,'Age'] = 15"
   ]
  },
  {
   "cell_type": "code",
   "execution_count": 151,
   "metadata": {},
   "outputs": [
    {
     "data": {
      "text/html": [
       "<div>\n",
       "<style scoped>\n",
       "    .dataframe tbody tr th:only-of-type {\n",
       "        vertical-align: middle;\n",
       "    }\n",
       "\n",
       "    .dataframe tbody tr th {\n",
       "        vertical-align: top;\n",
       "    }\n",
       "\n",
       "    .dataframe thead th {\n",
       "        text-align: right;\n",
       "    }\n",
       "</style>\n",
       "<table border=\"1\" class=\"dataframe\">\n",
       "  <thead>\n",
       "    <tr style=\"text-align: right;\">\n",
       "      <th></th>\n",
       "      <th>Name</th>\n",
       "      <th>Age</th>\n",
       "      <th>Country</th>\n",
       "      <th>Height</th>\n",
       "      <th>Weight</th>\n",
       "      <th>avg</th>\n",
       "      <th>income</th>\n",
       "      <th>rooms</th>\n",
       "      <th>family</th>\n",
       "      <th>type</th>\n",
       "      <th>gen</th>\n",
       "    </tr>\n",
       "  </thead>\n",
       "  <tbody>\n",
       "    <tr>\n",
       "      <th>3</th>\n",
       "      <td>dani</td>\n",
       "      <td>15</td>\n",
       "      <td>US</td>\n",
       "      <td>NaN</td>\n",
       "      <td>70</td>\n",
       "      <td>90</td>\n",
       "      <td>15000</td>\n",
       "      <td>4</td>\n",
       "      <td>4</td>\n",
       "      <td>2</td>\n",
       "      <td>M</td>\n",
       "    </tr>\n",
       "    <tr>\n",
       "      <th>8</th>\n",
       "      <td>ester</td>\n",
       "      <td>15</td>\n",
       "      <td>ISR</td>\n",
       "      <td>NaN</td>\n",
       "      <td>48</td>\n",
       "      <td>79</td>\n",
       "      <td>19600</td>\n",
       "      <td>2</td>\n",
       "      <td>4</td>\n",
       "      <td>1</td>\n",
       "      <td>F</td>\n",
       "    </tr>\n",
       "    <tr>\n",
       "      <th>13</th>\n",
       "      <td>mia</td>\n",
       "      <td>15</td>\n",
       "      <td>NaN</td>\n",
       "      <td>NaN</td>\n",
       "      <td>49</td>\n",
       "      <td>82</td>\n",
       "      <td>12800</td>\n",
       "      <td>4</td>\n",
       "      <td>5</td>\n",
       "      <td>3</td>\n",
       "      <td>F</td>\n",
       "    </tr>\n",
       "    <tr>\n",
       "      <th>17</th>\n",
       "      <td>ofer</td>\n",
       "      <td>15</td>\n",
       "      <td>NaN</td>\n",
       "      <td>NaN</td>\n",
       "      <td>34</td>\n",
       "      <td>71</td>\n",
       "      <td>9300</td>\n",
       "      <td>4</td>\n",
       "      <td>8</td>\n",
       "      <td>1</td>\n",
       "      <td>M</td>\n",
       "    </tr>\n",
       "    <tr>\n",
       "      <th>22</th>\n",
       "      <td>rina</td>\n",
       "      <td>15</td>\n",
       "      <td>EN</td>\n",
       "      <td>NaN</td>\n",
       "      <td>31</td>\n",
       "      <td>73</td>\n",
       "      <td>30000</td>\n",
       "      <td>2</td>\n",
       "      <td>5</td>\n",
       "      <td>3</td>\n",
       "      <td>F</td>\n",
       "    </tr>\n",
       "    <tr>\n",
       "      <th>26</th>\n",
       "      <td>udi</td>\n",
       "      <td>15</td>\n",
       "      <td>FR</td>\n",
       "      <td>NaN</td>\n",
       "      <td>55</td>\n",
       "      <td>85</td>\n",
       "      <td>35000</td>\n",
       "      <td>7</td>\n",
       "      <td>6</td>\n",
       "      <td>2</td>\n",
       "      <td>M</td>\n",
       "    </tr>\n",
       "  </tbody>\n",
       "</table>\n",
       "</div>"
      ],
      "text/plain": [
       "     Name  Age Country  Height  Weight  avg  income  rooms  family  type gen\n",
       "3    dani   15      US     NaN      70   90   15000      4       4     2   M\n",
       "8   ester   15     ISR     NaN      48   79   19600      2       4     1   F\n",
       "13    mia   15     NaN     NaN      49   82   12800      4       5     3   F\n",
       "17   ofer   15     NaN     NaN      34   71    9300      4       8     1   M\n",
       "22   rina   15      EN     NaN      31   73   30000      2       5     3   F\n",
       "26    udi   15      FR     NaN      55   85   35000      7       6     2   M"
      ]
     },
     "execution_count": 151,
     "metadata": {},
     "output_type": "execute_result"
    }
   ],
   "source": [
    "df.loc[df.Height.isnull()]"
   ]
  },
  {
   "cell_type": "code",
   "execution_count": 152,
   "metadata": {},
   "outputs": [
    {
     "data": {
      "text/plain": [
       "Int64Index([3, 8, 13, 17, 22, 26], dtype='int64')"
      ]
     },
     "execution_count": 152,
     "metadata": {},
     "output_type": "execute_result"
    }
   ],
   "source": [
    "df.loc[df.Height.isnull()].index"
   ]
  },
  {
   "cell_type": "code",
   "execution_count": 153,
   "metadata": {},
   "outputs": [],
   "source": [
    "df.drop(df.loc[df.Height.isnull()].index,inplace=True)"
   ]
  },
  {
   "cell_type": "code",
   "execution_count": 156,
   "metadata": {},
   "outputs": [
    {
     "data": {
      "text/html": [
       "<div>\n",
       "<style scoped>\n",
       "    .dataframe tbody tr th:only-of-type {\n",
       "        vertical-align: middle;\n",
       "    }\n",
       "\n",
       "    .dataframe tbody tr th {\n",
       "        vertical-align: top;\n",
       "    }\n",
       "\n",
       "    .dataframe thead th {\n",
       "        text-align: right;\n",
       "    }\n",
       "</style>\n",
       "<table border=\"1\" class=\"dataframe\">\n",
       "  <thead>\n",
       "    <tr style=\"text-align: right;\">\n",
       "      <th></th>\n",
       "      <th>Age</th>\n",
       "      <th>Height</th>\n",
       "      <th>Weight</th>\n",
       "      <th>avg</th>\n",
       "      <th>income</th>\n",
       "      <th>rooms</th>\n",
       "      <th>family</th>\n",
       "      <th>type</th>\n",
       "    </tr>\n",
       "  </thead>\n",
       "  <tbody>\n",
       "    <tr>\n",
       "      <th>count</th>\n",
       "      <td>30.000000</td>\n",
       "      <td>24.000000</td>\n",
       "      <td>30.000000</td>\n",
       "      <td>30.000000</td>\n",
       "      <td>30.000000</td>\n",
       "      <td>30.000000</td>\n",
       "      <td>30.000000</td>\n",
       "      <td>30.000000</td>\n",
       "    </tr>\n",
       "    <tr>\n",
       "      <th>mean</th>\n",
       "      <td>10.566667</td>\n",
       "      <td>139.125000</td>\n",
       "      <td>51.500000</td>\n",
       "      <td>80.500000</td>\n",
       "      <td>20096.666667</td>\n",
       "      <td>4.366667</td>\n",
       "      <td>5.833333</td>\n",
       "      <td>1.833333</td>\n",
       "    </tr>\n",
       "    <tr>\n",
       "      <th>std</th>\n",
       "      <td>6.688556</td>\n",
       "      <td>27.291203</td>\n",
       "      <td>18.104581</td>\n",
       "      <td>7.942683</td>\n",
       "      <td>11943.270601</td>\n",
       "      <td>1.629117</td>\n",
       "      <td>1.743626</td>\n",
       "      <td>0.833908</td>\n",
       "    </tr>\n",
       "    <tr>\n",
       "      <th>min</th>\n",
       "      <td>6.000000</td>\n",
       "      <td>90.000000</td>\n",
       "      <td>26.000000</td>\n",
       "      <td>64.000000</td>\n",
       "      <td>7600.000000</td>\n",
       "      <td>2.000000</td>\n",
       "      <td>3.000000</td>\n",
       "      <td>1.000000</td>\n",
       "    </tr>\n",
       "    <tr>\n",
       "      <th>25%</th>\n",
       "      <td>8.000000</td>\n",
       "      <td>114.500000</td>\n",
       "      <td>34.000000</td>\n",
       "      <td>74.000000</td>\n",
       "      <td>11175.000000</td>\n",
       "      <td>3.000000</td>\n",
       "      <td>4.250000</td>\n",
       "      <td>1.000000</td>\n",
       "    </tr>\n",
       "    <tr>\n",
       "      <th>50%</th>\n",
       "      <td>9.000000</td>\n",
       "      <td>137.000000</td>\n",
       "      <td>53.000000</td>\n",
       "      <td>82.000000</td>\n",
       "      <td>17650.000000</td>\n",
       "      <td>4.500000</td>\n",
       "      <td>6.000000</td>\n",
       "      <td>2.000000</td>\n",
       "    </tr>\n",
       "    <tr>\n",
       "      <th>75%</th>\n",
       "      <td>11.000000</td>\n",
       "      <td>159.750000</td>\n",
       "      <td>65.500000</td>\n",
       "      <td>85.750000</td>\n",
       "      <td>23750.000000</td>\n",
       "      <td>5.750000</td>\n",
       "      <td>7.000000</td>\n",
       "      <td>2.750000</td>\n",
       "    </tr>\n",
       "    <tr>\n",
       "      <th>max</th>\n",
       "      <td>44.000000</td>\n",
       "      <td>192.000000</td>\n",
       "      <td>90.000000</td>\n",
       "      <td>94.000000</td>\n",
       "      <td>54100.000000</td>\n",
       "      <td>7.000000</td>\n",
       "      <td>10.000000</td>\n",
       "      <td>3.000000</td>\n",
       "    </tr>\n",
       "  </tbody>\n",
       "</table>\n",
       "</div>"
      ],
      "text/plain": [
       "             Age      Height     Weight        avg        income      rooms  \\\n",
       "count  30.000000   24.000000  30.000000  30.000000     30.000000  30.000000   \n",
       "mean   10.566667  139.125000  51.500000  80.500000  20096.666667   4.366667   \n",
       "std     6.688556   27.291203  18.104581   7.942683  11943.270601   1.629117   \n",
       "min     6.000000   90.000000  26.000000  64.000000   7600.000000   2.000000   \n",
       "25%     8.000000  114.500000  34.000000  74.000000  11175.000000   3.000000   \n",
       "50%     9.000000  137.000000  53.000000  82.000000  17650.000000   4.500000   \n",
       "75%    11.000000  159.750000  65.500000  85.750000  23750.000000   5.750000   \n",
       "max    44.000000  192.000000  90.000000  94.000000  54100.000000   7.000000   \n",
       "\n",
       "          family       type  \n",
       "count  30.000000  30.000000  \n",
       "mean    5.833333   1.833333  \n",
       "std     1.743626   0.833908  \n",
       "min     3.000000   1.000000  \n",
       "25%     4.250000   1.000000  \n",
       "50%     6.000000   2.000000  \n",
       "75%     7.000000   2.750000  \n",
       "max    10.000000   3.000000  "
      ]
     },
     "execution_count": 156,
     "metadata": {},
     "output_type": "execute_result"
    }
   ],
   "source": [
    "df.describe()"
   ]
  },
  {
   "cell_type": "code",
   "execution_count": 160,
   "metadata": {},
   "outputs": [],
   "source": [
    "df.drop(df.loc[df.Age > 20].index , inplace=True)"
   ]
  },
  {
   "cell_type": "code",
   "execution_count": 163,
   "metadata": {},
   "outputs": [],
   "source": [
    "df.drop(['Age'],axis=1,inplace=True)"
   ]
  },
  {
   "cell_type": "code",
   "execution_count": 167,
   "metadata": {},
   "outputs": [
    {
     "data": {
      "text/html": [
       "<div>\n",
       "<style scoped>\n",
       "    .dataframe tbody tr th:only-of-type {\n",
       "        vertical-align: middle;\n",
       "    }\n",
       "\n",
       "    .dataframe tbody tr th {\n",
       "        vertical-align: top;\n",
       "    }\n",
       "\n",
       "    .dataframe thead th {\n",
       "        text-align: right;\n",
       "    }\n",
       "</style>\n",
       "<table border=\"1\" class=\"dataframe\">\n",
       "  <thead>\n",
       "    <tr style=\"text-align: right;\">\n",
       "      <th></th>\n",
       "      <th>Name</th>\n",
       "      <th>Country</th>\n",
       "      <th>Height</th>\n",
       "      <th>Weight</th>\n",
       "      <th>avg</th>\n",
       "      <th>income</th>\n",
       "      <th>family</th>\n",
       "      <th>type</th>\n",
       "      <th>gen</th>\n",
       "    </tr>\n",
       "  </thead>\n",
       "  <tbody>\n",
       "    <tr>\n",
       "      <th>0</th>\n",
       "      <td>adar</td>\n",
       "      <td>SP</td>\n",
       "      <td>113.0</td>\n",
       "      <td>30</td>\n",
       "      <td>70</td>\n",
       "      <td>16700</td>\n",
       "      <td>6</td>\n",
       "      <td>1</td>\n",
       "      <td>M</td>\n",
       "    </tr>\n",
       "    <tr>\n",
       "      <th>1</th>\n",
       "      <td>agam</td>\n",
       "      <td>GR</td>\n",
       "      <td>172.0</td>\n",
       "      <td>71</td>\n",
       "      <td>92</td>\n",
       "      <td>9200</td>\n",
       "      <td>4</td>\n",
       "      <td>2</td>\n",
       "      <td>F</td>\n",
       "    </tr>\n",
       "    <tr>\n",
       "      <th>2</th>\n",
       "      <td>avi</td>\n",
       "      <td>NaN</td>\n",
       "      <td>143.0</td>\n",
       "      <td>58</td>\n",
       "      <td>82</td>\n",
       "      <td>12000</td>\n",
       "      <td>7</td>\n",
       "      <td>1</td>\n",
       "      <td>M</td>\n",
       "    </tr>\n",
       "    <tr>\n",
       "      <th>3</th>\n",
       "      <td>dani</td>\n",
       "      <td>US</td>\n",
       "      <td>NaN</td>\n",
       "      <td>70</td>\n",
       "      <td>90</td>\n",
       "      <td>15000</td>\n",
       "      <td>4</td>\n",
       "      <td>2</td>\n",
       "      <td>M</td>\n",
       "    </tr>\n",
       "    <tr>\n",
       "      <th>4</th>\n",
       "      <td>dina</td>\n",
       "      <td>ISR</td>\n",
       "      <td>110.0</td>\n",
       "      <td>26</td>\n",
       "      <td>64</td>\n",
       "      <td>10000</td>\n",
       "      <td>8</td>\n",
       "      <td>1</td>\n",
       "      <td>F</td>\n",
       "    </tr>\n",
       "    <tr>\n",
       "      <th>5</th>\n",
       "      <td>efrat</td>\n",
       "      <td>NaN</td>\n",
       "      <td>115.0</td>\n",
       "      <td>33</td>\n",
       "      <td>75</td>\n",
       "      <td>8000</td>\n",
       "      <td>5</td>\n",
       "      <td>3</td>\n",
       "      <td>F</td>\n",
       "    </tr>\n",
       "    <tr>\n",
       "      <th>6</th>\n",
       "      <td>ehud</td>\n",
       "      <td>ISR</td>\n",
       "      <td>155.0</td>\n",
       "      <td>66</td>\n",
       "      <td>85</td>\n",
       "      <td>18000</td>\n",
       "      <td>7</td>\n",
       "      <td>1</td>\n",
       "      <td>M</td>\n",
       "    </tr>\n",
       "    <tr>\n",
       "      <th>7</th>\n",
       "      <td>eli</td>\n",
       "      <td>NaN</td>\n",
       "      <td>155.0</td>\n",
       "      <td>61</td>\n",
       "      <td>84</td>\n",
       "      <td>8900</td>\n",
       "      <td>10</td>\n",
       "      <td>2</td>\n",
       "      <td>M</td>\n",
       "    </tr>\n",
       "    <tr>\n",
       "      <th>8</th>\n",
       "      <td>ester</td>\n",
       "      <td>ISR</td>\n",
       "      <td>NaN</td>\n",
       "      <td>48</td>\n",
       "      <td>79</td>\n",
       "      <td>19600</td>\n",
       "      <td>4</td>\n",
       "      <td>1</td>\n",
       "      <td>F</td>\n",
       "    </tr>\n",
       "    <tr>\n",
       "      <th>9</th>\n",
       "      <td>evyatar</td>\n",
       "      <td>NaN</td>\n",
       "      <td>110.0</td>\n",
       "      <td>34</td>\n",
       "      <td>72</td>\n",
       "      <td>7600</td>\n",
       "      <td>4</td>\n",
       "      <td>1</td>\n",
       "      <td>M</td>\n",
       "    </tr>\n",
       "    <tr>\n",
       "      <th>10</th>\n",
       "      <td>itamar</td>\n",
       "      <td>EN</td>\n",
       "      <td>110.0</td>\n",
       "      <td>30</td>\n",
       "      <td>71</td>\n",
       "      <td>27000</td>\n",
       "      <td>5</td>\n",
       "      <td>2</td>\n",
       "      <td>M</td>\n",
       "    </tr>\n",
       "    <tr>\n",
       "      <th>11</th>\n",
       "      <td>liel</td>\n",
       "      <td>NaN</td>\n",
       "      <td>142.0</td>\n",
       "      <td>55</td>\n",
       "      <td>84</td>\n",
       "      <td>24000</td>\n",
       "      <td>7</td>\n",
       "      <td>1</td>\n",
       "      <td>M</td>\n",
       "    </tr>\n",
       "    <tr>\n",
       "      <th>12</th>\n",
       "      <td>lilach</td>\n",
       "      <td>ISR</td>\n",
       "      <td>192.0</td>\n",
       "      <td>88</td>\n",
       "      <td>94</td>\n",
       "      <td>23000</td>\n",
       "      <td>6</td>\n",
       "      <td>2</td>\n",
       "      <td>F</td>\n",
       "    </tr>\n",
       "    <tr>\n",
       "      <th>13</th>\n",
       "      <td>mia</td>\n",
       "      <td>NaN</td>\n",
       "      <td>NaN</td>\n",
       "      <td>49</td>\n",
       "      <td>82</td>\n",
       "      <td>12800</td>\n",
       "      <td>5</td>\n",
       "      <td>3</td>\n",
       "      <td>F</td>\n",
       "    </tr>\n",
       "    <tr>\n",
       "      <th>14</th>\n",
       "      <td>michal</td>\n",
       "      <td>US</td>\n",
       "      <td>132.0</td>\n",
       "      <td>53</td>\n",
       "      <td>79</td>\n",
       "      <td>20400</td>\n",
       "      <td>7</td>\n",
       "      <td>3</td>\n",
       "      <td>F</td>\n",
       "    </tr>\n",
       "    <tr>\n",
       "      <th>15</th>\n",
       "      <td>moshe</td>\n",
       "      <td>GR</td>\n",
       "      <td>128.0</td>\n",
       "      <td>43</td>\n",
       "      <td>80</td>\n",
       "      <td>42000</td>\n",
       "      <td>5</td>\n",
       "      <td>3</td>\n",
       "      <td>M</td>\n",
       "    </tr>\n",
       "    <tr>\n",
       "      <th>16</th>\n",
       "      <td>noya</td>\n",
       "      <td>SP</td>\n",
       "      <td>90.0</td>\n",
       "      <td>27</td>\n",
       "      <td>68</td>\n",
       "      <td>18200</td>\n",
       "      <td>5</td>\n",
       "      <td>1</td>\n",
       "      <td>F</td>\n",
       "    </tr>\n",
       "    <tr>\n",
       "      <th>17</th>\n",
       "      <td>ofer</td>\n",
       "      <td>NaN</td>\n",
       "      <td>NaN</td>\n",
       "      <td>34</td>\n",
       "      <td>71</td>\n",
       "      <td>9300</td>\n",
       "      <td>8</td>\n",
       "      <td>1</td>\n",
       "      <td>M</td>\n",
       "    </tr>\n",
       "    <tr>\n",
       "      <th>18</th>\n",
       "      <td>ohad</td>\n",
       "      <td>ISR</td>\n",
       "      <td>159.0</td>\n",
       "      <td>64</td>\n",
       "      <td>83</td>\n",
       "      <td>12700</td>\n",
       "      <td>8</td>\n",
       "      <td>1</td>\n",
       "      <td>M</td>\n",
       "    </tr>\n",
       "    <tr>\n",
       "      <th>19</th>\n",
       "      <td>omer</td>\n",
       "      <td>US</td>\n",
       "      <td>162.0</td>\n",
       "      <td>68</td>\n",
       "      <td>87</td>\n",
       "      <td>34500</td>\n",
       "      <td>8</td>\n",
       "      <td>2</td>\n",
       "      <td>F</td>\n",
       "    </tr>\n",
       "    <tr>\n",
       "      <th>21</th>\n",
       "      <td>orit</td>\n",
       "      <td>NaN</td>\n",
       "      <td>175.0</td>\n",
       "      <td>73</td>\n",
       "      <td>89</td>\n",
       "      <td>54100</td>\n",
       "      <td>3</td>\n",
       "      <td>2</td>\n",
       "      <td>F</td>\n",
       "    </tr>\n",
       "    <tr>\n",
       "      <th>22</th>\n",
       "      <td>rina</td>\n",
       "      <td>EN</td>\n",
       "      <td>NaN</td>\n",
       "      <td>31</td>\n",
       "      <td>73</td>\n",
       "      <td>30000</td>\n",
       "      <td>5</td>\n",
       "      <td>3</td>\n",
       "      <td>F</td>\n",
       "    </tr>\n",
       "    <tr>\n",
       "      <th>23</th>\n",
       "      <td>shely</td>\n",
       "      <td>ISR</td>\n",
       "      <td>148.0</td>\n",
       "      <td>60</td>\n",
       "      <td>86</td>\n",
       "      <td>8000</td>\n",
       "      <td>3</td>\n",
       "      <td>1</td>\n",
       "      <td>F</td>\n",
       "    </tr>\n",
       "    <tr>\n",
       "      <th>24</th>\n",
       "      <td>talya</td>\n",
       "      <td>FR</td>\n",
       "      <td>167.0</td>\n",
       "      <td>67</td>\n",
       "      <td>89</td>\n",
       "      <td>10900</td>\n",
       "      <td>6</td>\n",
       "      <td>2</td>\n",
       "      <td>F</td>\n",
       "    </tr>\n",
       "    <tr>\n",
       "      <th>25</th>\n",
       "      <td>tomer</td>\n",
       "      <td>NaN</td>\n",
       "      <td>128.0</td>\n",
       "      <td>53</td>\n",
       "      <td>82</td>\n",
       "      <td>45000</td>\n",
       "      <td>4</td>\n",
       "      <td>3</td>\n",
       "      <td>M</td>\n",
       "    </tr>\n",
       "    <tr>\n",
       "      <th>26</th>\n",
       "      <td>udi</td>\n",
       "      <td>FR</td>\n",
       "      <td>NaN</td>\n",
       "      <td>55</td>\n",
       "      <td>85</td>\n",
       "      <td>35000</td>\n",
       "      <td>6</td>\n",
       "      <td>2</td>\n",
       "      <td>M</td>\n",
       "    </tr>\n",
       "    <tr>\n",
       "      <th>27</th>\n",
       "      <td>yafit</td>\n",
       "      <td>FR</td>\n",
       "      <td>180.0</td>\n",
       "      <td>90</td>\n",
       "      <td>93</td>\n",
       "      <td>12800</td>\n",
       "      <td>4</td>\n",
       "      <td>1</td>\n",
       "      <td>F</td>\n",
       "    </tr>\n",
       "    <tr>\n",
       "      <th>28</th>\n",
       "      <td>yoav</td>\n",
       "      <td>EN</td>\n",
       "      <td>120.0</td>\n",
       "      <td>36</td>\n",
       "      <td>74</td>\n",
       "      <td>17300</td>\n",
       "      <td>8</td>\n",
       "      <td>3</td>\n",
       "      <td>M</td>\n",
       "    </tr>\n",
       "    <tr>\n",
       "      <th>29</th>\n",
       "      <td>yosi</td>\n",
       "      <td>SP</td>\n",
       "      <td>110.0</td>\n",
       "      <td>32</td>\n",
       "      <td>74</td>\n",
       "      <td>22000</td>\n",
       "      <td>6</td>\n",
       "      <td>1</td>\n",
       "      <td>M</td>\n",
       "    </tr>\n",
       "  </tbody>\n",
       "</table>\n",
       "</div>"
      ],
      "text/plain": [
       "       Name Country  Height  Weight  avg  income  family  type gen\n",
       "0      adar      SP   113.0      30   70   16700       6     1   M\n",
       "1      agam      GR   172.0      71   92    9200       4     2   F\n",
       "2       avi     NaN   143.0      58   82   12000       7     1   M\n",
       "3      dani      US     NaN      70   90   15000       4     2   M\n",
       "4      dina     ISR   110.0      26   64   10000       8     1   F\n",
       "5     efrat     NaN   115.0      33   75    8000       5     3   F\n",
       "6      ehud     ISR   155.0      66   85   18000       7     1   M\n",
       "7       eli     NaN   155.0      61   84    8900      10     2   M\n",
       "8     ester     ISR     NaN      48   79   19600       4     1   F\n",
       "9   evyatar     NaN   110.0      34   72    7600       4     1   M\n",
       "10   itamar      EN   110.0      30   71   27000       5     2   M\n",
       "11     liel     NaN   142.0      55   84   24000       7     1   M\n",
       "12   lilach     ISR   192.0      88   94   23000       6     2   F\n",
       "13      mia     NaN     NaN      49   82   12800       5     3   F\n",
       "14   michal      US   132.0      53   79   20400       7     3   F\n",
       "15    moshe      GR   128.0      43   80   42000       5     3   M\n",
       "16     noya      SP    90.0      27   68   18200       5     1   F\n",
       "17     ofer     NaN     NaN      34   71    9300       8     1   M\n",
       "18     ohad     ISR   159.0      64   83   12700       8     1   M\n",
       "19     omer      US   162.0      68   87   34500       8     2   F\n",
       "21     orit     NaN   175.0      73   89   54100       3     2   F\n",
       "22     rina      EN     NaN      31   73   30000       5     3   F\n",
       "23    shely     ISR   148.0      60   86    8000       3     1   F\n",
       "24    talya      FR   167.0      67   89   10900       6     2   F\n",
       "25    tomer     NaN   128.0      53   82   45000       4     3   M\n",
       "26      udi      FR     NaN      55   85   35000       6     2   M\n",
       "27    yafit      FR   180.0      90   93   12800       4     1   F\n",
       "28     yoav      EN   120.0      36   74   17300       8     3   M\n",
       "29     yosi      SP   110.0      32   74   22000       6     1   M"
      ]
     },
     "execution_count": 167,
     "metadata": {},
     "output_type": "execute_result"
    }
   ],
   "source": [
    "df.drop(['rooms'],axis=1)"
   ]
  },
  {
   "cell_type": "code",
   "execution_count": 170,
   "metadata": {},
   "outputs": [
    {
     "data": {
      "text/html": [
       "<div>\n",
       "<style scoped>\n",
       "    .dataframe tbody tr th:only-of-type {\n",
       "        vertical-align: middle;\n",
       "    }\n",
       "\n",
       "    .dataframe tbody tr th {\n",
       "        vertical-align: top;\n",
       "    }\n",
       "\n",
       "    .dataframe thead th {\n",
       "        text-align: right;\n",
       "    }\n",
       "</style>\n",
       "<table border=\"1\" class=\"dataframe\">\n",
       "  <thead>\n",
       "    <tr style=\"text-align: right;\">\n",
       "      <th></th>\n",
       "      <th>Name</th>\n",
       "      <th>Country</th>\n",
       "      <th>Height</th>\n",
       "      <th>Weight</th>\n",
       "      <th>avg</th>\n",
       "      <th>income</th>\n",
       "      <th>rooms</th>\n",
       "      <th>family</th>\n",
       "      <th>type</th>\n",
       "      <th>gen</th>\n",
       "    </tr>\n",
       "  </thead>\n",
       "  <tbody>\n",
       "    <tr>\n",
       "      <th>0</th>\n",
       "      <td>adar</td>\n",
       "      <td>SP</td>\n",
       "      <td>113.0</td>\n",
       "      <td>30</td>\n",
       "      <td>70</td>\n",
       "      <td>16700</td>\n",
       "      <td>7</td>\n",
       "      <td>6</td>\n",
       "      <td>1</td>\n",
       "      <td>1</td>\n",
       "    </tr>\n",
       "    <tr>\n",
       "      <th>1</th>\n",
       "      <td>agam</td>\n",
       "      <td>GR</td>\n",
       "      <td>172.0</td>\n",
       "      <td>71</td>\n",
       "      <td>92</td>\n",
       "      <td>9200</td>\n",
       "      <td>5</td>\n",
       "      <td>4</td>\n",
       "      <td>2</td>\n",
       "      <td>2</td>\n",
       "    </tr>\n",
       "    <tr>\n",
       "      <th>2</th>\n",
       "      <td>avi</td>\n",
       "      <td>NaN</td>\n",
       "      <td>143.0</td>\n",
       "      <td>58</td>\n",
       "      <td>82</td>\n",
       "      <td>12000</td>\n",
       "      <td>3</td>\n",
       "      <td>7</td>\n",
       "      <td>1</td>\n",
       "      <td>1</td>\n",
       "    </tr>\n",
       "    <tr>\n",
       "      <th>3</th>\n",
       "      <td>dani</td>\n",
       "      <td>US</td>\n",
       "      <td>NaN</td>\n",
       "      <td>70</td>\n",
       "      <td>90</td>\n",
       "      <td>15000</td>\n",
       "      <td>4</td>\n",
       "      <td>4</td>\n",
       "      <td>2</td>\n",
       "      <td>1</td>\n",
       "    </tr>\n",
       "    <tr>\n",
       "      <th>4</th>\n",
       "      <td>dina</td>\n",
       "      <td>ISR</td>\n",
       "      <td>110.0</td>\n",
       "      <td>26</td>\n",
       "      <td>64</td>\n",
       "      <td>10000</td>\n",
       "      <td>6</td>\n",
       "      <td>8</td>\n",
       "      <td>1</td>\n",
       "      <td>2</td>\n",
       "    </tr>\n",
       "  </tbody>\n",
       "</table>\n",
       "</div>"
      ],
      "text/plain": [
       "   Name Country  Height  Weight  avg  income  rooms  family  type  gen\n",
       "0  adar      SP   113.0      30   70   16700      7       6     1    1\n",
       "1  agam      GR   172.0      71   92    9200      5       4     2    2\n",
       "2   avi     NaN   143.0      58   82   12000      3       7     1    1\n",
       "3  dani      US     NaN      70   90   15000      4       4     2    1\n",
       "4  dina     ISR   110.0      26   64   10000      6       8     1    2"
      ]
     },
     "execution_count": 170,
     "metadata": {},
     "output_type": "execute_result"
    }
   ],
   "source": [
    "df.head()"
   ]
  },
  {
   "cell_type": "code",
   "execution_count": 169,
   "metadata": {},
   "outputs": [],
   "source": [
    "df.gen.replace({'M':1 ,'F':2},inplace=True)"
   ]
  },
  {
   "cell_type": "code",
   "execution_count": 171,
   "metadata": {},
   "outputs": [],
   "source": [
    "df['inc_f'] = df.income / df.family"
   ]
  },
  {
   "cell_type": "code",
   "execution_count": 182,
   "metadata": {},
   "outputs": [
    {
     "data": {
      "text/html": [
       "<div>\n",
       "<style scoped>\n",
       "    .dataframe tbody tr th:only-of-type {\n",
       "        vertical-align: middle;\n",
       "    }\n",
       "\n",
       "    .dataframe tbody tr th {\n",
       "        vertical-align: top;\n",
       "    }\n",
       "\n",
       "    .dataframe thead th {\n",
       "        text-align: right;\n",
       "    }\n",
       "</style>\n",
       "<table border=\"1\" class=\"dataframe\">\n",
       "  <thead>\n",
       "    <tr style=\"text-align: right;\">\n",
       "      <th></th>\n",
       "      <th>Name</th>\n",
       "      <th>Country</th>\n",
       "      <th>Height</th>\n",
       "      <th>Weight</th>\n",
       "      <th>avg</th>\n",
       "      <th>income</th>\n",
       "      <th>rooms</th>\n",
       "      <th>family</th>\n",
       "      <th>type</th>\n",
       "      <th>gen</th>\n",
       "      <th>inc_f</th>\n",
       "      <th>n1</th>\n",
       "      <th>n2</th>\n",
       "      <th>inclevel</th>\n",
       "    </tr>\n",
       "  </thead>\n",
       "  <tbody>\n",
       "    <tr>\n",
       "      <th>0</th>\n",
       "      <td>adar</td>\n",
       "      <td>SP</td>\n",
       "      <td>113.0</td>\n",
       "      <td>30</td>\n",
       "      <td>70</td>\n",
       "      <td>16700</td>\n",
       "      <td>7</td>\n",
       "      <td>6</td>\n",
       "      <td>1</td>\n",
       "      <td>1</td>\n",
       "      <td>2783.333333</td>\n",
       "      <td>5566.666667</td>\n",
       "      <td>4</td>\n",
       "      <td>2</td>\n",
       "    </tr>\n",
       "    <tr>\n",
       "      <th>1</th>\n",
       "      <td>agam</td>\n",
       "      <td>GR</td>\n",
       "      <td>172.0</td>\n",
       "      <td>71</td>\n",
       "      <td>92</td>\n",
       "      <td>9200</td>\n",
       "      <td>5</td>\n",
       "      <td>4</td>\n",
       "      <td>2</td>\n",
       "      <td>2</td>\n",
       "      <td>2300.000000</td>\n",
       "      <td>3066.666667</td>\n",
       "      <td>4</td>\n",
       "      <td>1</td>\n",
       "    </tr>\n",
       "    <tr>\n",
       "      <th>2</th>\n",
       "      <td>avi</td>\n",
       "      <td>NaN</td>\n",
       "      <td>143.0</td>\n",
       "      <td>58</td>\n",
       "      <td>82</td>\n",
       "      <td>12000</td>\n",
       "      <td>3</td>\n",
       "      <td>7</td>\n",
       "      <td>1</td>\n",
       "      <td>1</td>\n",
       "      <td>1714.285714</td>\n",
       "      <td>4000.000000</td>\n",
       "      <td>3</td>\n",
       "      <td>1</td>\n",
       "    </tr>\n",
       "    <tr>\n",
       "      <th>3</th>\n",
       "      <td>dani</td>\n",
       "      <td>US</td>\n",
       "      <td>NaN</td>\n",
       "      <td>70</td>\n",
       "      <td>90</td>\n",
       "      <td>15000</td>\n",
       "      <td>4</td>\n",
       "      <td>4</td>\n",
       "      <td>2</td>\n",
       "      <td>1</td>\n",
       "      <td>3750.000000</td>\n",
       "      <td>5000.000000</td>\n",
       "      <td>4</td>\n",
       "      <td>2</td>\n",
       "    </tr>\n",
       "    <tr>\n",
       "      <th>4</th>\n",
       "      <td>dina</td>\n",
       "      <td>ISR</td>\n",
       "      <td>110.0</td>\n",
       "      <td>26</td>\n",
       "      <td>64</td>\n",
       "      <td>10000</td>\n",
       "      <td>6</td>\n",
       "      <td>8</td>\n",
       "      <td>1</td>\n",
       "      <td>2</td>\n",
       "      <td>1250.000000</td>\n",
       "      <td>3333.333333</td>\n",
       "      <td>4</td>\n",
       "      <td>1</td>\n",
       "    </tr>\n",
       "  </tbody>\n",
       "</table>\n",
       "</div>"
      ],
      "text/plain": [
       "   Name Country  Height  Weight  avg  income  rooms  family  type  gen  \\\n",
       "0  adar      SP   113.0      30   70   16700      7       6     1    1   \n",
       "1  agam      GR   172.0      71   92    9200      5       4     2    2   \n",
       "2   avi     NaN   143.0      58   82   12000      3       7     1    1   \n",
       "3  dani      US     NaN      70   90   15000      4       4     2    1   \n",
       "4  dina     ISR   110.0      26   64   10000      6       8     1    2   \n",
       "\n",
       "         inc_f           n1  n2  inclevel  \n",
       "0  2783.333333  5566.666667   4         2  \n",
       "1  2300.000000  3066.666667   4         1  \n",
       "2  1714.285714  4000.000000   3         1  \n",
       "3  3750.000000  5000.000000   4         2  \n",
       "4  1250.000000  3333.333333   4         1  "
      ]
     },
     "execution_count": 182,
     "metadata": {},
     "output_type": "execute_result"
    }
   ],
   "source": [
    "df.head()"
   ]
  },
  {
   "cell_type": "code",
   "execution_count": 173,
   "metadata": {},
   "outputs": [],
   "source": [
    "df['n1'] = df.income / 3"
   ]
  },
  {
   "cell_type": "code",
   "execution_count": 178,
   "metadata": {},
   "outputs": [],
   "source": [
    "df['n2'] = df.Name.apply(len)"
   ]
  },
  {
   "cell_type": "code",
   "execution_count": 180,
   "metadata": {},
   "outputs": [],
   "source": [
    "def fn(inc):\n",
    "    if inc < 15000:\n",
    "        return 1\n",
    "    elif inc < 30000:\n",
    "        return 2\n",
    "    else:\n",
    "        return 3"
   ]
  },
  {
   "cell_type": "code",
   "execution_count": 181,
   "metadata": {},
   "outputs": [],
   "source": [
    "df['inclevel'] = df.income.apply(fn)"
   ]
  },
  {
   "cell_type": "code",
   "execution_count": 183,
   "metadata": {},
   "outputs": [],
   "source": [
    "def op2(row):\n",
    "    if row.avg > 75:\n",
    "        return row.rooms * row.gen\n",
    "    else:\n",
    "        return row.family + row.type"
   ]
  },
  {
   "cell_type": "code",
   "execution_count": 184,
   "metadata": {},
   "outputs": [],
   "source": [
    "df['n3'] = df.apply(op2,axis=1)"
   ]
  },
  {
   "cell_type": "code",
   "execution_count": 185,
   "metadata": {},
   "outputs": [
    {
     "data": {
      "text/html": [
       "<div>\n",
       "<style scoped>\n",
       "    .dataframe tbody tr th:only-of-type {\n",
       "        vertical-align: middle;\n",
       "    }\n",
       "\n",
       "    .dataframe tbody tr th {\n",
       "        vertical-align: top;\n",
       "    }\n",
       "\n",
       "    .dataframe thead th {\n",
       "        text-align: right;\n",
       "    }\n",
       "</style>\n",
       "<table border=\"1\" class=\"dataframe\">\n",
       "  <thead>\n",
       "    <tr style=\"text-align: right;\">\n",
       "      <th></th>\n",
       "      <th>Name</th>\n",
       "      <th>Country</th>\n",
       "      <th>Height</th>\n",
       "      <th>Weight</th>\n",
       "      <th>avg</th>\n",
       "      <th>income</th>\n",
       "      <th>rooms</th>\n",
       "      <th>family</th>\n",
       "      <th>type</th>\n",
       "      <th>gen</th>\n",
       "      <th>inc_f</th>\n",
       "      <th>n1</th>\n",
       "      <th>n2</th>\n",
       "      <th>inclevel</th>\n",
       "      <th>n3</th>\n",
       "    </tr>\n",
       "  </thead>\n",
       "  <tbody>\n",
       "    <tr>\n",
       "      <th>0</th>\n",
       "      <td>adar</td>\n",
       "      <td>SP</td>\n",
       "      <td>113.0</td>\n",
       "      <td>30</td>\n",
       "      <td>70</td>\n",
       "      <td>16700</td>\n",
       "      <td>7</td>\n",
       "      <td>6</td>\n",
       "      <td>1</td>\n",
       "      <td>1</td>\n",
       "      <td>2783.333333</td>\n",
       "      <td>5566.666667</td>\n",
       "      <td>4</td>\n",
       "      <td>2</td>\n",
       "      <td>7</td>\n",
       "    </tr>\n",
       "    <tr>\n",
       "      <th>1</th>\n",
       "      <td>agam</td>\n",
       "      <td>GR</td>\n",
       "      <td>172.0</td>\n",
       "      <td>71</td>\n",
       "      <td>92</td>\n",
       "      <td>9200</td>\n",
       "      <td>5</td>\n",
       "      <td>4</td>\n",
       "      <td>2</td>\n",
       "      <td>2</td>\n",
       "      <td>2300.000000</td>\n",
       "      <td>3066.666667</td>\n",
       "      <td>4</td>\n",
       "      <td>1</td>\n",
       "      <td>10</td>\n",
       "    </tr>\n",
       "    <tr>\n",
       "      <th>2</th>\n",
       "      <td>avi</td>\n",
       "      <td>NaN</td>\n",
       "      <td>143.0</td>\n",
       "      <td>58</td>\n",
       "      <td>82</td>\n",
       "      <td>12000</td>\n",
       "      <td>3</td>\n",
       "      <td>7</td>\n",
       "      <td>1</td>\n",
       "      <td>1</td>\n",
       "      <td>1714.285714</td>\n",
       "      <td>4000.000000</td>\n",
       "      <td>3</td>\n",
       "      <td>1</td>\n",
       "      <td>3</td>\n",
       "    </tr>\n",
       "    <tr>\n",
       "      <th>3</th>\n",
       "      <td>dani</td>\n",
       "      <td>US</td>\n",
       "      <td>NaN</td>\n",
       "      <td>70</td>\n",
       "      <td>90</td>\n",
       "      <td>15000</td>\n",
       "      <td>4</td>\n",
       "      <td>4</td>\n",
       "      <td>2</td>\n",
       "      <td>1</td>\n",
       "      <td>3750.000000</td>\n",
       "      <td>5000.000000</td>\n",
       "      <td>4</td>\n",
       "      <td>2</td>\n",
       "      <td>4</td>\n",
       "    </tr>\n",
       "    <tr>\n",
       "      <th>4</th>\n",
       "      <td>dina</td>\n",
       "      <td>ISR</td>\n",
       "      <td>110.0</td>\n",
       "      <td>26</td>\n",
       "      <td>64</td>\n",
       "      <td>10000</td>\n",
       "      <td>6</td>\n",
       "      <td>8</td>\n",
       "      <td>1</td>\n",
       "      <td>2</td>\n",
       "      <td>1250.000000</td>\n",
       "      <td>3333.333333</td>\n",
       "      <td>4</td>\n",
       "      <td>1</td>\n",
       "      <td>9</td>\n",
       "    </tr>\n",
       "  </tbody>\n",
       "</table>\n",
       "</div>"
      ],
      "text/plain": [
       "   Name Country  Height  Weight  avg  income  rooms  family  type  gen  \\\n",
       "0  adar      SP   113.0      30   70   16700      7       6     1    1   \n",
       "1  agam      GR   172.0      71   92    9200      5       4     2    2   \n",
       "2   avi     NaN   143.0      58   82   12000      3       7     1    1   \n",
       "3  dani      US     NaN      70   90   15000      4       4     2    1   \n",
       "4  dina     ISR   110.0      26   64   10000      6       8     1    2   \n",
       "\n",
       "         inc_f           n1  n2  inclevel  n3  \n",
       "0  2783.333333  5566.666667   4         2   7  \n",
       "1  2300.000000  3066.666667   4         1  10  \n",
       "2  1714.285714  4000.000000   3         1   3  \n",
       "3  3750.000000  5000.000000   4         2   4  \n",
       "4  1250.000000  3333.333333   4         1   9  "
      ]
     },
     "execution_count": 185,
     "metadata": {},
     "output_type": "execute_result"
    }
   ],
   "source": [
    "df.head()"
   ]
  },
  {
   "cell_type": "code",
   "execution_count": null,
   "metadata": {},
   "outputs": [],
   "source": []
  },
  {
   "cell_type": "code",
   "execution_count": null,
   "metadata": {},
   "outputs": [],
   "source": []
  },
  {
   "cell_type": "code",
   "execution_count": 21,
   "metadata": {},
   "outputs": [],
   "source": [
    "import numpy as np"
   ]
  },
  {
   "cell_type": "code",
   "execution_count": 25,
   "metadata": {},
   "outputs": [],
   "source": [
    "arr1 = np.array([48,48,52,52])\n",
    "arr2 = np.array([0,0,100,100])"
   ]
  },
  {
   "cell_type": "code",
   "execution_count": 26,
   "metadata": {},
   "outputs": [
    {
     "data": {
      "text/plain": [
       "50.0"
      ]
     },
     "execution_count": 26,
     "metadata": {},
     "output_type": "execute_result"
    }
   ],
   "source": [
    "arr1.mean()"
   ]
  },
  {
   "cell_type": "code",
   "execution_count": 27,
   "metadata": {},
   "outputs": [
    {
     "data": {
      "text/plain": [
       "2.0"
      ]
     },
     "execution_count": 27,
     "metadata": {},
     "output_type": "execute_result"
    }
   ],
   "source": [
    "arr1.std()"
   ]
  },
  {
   "cell_type": "code",
   "execution_count": 28,
   "metadata": {},
   "outputs": [
    {
     "data": {
      "text/plain": [
       "50.0"
      ]
     },
     "execution_count": 28,
     "metadata": {},
     "output_type": "execute_result"
    }
   ],
   "source": [
    "arr2.mean()"
   ]
  },
  {
   "cell_type": "code",
   "execution_count": 29,
   "metadata": {},
   "outputs": [
    {
     "data": {
      "text/plain": [
       "50.0"
      ]
     },
     "execution_count": 29,
     "metadata": {},
     "output_type": "execute_result"
    }
   ],
   "source": [
    "arr2.std()"
   ]
  },
  {
   "cell_type": "code",
   "execution_count": null,
   "metadata": {},
   "outputs": [],
   "source": []
  }
 ],
 "metadata": {
  "kernelspec": {
   "display_name": "Python 3",
   "language": "python",
   "name": "python3"
  },
  "language_info": {
   "codemirror_mode": {
    "name": "ipython",
    "version": 3
   },
   "file_extension": ".py",
   "mimetype": "text/x-python",
   "name": "python",
   "nbconvert_exporter": "python",
   "pygments_lexer": "ipython3",
   "version": "3.7.3"
  }
 },
 "nbformat": 4,
 "nbformat_minor": 2
}
